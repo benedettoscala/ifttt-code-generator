{
  "cells": [
    {
      "cell_type": "markdown",
      "metadata": {
        "id": "view-in-github",
        "colab_type": "text"
      },
      "source": [
        "<a href=\"https://colab.research.google.com/github/benedettoscala/ifttt-code-generator/blob/main/bart_nl2ifttt.ipynb\" target=\"_parent\"><img src=\"https://colab.research.google.com/assets/colab-badge.svg\" alt=\"Open In Colab\"/></a>"
      ]
    },
    {
      "cell_type": "markdown",
      "source": [
        "### Environment Setup\n",
        "In this section, we install the necessary dependencies for the notebook. The libraries `evaluate` and `rouge_score` are installed to facilitate text evaluation, particularly for computing ROUGE scores, which are commonly used for assessing the quality of text generation models.\n",
        "\n"
      ],
      "metadata": {
        "id": "YGS9ZEtONUh1"
      }
    },
    {
      "cell_type": "code",
      "execution_count": 1,
      "metadata": {
        "_cell_guid": "b1076dfc-b9ad-4769-8c92-a6c4dae69d19",
        "_uuid": "8f2839f25d086af736a60e9eeb907d3b93b6e0e5",
        "trusted": true,
        "colab": {
          "base_uri": "https://localhost:8080/"
        },
        "id": "UmyuqPXtDOv5",
        "outputId": "42a9c09d-35d9-4931-e3ab-0184c2be6555"
      },
      "outputs": [
        {
          "output_type": "stream",
          "name": "stdout",
          "text": [
            "Requirement already satisfied: evaluate in /usr/local/lib/python3.11/dist-packages (0.4.3)\n",
            "Requirement already satisfied: datasets>=2.0.0 in /usr/local/lib/python3.11/dist-packages (from evaluate) (3.2.0)\n",
            "Requirement already satisfied: numpy>=1.17 in /usr/local/lib/python3.11/dist-packages (from evaluate) (1.26.4)\n",
            "Requirement already satisfied: dill in /usr/local/lib/python3.11/dist-packages (from evaluate) (0.3.8)\n",
            "Requirement already satisfied: pandas in /usr/local/lib/python3.11/dist-packages (from evaluate) (2.2.2)\n",
            "Requirement already satisfied: requests>=2.19.0 in /usr/local/lib/python3.11/dist-packages (from evaluate) (2.32.3)\n",
            "Requirement already satisfied: tqdm>=4.62.1 in /usr/local/lib/python3.11/dist-packages (from evaluate) (4.67.1)\n",
            "Requirement already satisfied: xxhash in /usr/local/lib/python3.11/dist-packages (from evaluate) (3.5.0)\n",
            "Requirement already satisfied: multiprocess in /usr/local/lib/python3.11/dist-packages (from evaluate) (0.70.16)\n",
            "Requirement already satisfied: fsspec>=2021.05.0 in /usr/local/lib/python3.11/dist-packages (from fsspec[http]>=2021.05.0->evaluate) (2024.9.0)\n",
            "Requirement already satisfied: huggingface-hub>=0.7.0 in /usr/local/lib/python3.11/dist-packages (from evaluate) (0.27.1)\n",
            "Requirement already satisfied: packaging in /usr/local/lib/python3.11/dist-packages (from evaluate) (24.2)\n",
            "Requirement already satisfied: filelock in /usr/local/lib/python3.11/dist-packages (from datasets>=2.0.0->evaluate) (3.17.0)\n",
            "Requirement already satisfied: pyarrow>=15.0.0 in /usr/local/lib/python3.11/dist-packages (from datasets>=2.0.0->evaluate) (17.0.0)\n",
            "Requirement already satisfied: aiohttp in /usr/local/lib/python3.11/dist-packages (from datasets>=2.0.0->evaluate) (3.11.11)\n",
            "Requirement already satisfied: pyyaml>=5.1 in /usr/local/lib/python3.11/dist-packages (from datasets>=2.0.0->evaluate) (6.0.2)\n",
            "Requirement already satisfied: typing-extensions>=3.7.4.3 in /usr/local/lib/python3.11/dist-packages (from huggingface-hub>=0.7.0->evaluate) (4.12.2)\n",
            "Requirement already satisfied: charset-normalizer<4,>=2 in /usr/local/lib/python3.11/dist-packages (from requests>=2.19.0->evaluate) (3.4.1)\n",
            "Requirement already satisfied: idna<4,>=2.5 in /usr/local/lib/python3.11/dist-packages (from requests>=2.19.0->evaluate) (3.10)\n",
            "Requirement already satisfied: urllib3<3,>=1.21.1 in /usr/local/lib/python3.11/dist-packages (from requests>=2.19.0->evaluate) (2.3.0)\n",
            "Requirement already satisfied: certifi>=2017.4.17 in /usr/local/lib/python3.11/dist-packages (from requests>=2.19.0->evaluate) (2024.12.14)\n",
            "Requirement already satisfied: python-dateutil>=2.8.2 in /usr/local/lib/python3.11/dist-packages (from pandas->evaluate) (2.8.2)\n",
            "Requirement already satisfied: pytz>=2020.1 in /usr/local/lib/python3.11/dist-packages (from pandas->evaluate) (2024.2)\n",
            "Requirement already satisfied: tzdata>=2022.7 in /usr/local/lib/python3.11/dist-packages (from pandas->evaluate) (2025.1)\n",
            "Requirement already satisfied: aiohappyeyeballs>=2.3.0 in /usr/local/lib/python3.11/dist-packages (from aiohttp->datasets>=2.0.0->evaluate) (2.4.4)\n",
            "Requirement already satisfied: aiosignal>=1.1.2 in /usr/local/lib/python3.11/dist-packages (from aiohttp->datasets>=2.0.0->evaluate) (1.3.2)\n",
            "Requirement already satisfied: attrs>=17.3.0 in /usr/local/lib/python3.11/dist-packages (from aiohttp->datasets>=2.0.0->evaluate) (25.1.0)\n",
            "Requirement already satisfied: frozenlist>=1.1.1 in /usr/local/lib/python3.11/dist-packages (from aiohttp->datasets>=2.0.0->evaluate) (1.5.0)\n",
            "Requirement already satisfied: multidict<7.0,>=4.5 in /usr/local/lib/python3.11/dist-packages (from aiohttp->datasets>=2.0.0->evaluate) (6.1.0)\n",
            "Requirement already satisfied: propcache>=0.2.0 in /usr/local/lib/python3.11/dist-packages (from aiohttp->datasets>=2.0.0->evaluate) (0.2.1)\n",
            "Requirement already satisfied: yarl<2.0,>=1.17.0 in /usr/local/lib/python3.11/dist-packages (from aiohttp->datasets>=2.0.0->evaluate) (1.18.3)\n",
            "Requirement already satisfied: six>=1.5 in /usr/local/lib/python3.11/dist-packages (from python-dateutil>=2.8.2->pandas->evaluate) (1.17.0)\n",
            "Requirement already satisfied: rouge_score in /usr/local/lib/python3.11/dist-packages (0.1.2)\n",
            "Requirement already satisfied: absl-py in /usr/local/lib/python3.11/dist-packages (from rouge_score) (1.4.0)\n",
            "Requirement already satisfied: nltk in /usr/local/lib/python3.11/dist-packages (from rouge_score) (3.9.1)\n",
            "Requirement already satisfied: numpy in /usr/local/lib/python3.11/dist-packages (from rouge_score) (1.26.4)\n",
            "Requirement already satisfied: six>=1.14.0 in /usr/local/lib/python3.11/dist-packages (from rouge_score) (1.17.0)\n",
            "Requirement already satisfied: click in /usr/local/lib/python3.11/dist-packages (from nltk->rouge_score) (8.1.8)\n",
            "Requirement already satisfied: joblib in /usr/local/lib/python3.11/dist-packages (from nltk->rouge_score) (1.4.2)\n",
            "Requirement already satisfied: regex>=2021.8.3 in /usr/local/lib/python3.11/dist-packages (from nltk->rouge_score) (2024.11.6)\n",
            "Requirement already satisfied: tqdm in /usr/local/lib/python3.11/dist-packages (from nltk->rouge_score) (4.67.1)\n"
          ]
        }
      ],
      "source": [
        "!pip install evaluate\n",
        "!pip install rouge_score"
      ]
    },
    {
      "cell_type": "markdown",
      "source": [
        "\n",
        "### Repository Cloning and Setup\n",
        "We clone the `ifttt-code-generator` repository from GitHub, which contains the required code for this project. After cloning, we navigate into the repository directory and pull the latest changes to ensure we have the most up-to-date version."
      ],
      "metadata": {
        "id": "YoLwrVmoNXGQ"
      }
    },
    {
      "cell_type": "code",
      "source": [
        "!git clone https://github.com/benedettoscala/ifttt-code-generator\n",
        "%cd ifttt-code-generator/\n",
        "!git pull"
      ],
      "metadata": {
        "colab": {
          "base_uri": "https://localhost:8080/"
        },
        "id": "KLpELkCb5Yez",
        "outputId": "639c178a-7568-4e73-f50a-018b690279b7"
      },
      "execution_count": 2,
      "outputs": [
        {
          "output_type": "stream",
          "name": "stdout",
          "text": [
            "fatal: destination path 'ifttt-code-generator' already exists and is not an empty directory.\n",
            "/content/ifttt-code-generator\n",
            "Already up to date.\n"
          ]
        }
      ]
    },
    {
      "cell_type": "markdown",
      "source": [
        "### Dataset Processing and Tokenization\n",
        "This section of the notebook performs dataset loading, cleaning, and tokenization using the `facebook/bart-large` tokenizer.\n",
        "\n",
        "- First, the necessary libraries (`pandas`, `numpy`, `matplotlib.pyplot`, and `transformers`) are imported.\n",
        "- The `facebook/bart-large` tokenizer is loaded, and if no padding token is defined, it is set to the EOS token.\n",
        "- A dataset is loaded from a CSV file (`datasets/cleaned_and_combined.csv`), and data cleaning is applied by removing missing values and duplicate entries in the relevant columns.\n",
        "- Each sample in the dataset is tokenized separately for the description, code, and the combined text using a separator (`\\n###\\n`).\n",
        "- Token length statistics (min, max, mean, and median) are computed for the description, code, and full text.\n",
        "- Finally, a histogram is plotted to visualize the distribution of token lengths in the dataset, with a reference line at 256 tokens to help assess token length constraints.\n"
      ],
      "metadata": {
        "id": "ZmYmiuKWNZPF"
      }
    },
    {
      "cell_type": "code",
      "source": [
        "import pandas as pd\n",
        "import numpy as np\n",
        "import matplotlib.pyplot as plt\n",
        "from transformers import AutoTokenizer\n",
        "\n",
        "# Imposta il checkpoint del modello (BART-large)\n",
        "model_checkpoint = \"facebook/bart-large\"\n",
        "\n",
        "# Carica il tokenizer per facebook/bart-large\n",
        "tokenizer = AutoTokenizer.from_pretrained(model_checkpoint)\n",
        "# Se il tokenizer non ha un token di padding definito, impostalo uguale al token EOS\n",
        "if tokenizer.pad_token is None:\n",
        "    tokenizer.pad_token = tokenizer.eos_token\n",
        "\n",
        "# Carica il dataset\n",
        "csv_path = \"datasets/cleaned_and_combined.csv\"\n",
        "df = pd.read_csv(csv_path)\n",
        "\n",
        "# Rimuovi righe con valori mancanti e duplicati nelle colonne di interesse\n",
        "df.dropna(subset=[\"cleaned_description\", \"filter_code\"], inplace=True)\n",
        "df.drop_duplicates(subset=[\"cleaned_description\", \"filter_code\"], inplace=True)\n",
        "\n",
        "# Definisci un separatore per unire descrizione e codice\n",
        "separator = \"\\n###\\n\"\n",
        "\n",
        "# Liste per salvare le lunghezze in token\n",
        "description_lengths = []\n",
        "code_lengths = []\n",
        "combined_lengths = []\n",
        "\n",
        "# Itera su ogni esempio nel dataset\n",
        "for _, row in df.iterrows():\n",
        "    description = row[\"cleaned_description\"]\n",
        "    code = row[\"filter_code\"]\n",
        "\n",
        "    # Tokenizza la descrizione senza troncamento\n",
        "    desc_tokens = tokenizer.encode(description, truncation=False)\n",
        "    # Tokenizza il codice senza troncamento\n",
        "    code_tokens = tokenizer.encode(code, truncation=False)\n",
        "    # Tokenizza la concatenazione: descrizione + separatore + codice\n",
        "    combined_text = description + separator + code\n",
        "    combined_tokens = tokenizer.encode(combined_text, truncation=False)\n",
        "\n",
        "    # Salva le lunghezze\n",
        "    description_lengths.append(len(desc_tokens))\n",
        "    code_lengths.append(len(code_tokens))\n",
        "    combined_lengths.append(len(combined_tokens))\n",
        "\n",
        "# Funzione per stampare statistiche (min, max, media, mediana)\n",
        "def print_stats(name, lengths):\n",
        "    print(f\"Statistiche per {name}:\")\n",
        "    print(\"  Min:\", np.min(lengths))\n",
        "    print(\"  Max:\", np.max(lengths))\n",
        "    print(\"  Media:\", np.mean(lengths))\n",
        "    print(\"  Mediana:\", np.median(lengths))\n",
        "    print()\n",
        "\n",
        "print_stats(\"la descrizione\", description_lengths)\n",
        "print_stats(\"il codice\", code_lengths)\n",
        "print_stats(\"il testo completo (descrizione + codice)\", combined_lengths)\n",
        "\n",
        "# Visualizza la distribuzione della lunghezza in token del testo completo\n",
        "plt.figure(figsize=(10, 5))\n",
        "plt.hist(combined_lengths, bins=50, color='skyblue', edgecolor='black', alpha=0.7)\n",
        "plt.axvline(256, color='red', linestyle='dashed', linewidth=2, label=\"256 token\")\n",
        "plt.title(\"Distribuzione della lunghezza dei testi (in token) per facebook/bart-large\")\n",
        "plt.xlabel(\"Numero di token\")\n",
        "plt.ylabel(\"Frequenza\")\n",
        "plt.legend()\n",
        "plt.show()"
      ],
      "metadata": {
        "colab": {
          "base_uri": "https://localhost:8080/",
          "height": 799
        },
        "id": "J-yM4u9v5KQk",
        "outputId": "b15d1cb2-6672-457c-9e05-bd7adf3cfc9a"
      },
      "execution_count": 3,
      "outputs": [
        {
          "output_type": "stream",
          "name": "stdout",
          "text": [
            "Statistiche per la descrizione:\n",
            "  Min: 6\n",
            "  Max: 63\n",
            "  Media: 25.476190476190474\n",
            "  Mediana: 24.0\n",
            "\n",
            "Statistiche per il codice:\n",
            "  Min: 16\n",
            "  Max: 177\n",
            "  Media: 69.81547619047619\n",
            "  Mediana: 61.5\n",
            "\n",
            "Statistiche per il testo completo (descrizione + codice):\n",
            "  Min: 28\n",
            "  Max: 197\n",
            "  Media: 96.29166666666667\n",
            "  Mediana: 88.0\n",
            "\n"
          ]
        },
        {
          "output_type": "display_data",
          "data": {
            "text/plain": [
              "<Figure size 1000x500 with 1 Axes>"
            ],
            "image/png": "[encoded data removed]"
          },
          "metadata": {}
        }
      ]
    },
    {
      "cell_type": "markdown",
      "metadata": {
        "id": "123qky9TDOv7"
      },
      "source": [
        "### Import Libraries"
      ]
    },
    {
      "cell_type": "code",
      "execution_count": 4,
      "metadata": {
        "trusted": true,
        "id": "RrEpZTnvDOv8"
      },
      "outputs": [],
      "source": [
        "from transformers import AutoTokenizer, BartForConditionalGeneration\n",
        "from datasets import load_dataset,load_from_disk\n",
        "import torch\n",
        "import numpy as np\n",
        "import nltk\n",
        "from nltk.tokenize import sent_tokenize"
      ]
    },
    {
      "cell_type": "markdown",
      "metadata": {
        "id": "CXxDkkOnDOv8"
      },
      "source": [
        "### Preprocessing Data"
      ]
    },
    {
      "cell_type": "code",
      "execution_count": 5,
      "metadata": {
        "id": "qG7EmiWxDOv8"
      },
      "outputs": [],
      "source": [
        "import os"
      ]
    },
    {
      "cell_type": "code",
      "source": [
        "%cd .."
      ],
      "metadata": {
        "colab": {
          "base_uri": "https://localhost:8080/"
        },
        "id": "F_0RpXuE52Ro",
        "outputId": "080f1665-10d8-4c46-bb7c-07917e04e5e2"
      },
      "execution_count": 6,
      "outputs": [
        {
          "output_type": "stream",
          "name": "stdout",
          "text": [
            "/content\n"
          ]
        }
      ]
    },
    {
      "cell_type": "markdown",
      "source": [
        "### Dataset Loading and Splitting\n",
        "This section of the notebook loads and processes the dataset for training and evaluation.\n",
        "\n",
        "- The dataset is loaded from a CSV file using `pandas`.\n",
        "- Data cleaning is applied by removing missing values and duplicate entries in the `cleaned_description` and `filter_code` columns.\n",
        "- The dataset is then split into training (80%) and testing (20%) subsets using `train_test_split`, ensuring reproducibility with a fixed random seed (`random_state=42`).\n",
        "- The `pandas` DataFrames are converted into Hugging Face `Dataset` objects for better compatibility with NLP models.\n",
        "- Finally, the dataset is structured into a `DatasetDict`, which organizes the training and testing sets for further processing.\n",
        "\n",
        "The number of examples in the training and test sets is printed at the end to confirm the split.\n"
      ],
      "metadata": {
        "id": "3epzzMzANcVb"
      }
    },
    {
      "cell_type": "code",
      "execution_count": 7,
      "metadata": {
        "id": "yZRG7y2MDOv9"
      },
      "outputs": [],
      "source": [
        "base_path = os.getcwd()\n",
        "absolute_path = os.path.join(base_path,r'ifttt-code-generator/datasets/cleaned_and_combined.csv')"
      ]
    },
    {
      "cell_type": "code",
      "execution_count": 8,
      "metadata": {
        "trusted": true,
        "colab": {
          "base_uri": "https://localhost:8080/"
        },
        "id": "tsnlWoZFDOv9",
        "outputId": "d299c305-5f48-4a36-db17-4e688bdb0279"
      },
      "outputs": [
        {
          "output_type": "stream",
          "name": "stdout",
          "text": [
            "Train set size: 134\n",
            "Test set size: 34\n"
          ]
        }
      ],
      "source": [
        "from sklearn.model_selection import train_test_split\n",
        "import pandas as pd\n",
        "from datasets import Dataset, DatasetDict\n",
        "\n",
        "# Caricamento del dataset\n",
        "csv_path = \"ifttt-code-generatordatasets/cleaned_and_combined.csv\"\n",
        "df = pd.read_csv(absolute_path)\n",
        "\n",
        "#droppa i duplicati e i valori nulli se ci sono\n",
        "df.dropna(subset=[\"cleaned_description\", \"filter_code\"], inplace=True)\n",
        "df.drop_duplicates(subset=[\"cleaned_description\", \"filter_code\"], inplace=True)\n",
        "\n",
        "# Suddivisione in train e test set (80%-20%)\n",
        "train_df, test_df = train_test_split(df, test_size=0.2, random_state=42)\n",
        "\n",
        "# Convertiamo i DataFrame in Dataset Hugging Face\n",
        "train_dataset = Dataset.from_pandas(train_df)\n",
        "test_dataset = Dataset.from_pandas(test_df)\n",
        "\n",
        "dataset = DatasetDict({\"train\": train_dataset, \"test\": test_dataset})\n",
        "\n",
        "# Stampa delle dimensioni dei set di training e test\n",
        "print(\"Train set size:\", len(dataset[\"train\"]))\n",
        "print(\"Test set size:\", len(dataset[\"test\"]))"
      ]
    },
    {
      "cell_type": "code",
      "execution_count": 9,
      "metadata": {
        "trusted": true,
        "id": "lYGefEPVDOv9"
      },
      "outputs": [],
      "source": [
        "model_checkpoint = \"facebook/bart-large\""
      ]
    },
    {
      "cell_type": "code",
      "execution_count": 10,
      "metadata": {
        "trusted": true,
        "id": "zchbLUnLDOv9"
      },
      "outputs": [],
      "source": [
        "from transformers import AutoTokenizer\n",
        "tokenizer = AutoTokenizer.from_pretrained(model_checkpoint)"
      ]
    },
    {
      "cell_type": "markdown",
      "metadata": {
        "id": "-4NH2VuGDOv9"
      },
      "source": [
        "### Model Tokenization and Preprocessing\n",
        "In this section, we define the tokenizer and preprocess the dataset for training.\n",
        "\n",
        "- The `facebook/bart-large` tokenizer is loaded using `AutoTokenizer.from_pretrained`.\n",
        "- We define the maximum input length (256 tokens) and target length (128 tokens) to ensure that text sequences fit within the model's constraints.\n",
        "- A prefix (`ifttt_prompt: `) is added to each description to provide context for the model.\n",
        "- The `preprocess_function` tokenizes the descriptions (`cleaned_description`) and corresponding code snippets (`filter_code`), ensuring that they respect the defined token limits and truncation settings.\n",
        "- The labels (target sequences) are tokenized separately, and their token IDs are stored within the model input structure.\n",
        "- Finally, the preprocessing function is applied to the dataset using `.map()` to tokenize all data efficiently.\n",
        "\n",
        "The progress bars at the bottom confirm that the dataset has been successfully tokenized.\n"
      ]
    },
    {
      "cell_type": "code",
      "execution_count": 11,
      "metadata": {
        "trusted": true,
        "id": "LPCle05DDOv-"
      },
      "outputs": [],
      "source": [
        "max_input_length = 256\n",
        "max_target_length = 128\n",
        "prefix1 = \"ifttt_prompt: \"\n",
        "prefix2 = \" ifttt_context: \"\n",
        "\n",
        "\n",
        "def preprocess_function(examples):\n",
        "    model_inputs = tokenizer([prefix1 + prompt for prompt in examples['cleaned_description']],\n",
        "        max_length=max_input_length,\n",
        "        truncation=True,\n",
        "    )\n",
        "    labels = tokenizer(\n",
        "        examples['filter_code'], max_length=max_target_length, truncation=True\n",
        "    )\n",
        "    model_inputs[\"labels\"] = labels[\"input_ids\"]\n",
        "    return model_inputs"
      ]
    },
    {
      "cell_type": "code",
      "execution_count": 12,
      "metadata": {
        "trusted": true,
        "colab": {
          "base_uri": "https://localhost:8080/",
          "height": 81,
          "referenced_widgets": [
            "0614c94cb5614ea1bafd12014119e97b",
            "e72c9460c306456ea88afa01b0fa57d2",
            "c248016f1b25488296be4cd0f853ec92",
            "2298259aa45e4b339e77be10c60d78cf",
            "ef88c51308474ae48a91a5d31d3618f8",
            "bd65ff4d4a55432f935c8c17bf38eabb",
            "65364a5e5d344c45a7c59710c5995c54",
            "1ccfa0115e2c4ef78458e1041d19c989",
            "1917e16b9c1345a0afad3be9f3809e6a",
            "c9bb032c63fa423d9c01823d2411320d",
            "95bff6a102f4415fa10ae271d2f2cadc",
            "66c23c3a1a584b8fa05775fd570aaa2d",
            "ed3a77a0bcac4862a38871ecf5460522",
            "46fad2e4b16b468281d950ee78595226",
            "7911288355814b3e816a52fd56df062c",
            "d2ea85ba112244a7823abcf003581b19",
            "82aa20586a09407caba5e30809dcce78",
            "16ec37f6847942709574366cdfdb89cc",
            "2f588294c9cd40cca3323f7b21907139",
            "f76e644ff95a46e691c76a6e18fbce3c",
            "69d39f8e904d46febff43fcb42859d6e",
            "e2d96e9695fa443188cde4832599b9d1"
          ]
        },
        "id": "qWhBw7IeDOv-",
        "outputId": "84a88bc4-6d81-4978-98fa-fea879fc94c8"
      },
      "outputs": [
        {
          "output_type": "display_data",
          "data": {
            "text/plain": [
              "Map:   0%|          | 0/134 [00:00<?, ? examples/s]"
            ],
            "application/vnd.jupyter.widget-view+json": {
              "version_major": 2,
              "version_minor": 0,
              "model_id": "0614c94cb5614ea1bafd12014119e97b"
            }
          },
          "metadata": {}
        },
        {
          "output_type": "display_data",
          "data": {
            "text/plain": [
              "Map:   0%|          | 0/34 [00:00<?, ? examples/s]"
            ],
            "application/vnd.jupyter.widget-view+json": {
              "version_major": 2,
              "version_minor": 0,
              "model_id": "66c23c3a1a584b8fa05775fd570aaa2d"
            }
          },
          "metadata": {}
        }
      ],
      "source": [
        "tokenized_datasets = dataset.map(preprocess_function, batched=True)"
      ]
    },
    {
      "cell_type": "markdown",
      "metadata": {
        "id": "KDOJKqGODOv-"
      },
      "source": [
        "### Evaluation Metrics Setup\n",
        "In this section, we load three commonly used evaluation metrics for text generation tasks using the `evaluate` library:\n",
        "\n",
        "- **ROUGE (Recall-Oriented Understudy for Gisting Evaluation):** Measures overlap between generated text and reference text based on n-grams and longest common subsequence. It is widely used for summarization tasks.\n",
        "- **BLEU (Bilingual Evaluation Understudy):** Computes precision-based similarity by comparing generated text with reference translations. It is commonly used in machine translation.\n",
        "- **METEOR (Metric for Evaluation of Translation with Explicit ORdering):** Improves upon BLEU by considering synonym matching, stemming, and word order to provide a more nuanced evaluation.\n",
        "\n",
        "These metrics will be used to assess the quality of model-generated text by comparing it with ground-truth references.\n"
      ]
    },
    {
      "cell_type": "code",
      "execution_count": null,
      "metadata": {
        "trusted": true,
        "id": "dEf8DusDDOv-"
      },
      "outputs": [],
      "source": [
        "import evaluate\n",
        "\n",
        "rouge_score = evaluate.load(\"rouge\")\n",
        "bleu_score = evaluate.load(\"bleu\")\n",
        "meteor_score = evaluate.load(\"meteor\")"
      ]
    },
    {
      "cell_type": "markdown",
      "metadata": {
        "id": "W3hUEYHODOv_"
      },
      "source": [
        "### Model Initialization\n",
        "In this section, we load and configure the model for sequence-to-sequence learning.\n",
        "\n",
        "- The `facebook/bart-large` model is loaded using `AutoModelForSeq2SeqLM.from_pretrained()`, which retrieves a pre-trained sequence-to-sequence model.\n",
        "- The generation parameters are set:\n",
        "  - `max_new_tokens = 128`: The model can generate up to 128 tokens per output.\n",
        "  - `min_new_tokens = 5`: The model must generate at least 5 tokens.\n",
        "- These settings are applied both through `generation_config` and `config` to ensure consistency.\n",
        "\n",
        "Once the model is loaded, we can use it for text generation tasks.\n",
        "\n"
      ]
    },
    {
      "cell_type": "code",
      "execution_count": null,
      "metadata": {
        "trusted": true,
        "id": "-_t1nl5ZDOv_"
      },
      "outputs": [],
      "source": [
        "from transformers import AutoModelForSeq2SeqLM\n",
        "\n",
        "model = AutoModelForSeq2SeqLM.from_pretrained(model_checkpoint)"
      ]
    },
    {
      "cell_type": "code",
      "execution_count": null,
      "metadata": {
        "trusted": true,
        "id": "q9QIoSnIDOv_"
      },
      "outputs": [],
      "source": [
        "model.generation_config.max_new_tokens = 128\n",
        "model.generation_config.min_new_tokens = 5\n",
        "model.config.max_new_tokens = 128\n",
        "model.config.min_new_tokens = 5"
      ]
    },
    {
      "cell_type": "code",
      "execution_count": null,
      "metadata": {
        "trusted": true,
        "id": "FfkKSghSDOv_"
      },
      "outputs": [],
      "source": [
        "print(model.config)"
      ]
    },
    {
      "cell_type": "code",
      "execution_count": null,
      "metadata": {
        "trusted": true,
        "id": "kU5n-2NMDOv_"
      },
      "outputs": [],
      "source": [
        "print(model.generation_config)"
      ]
    },
    {
      "cell_type": "markdown",
      "metadata": {
        "id": "7tO0tygyDOv_"
      },
      "source": [
        "\n",
        "### Data Collator\n",
        "This section prepares the data for training by using a data collator.\n",
        "\n",
        "- `DataCollatorForSeq2Seq` is initialized with the tokenizer and model to dynamically pad inputs to the longest sequence in a batch, improving computational efficiency.\n",
        "- Unnecessary columns from the tokenized dataset are removed to ensure compatibility with the model.\n",
        "- A sample batch of two training examples is processed through the data collator, demonstrating the transformation into tensor format.\n",
        "\n",
        "The data collator ensures that input sequences are properly formatted and padded for efficient batch processing.\n"
      ]
    },
    {
      "cell_type": "code",
      "execution_count": null,
      "metadata": {
        "trusted": true,
        "id": "IJxfCBaMDOv_"
      },
      "outputs": [],
      "source": [
        "from transformers import DataCollatorForSeq2Seq\n",
        "\n",
        "data_collator = DataCollatorForSeq2Seq(tokenizer, model=model)"
      ]
    },
    {
      "cell_type": "code",
      "execution_count": null,
      "metadata": {
        "trusted": true,
        "id": "1VFfkqUNDOv_"
      },
      "outputs": [],
      "source": [
        "tokenized_datasets = tokenized_datasets.remove_columns(dataset[\"train\"].column_names)"
      ]
    },
    {
      "cell_type": "code",
      "execution_count": null,
      "metadata": {
        "trusted": true,
        "id": "-msE9xhWDOv_"
      },
      "outputs": [],
      "source": [
        "features = [tokenized_datasets[\"train\"][i] for i in range(2)]\n",
        "data_collator(features)"
      ]
    },
    {
      "cell_type": "markdown",
      "metadata": {
        "id": "ZMzn5q5LDOv_"
      },
      "source": [
        "### Data Loader\n",
        "In this section, we create data loaders for efficient batch processing.\n",
        "\n",
        "- The `Dataloader` class from `torch.utils.data` is used to prepare batches for training and evaluation.\n",
        "- A batch size of 8 is set for both training and evaluation datasets.\n",
        "- `shuffle=True` is applied to the training dataloader to ensure randomness in the training batches.\n",
        "- The `data_collator` is used to dynamically pad sequences within each batch for efficient processing.\n",
        "\n"
      ]
    },
    {
      "cell_type": "code",
      "execution_count": null,
      "metadata": {
        "trusted": true,
        "id": "HGYN6ZW3DOv_"
      },
      "outputs": [],
      "source": [
        "from torch.utils.data import DataLoader\n",
        "\n",
        "batch_size = 8\n",
        "train_dataloader = DataLoader(\n",
        "    tokenized_datasets[\"train\"],\n",
        "    shuffle=True,\n",
        "    collate_fn=data_collator,\n",
        "    batch_size=batch_size,\n",
        ")\n",
        "eval_dataloader = DataLoader(\n",
        "    tokenized_datasets[\"test\"], collate_fn=data_collator, batch_size=batch_size\n",
        ")"
      ]
    },
    {
      "cell_type": "markdown",
      "metadata": {
        "id": "SrpVGXLZDOv_"
      },
      "source": [
        "### Optimizer\n",
        "This section defines the optimizer for training.\n",
        "\n",
        "- The `AdamW` optimizer from `torch.optim` is used, which is well-suited for fine-tuning transformer-based models.\n",
        "- The learning rate is set to `2e-5`, a commonly used value for fine-tuning NLP models."
      ]
    },
    {
      "cell_type": "code",
      "execution_count": null,
      "metadata": {
        "trusted": true,
        "id": "aexEGSLIDOwA"
      },
      "outputs": [],
      "source": [
        "from torch.optim import AdamW\n",
        "\n",
        "optimizer = AdamW(model.parameters(), lr=2e-5)"
      ]
    },
    {
      "cell_type": "markdown",
      "metadata": {
        "id": "6hI9Kzb3DOwA"
      },
      "source": [
        "### Hugging Face Accelerator\n",
        "To improve training efficiency and leverage available hardware acceleration, we use `Accelerate`.\n",
        "\n",
        "- The `Accelerator` class from the `accelerate` library is initialized.\n",
        "- The model, optimizer, and dataloaders are wrapped using `accelerator.prepare()`, which automatically distributes computations across GPUs or TPUs if available.\n",
        "\n",
        "This setup ensures optimal utilization of hardware resources, enabling efficient training on large-scale datasets."
      ]
    },
    {
      "cell_type": "code",
      "execution_count": null,
      "metadata": {
        "trusted": true,
        "id": "KfHKFsDEDOwA"
      },
      "outputs": [],
      "source": [
        "from accelerate import Accelerator\n",
        "\n",
        "accelerator = Accelerator()\n",
        "model, optimizer, train_dataloader, eval_dataloader = accelerator.prepare(\n",
        "    model, optimizer, train_dataloader, eval_dataloader\n",
        ")"
      ]
    },
    {
      "cell_type": "code",
      "source": [
        "len(train_dataloader)"
      ],
      "metadata": {
        "id": "wXlGsPjOItkH"
      },
      "execution_count": null,
      "outputs": []
    },
    {
      "cell_type": "markdown",
      "metadata": {
        "id": "pqlj2ZUgDOwA"
      },
      "source": [
        "### Optimizer Learning Rate Scheduler"
      ]
    },
    {
      "cell_type": "code",
      "execution_count": null,
      "metadata": {
        "trusted": true,
        "id": "X6EExAcgDOwA"
      },
      "outputs": [],
      "source": [
        "from transformers import get_scheduler\n",
        "\n",
        "num_train_epochs = 30\n",
        "num_update_steps_per_epoch = len(train_dataloader)\n",
        "num_training_steps = num_train_epochs * num_update_steps_per_epoch\n",
        "\n",
        "lr_scheduler = get_scheduler(\n",
        "    \"linear\",\n",
        "    optimizer=optimizer,\n",
        "    num_warmup_steps=0,\n",
        "    num_training_steps=num_training_steps,\n",
        ")"
      ]
    },
    {
      "cell_type": "markdown",
      "metadata": {
        "id": "v_87c9chDOwA"
      },
      "source": [
        "#### Post Processing for ROUGE computation"
      ]
    },
    {
      "cell_type": "code",
      "execution_count": null,
      "metadata": {
        "trusted": true,
        "id": "a8anZrBlDOwA"
      },
      "outputs": [],
      "source": [
        "def postprocess_text(preds, labels):\n",
        "    preds = [pred.strip() for pred in preds]\n",
        "    labels = [label.strip() for label in labels]\n",
        "\n",
        "    # ROUGE expects a newline after each sentence\n",
        "    preds = [\"\\n\".join(nltk.sent_tokenize(pred)) for pred in preds]\n",
        "    labels = [\"\\n\".join(nltk.sent_tokenize(label)) for label in labels]\n",
        "\n",
        "    return preds, labels"
      ]
    },
    {
      "cell_type": "code",
      "source": [
        "import nltk\n",
        "nltk.download('punkt_tab')"
      ],
      "metadata": {
        "id": "JVbxqJ5lJzMr"
      },
      "execution_count": null,
      "outputs": []
    },
    {
      "cell_type": "markdown",
      "metadata": {
        "id": "y6DA_JmzDOwA"
      },
      "source": [
        "### Training and Evaluation Loop\n",
        "This section defines the main training and evaluation loop for the model.\n",
        "\n",
        "#### **Training Process**\n",
        "- The model is set to training mode (`model.train()`).\n",
        "- The loss is tracked for each batch, and backpropagation is performed using `accelerator.backward(loss)`.\n",
        "- The optimizer updates the model parameters, and the learning rate scheduler is stepped to adjust the learning rate.\n",
        "- The average training loss per epoch is computed and stored for visualization.\n",
        "\n",
        "#### **Evaluation Process**\n",
        "- The model is switched to evaluation mode (`model.eval()`), and no gradients are computed during inference.\n",
        "- The model generates predictions for the test dataset.\n",
        "- Predictions and reference labels are padded across processes to ensure consistency.\n",
        "- The predictions and labels are decoded into human-readable text using the tokenizer.\n",
        "- Text cleaning (`postprocess_text`) is applied to standardize predictions and references.\n",
        "\n",
        "#### **Metric Computation**\n",
        "- The `ROUGE`, `BLEU`, and `METEOR` scores are computed to evaluate the quality of generated text:\n",
        "  - **ROUGE** measures n-gram and sequence overlap between predictions and references.\n",
        "  - **BLEU** calculates the precision of generated words against references.\n",
        "  - **METEOR** considers stemming, synonyms, and word order for evaluation.\n",
        "- The final results are printed at the end of each epoch.\n",
        "\n",
        "#### **Model Saving**\n",
        "- The model's state is saved at the end of each epoch using `save_pretrained(output_dir)`.\n",
        "- The tokenizer is also saved to ensure consistency when reloading the model.\n",
        "- `accelerator.wait_for_everyone()` ensures synchronization in distributed training.\n",
        "\n",
        "This setup allows for efficient training, evaluation, and saving of the model at each epoch.\n"
      ]
    },
    {
      "cell_type": "code",
      "execution_count": null,
      "metadata": {
        "trusted": true,
        "id": "uodurTu0DOwA"
      },
      "outputs": [],
      "source": [
        "from transformers import Trainer, TrainingArguments, DataCollatorForSeq2Seq\n",
        "import evaluate\n",
        "import numpy as np\n",
        "import torch\n",
        "\n",
        "# Carica le metriche\n",
        "rouge_score = evaluate.load(\"rouge\")\n",
        "bleu_score = evaluate.load(\"bleu\")\n",
        "meteor_score = evaluate.load(\"meteor\")\n",
        "\n",
        "# Funzione per la generazione e la valutazione delle metriche\n",
        "def compute_metrics(eval_pred):\n",
        "    predictions, labels = eval_pred\n",
        "\n",
        "    # Se predictions è un tuple, prendi il primo elemento\n",
        "    if isinstance(predictions, tuple):\n",
        "        predictions = predictions[0]\n",
        "\n",
        "    # Converte in numpy array se necessario\n",
        "    if isinstance(predictions, torch.Tensor):\n",
        "        predictions = predictions.cpu().numpy()\n",
        "    if isinstance(labels, torch.Tensor):\n",
        "        labels = labels.cpu().numpy()\n",
        "\n",
        "    # Se predictions è una lista nidificata, appiattiscila\n",
        "    predictions = np.array(predictions)\n",
        "\n",
        "    # Rimpiazza -100 nei labels con tokenizer.pad_token_id\n",
        "    labels = np.where(labels != -100, labels, tokenizer.pad_token_id)\n",
        "\n",
        "    # Decodifica delle predizioni e delle etichette\n",
        "    decoded_preds = tokenizer.batch_decode(predictions, skip_special_tokens=True)\n",
        "    decoded_labels = tokenizer.batch_decode(labels, skip_special_tokens=True)\n",
        "\n",
        "    # Rimozione di spazi inutili\n",
        "    decoded_preds, decoded_labels = postprocess_text(decoded_preds, decoded_labels)\n",
        "\n",
        "    # Calcolo delle metriche\n",
        "    rouge_results = rouge_score.compute(predictions=decoded_preds, references=decoded_labels)\n",
        "    bleu_results = bleu_score.compute(predictions=decoded_preds, references=decoded_labels)\n",
        "    meteor_results = meteor_score.compute(predictions=decoded_preds, references=decoded_labels)\n",
        "\n",
        "    # Normalizza i valori delle metriche\n",
        "    rouge_results = {k: round(v * 100, 4) for k, v in rouge_results.items()}\n",
        "    bleu_results = round(bleu_results[\"bleu\"] * 100, 2)\n",
        "    meteor_results = round(meteor_results[\"meteor\"] * 100, 2)\n",
        "\n",
        "    return {\n",
        "        **rouge_results,\n",
        "        \"bleu\": bleu_results,\n",
        "        \"meteor\": meteor_results\n",
        "    }\n",
        "\n",
        "# Definizione degli argomenti di training\n",
        "training_args = TrainingArguments(\n",
        "    output_dir=\"nl2sql_bart\",\n",
        "    evaluation_strategy=\"epoch\",  # Valutazione dopo ogni epoca\n",
        "    save_strategy=\"epoch\",  # Salvataggio automatico ogni epoca\n",
        "    per_device_train_batch_size=8,\n",
        "    per_device_eval_batch_size=8,\n",
        "    num_train_epochs=num_train_epochs,\n",
        "    save_total_limit=2,  # Mantiene solo gli ultimi due checkpoint\n",
        "    fp16=torch.cuda.is_available(),  # Usa FP16 se disponibile\n",
        "    report_to=\"none\",  # Evita di inviare log a sistemi di tracking\n",
        ")\n",
        "\n",
        "# Creazione del Trainer\n",
        "trainer = Trainer(\n",
        "    model=model,\n",
        "    args=training_args,\n",
        "    train_dataset=train_dataloader.dataset,  # Usa dataset invece di dataloader\n",
        "    eval_dataset=eval_dataloader.dataset,\n",
        "    tokenizer=tokenizer,\n",
        "    data_collator=data_collator,\n",
        "    compute_metrics=compute_metrics,\n",
        ")\n",
        "\n",
        "# Avvio del training\n",
        "trainer.train()\n"
      ]
    },
    {
      "cell_type": "code",
      "source": [
        "# Grafico della loss\n",
        "plt.figure(figsize=(10, 6))\n",
        "plt.plot(range(1, num_train_epochs + 1), training_losses, marker='o')\n",
        "plt.title(\"Training Loss per Epoch\", fontsize=16)\n",
        "plt.xlabel(\"Epoch\", fontsize=14)\n",
        "plt.ylabel(\"Loss\", fontsize=14)\n",
        "plt.grid(True)\n",
        "plt.xticks(range(1, num_train_epochs + 1))\n",
        "plt.tight_layout()\n",
        "plt.show()"
      ],
      "metadata": {
        "id": "tBllWwwdLMJg"
      },
      "execution_count": null,
      "outputs": []
    },
    {
      "cell_type": "markdown",
      "source": [
        "### Model Inference with Text-to-Text Pipeline\n",
        "In this section, we load the trained model and use it for text generation.\n",
        "\n",
        "#### **Model Loading**\n",
        "- The trained model is loaded from the specified checkpoint directory (`nl2sql_epoch30`).\n",
        "- The `pipeline` function from `transformers` is used to create a text-to-text generation pipeline.\n",
        "- Both the model and tokenizer are loaded from the same checkpoint to ensure compatibility.\n",
        "\n",
        "#### **Generating Predictions**\n",
        "- A sample prompt is provided to the model:  \n",
        "  `\"ifttt prompt: Create an applet that saves new photos from my phone to a Google Drive folder automatically\"`\n",
        "- The model generates a text-based response using `pipeline(\"text2text-generation\")`.\n",
        "- The generated output is limited to a maximum of 128 tokens.\n",
        "\n",
        "#### **Usage**\n",
        "- This pipeline allows the model to generate structured text based on natural language prompts.\n",
        "- It can be used to create IFTTT-like (If This Then That) automation rules based on textual descriptions.\n",
        "\n",
        "This setup enables efficient inference, allowing the model to process user inputs and generate corresponding automation rules.\n"
      ],
      "metadata": {
        "id": "U5jE2a89OI-D"
      }
    },
    {
      "cell_type": "code",
      "source": [
        "\n",
        "from transformers import pipeline\n",
        "\n",
        "\n",
        "model_path = \"nl2sql_epoch30\"\n",
        "\n",
        "# Load the pipeline\n",
        "generator = pipeline(\"text2text-generation\", model=model_path, tokenizer=model_path)\n",
        "\n",
        "# Example usage\n",
        "prompt = \"ifttt prompt: Create an applet that Save new photos from my phone to a Google Drive folder automatically\"\n",
        "result = generator(prompt, max_length=128)\n",
        "\n",
        "result"
      ],
      "metadata": {
        "id": "B0NaB-lEIDH_"
      },
      "execution_count": null,
      "outputs": []
    },
    {
      "cell_type": "code",
      "source": [
        "!zip -r nl2sql_epoch30.zip nl2sql_epoch30"
      ],
      "metadata": {
        "id": "mKgxlThdWEMc"
      },
      "execution_count": null,
      "outputs": []
    }
  ],
  "metadata": {
    "kaggle": {
      "accelerator": "gpu",
      "dataSources": [
        {
          "datasetId": 4866003,
          "sourceId": 8211052,
          "sourceType": "datasetVersion"
        }
      ],
      "dockerImageVersionId": 30699,
      "isGpuEnabled": true,
      "isInternetEnabled": true,
      "language": "python",
      "sourceType": "notebook"
    },
    "kernelspec": {
      "display_name": "Python 3",
      "name": "python3"
    },
    "language_info": {
      "codemirror_mode": {
        "name": "ipython",
        "version": 3
      },
      "file_extension": ".py",
      "mimetype": "text/x-python",
      "name": "python",
      "nbconvert_exporter": "python",
      "pygments_lexer": "ipython3",
      "version": "3.11.5"
    },
    "colab": {
      "provenance": [],
      "gpuType": "T4",
      "include_colab_link": true
    },
    "accelerator": "GPU",
    "widgets": {
      "application/vnd.jupyter.widget-state+json": {
        "0614c94cb5614ea1bafd12014119e97b": {
          "model_module": "@jupyter-widgets/controls",
          "model_name": "HBoxModel",
          "model_module_version": "1.5.0",
          "state": {
            "_dom_classes": [],
            "_model_module": "@jupyter-widgets/controls",
            "_model_module_version": "1.5.0",
            "_model_name": "HBoxModel",
            "_view_count": null,
            "_view_module": "@jupyter-widgets/controls",
            "_view_module_version": "1.5.0",
            "_view_name": "HBoxView",
            "box_style": "",
            "children": [
              "IPY_MODEL_e72c9460c306456ea88afa01b0fa57d2",
              "IPY_MODEL_c248016f1b25488296be4cd0f853ec92",
              "IPY_MODEL_2298259aa45e4b339e77be10c60d78cf"
            ],
            "layout": "IPY_MODEL_ef88c51308474ae48a91a5d31d3618f8"
          }
        },
        "e72c9460c306456ea88afa01b0fa57d2": {
          "model_module": "@jupyter-widgets/controls",
          "model_name": "HTMLModel",
          "model_module_version": "1.5.0",
          "state": {
            "_dom_classes": [],
            "_model_module": "@jupyter-widgets/controls",
            "_model_module_version": "1.5.0",
            "_model_name": "HTMLModel",
            "_view_count": null,
            "_view_module": "@jupyter-widgets/controls",
            "_view_module_version": "1.5.0",
            "_view_name": "HTMLView",
            "description": "",
            "description_tooltip": null,
            "layout": "IPY_MODEL_bd65ff4d4a55432f935c8c17bf38eabb",
            "placeholder": "​",
            "style": "IPY_MODEL_65364a5e5d344c45a7c59710c5995c54",
            "value": "Map: 100%"
          }
        },
        "c248016f1b25488296be4cd0f853ec92": {
          "model_module": "@jupyter-widgets/controls",
          "model_name": "FloatProgressModel",
          "model_module_version": "1.5.0",
          "state": {
            "_dom_classes": [],
            "_model_module": "@jupyter-widgets/controls",
            "_model_module_version": "1.5.0",
            "_model_name": "FloatProgressModel",
            "_view_count": null,
            "_view_module": "@jupyter-widgets/controls",
            "_view_module_version": "1.5.0",
            "_view_name": "ProgressView",
            "bar_style": "success",
            "description": "",
            "description_tooltip": null,
            "layout": "IPY_MODEL_1ccfa0115e2c4ef78458e1041d19c989",
            "max": 134,
            "min": 0,
            "orientation": "horizontal",
            "style": "IPY_MODEL_1917e16b9c1345a0afad3be9f3809e6a",
            "value": 134
          }
        },
        "2298259aa45e4b339e77be10c60d78cf": {
          "model_module": "@jupyter-widgets/controls",
          "model_name": "HTMLModel",
          "model_module_version": "1.5.0",
          "state": {
            "_dom_classes": [],
            "_model_module": "@jupyter-widgets/controls",
            "_model_module_version": "1.5.0",
            "_model_name": "HTMLModel",
            "_view_count": null,
            "_view_module": "@jupyter-widgets/controls",
            "_view_module_version": "1.5.0",
            "_view_name": "HTMLView",
            "description": "",
            "description_tooltip": null,
            "layout": "IPY_MODEL_c9bb032c63fa423d9c01823d2411320d",
            "placeholder": "​",
            "style": "IPY_MODEL_95bff6a102f4415fa10ae271d2f2cadc",
            "value": " 134/134 [00:00&lt;00:00, 1469.71 examples/s]"
          }
        },
        "ef88c51308474ae48a91a5d31d3618f8": {
          "model_module": "@jupyter-widgets/base",
          "model_name": "LayoutModel",
          "model_module_version": "1.2.0",
          "state": {
            "_model_module": "@jupyter-widgets/base",
            "_model_module_version": "1.2.0",
            "_model_name": "LayoutModel",
            "_view_count": null,
            "_view_module": "@jupyter-widgets/base",
            "_view_module_version": "1.2.0",
            "_view_name": "LayoutView",
            "align_content": null,
            "align_items": null,
            "align_self": null,
            "border": null,
            "bottom": null,
            "display": null,
            "flex": null,
            "flex_flow": null,
            "grid_area": null,
            "grid_auto_columns": null,
            "grid_auto_flow": null,
            "grid_auto_rows": null,
            "grid_column": null,
            "grid_gap": null,
            "grid_row": null,
            "grid_template_areas": null,
            "grid_template_columns": null,
            "grid_template_rows": null,
            "height": null,
            "justify_content": null,
            "justify_items": null,
            "left": null,
            "margin": null,
            "max_height": null,
            "max_width": null,
            "min_height": null,
            "min_width": null,
            "object_fit": null,
            "object_position": null,
            "order": null,
            "overflow": null,
            "overflow_x": null,
            "overflow_y": null,
            "padding": null,
            "right": null,
            "top": null,
            "visibility": null,
            "width": null
          }
        },
        "bd65ff4d4a55432f935c8c17bf38eabb": {
          "model_module": "@jupyter-widgets/base",
          "model_name": "LayoutModel",
          "model_module_version": "1.2.0",
          "state": {
            "_model_module": "@jupyter-widgets/base",
            "_model_module_version": "1.2.0",
            "_model_name": "LayoutModel",
            "_view_count": null,
            "_view_module": "@jupyter-widgets/base",
            "_view_module_version": "1.2.0",
            "_view_name": "LayoutView",
            "align_content": null,
            "align_items": null,
            "align_self": null,
            "border": null,
            "bottom": null,
            "display": null,
            "flex": null,
            "flex_flow": null,
            "grid_area": null,
            "grid_auto_columns": null,
            "grid_auto_flow": null,
            "grid_auto_rows": null,
            "grid_column": null,
            "grid_gap": null,
            "grid_row": null,
            "grid_template_areas": null,
            "grid_template_columns": null,
            "grid_template_rows": null,
            "height": null,
            "justify_content": null,
            "justify_items": null,
            "left": null,
            "margin": null,
            "max_height": null,
            "max_width": null,
            "min_height": null,
            "min_width": null,
            "object_fit": null,
            "object_position": null,
            "order": null,
            "overflow": null,
            "overflow_x": null,
            "overflow_y": null,
            "padding": null,
            "right": null,
            "top": null,
            "visibility": null,
            "width": null
          }
        },
        "65364a5e5d344c45a7c59710c5995c54": {
          "model_module": "@jupyter-widgets/controls",
          "model_name": "DescriptionStyleModel",
          "model_module_version": "1.5.0",
          "state": {
            "_model_module": "@jupyter-widgets/controls",
            "_model_module_version": "1.5.0",
            "_model_name": "DescriptionStyleModel",
            "_view_count": null,
            "_view_module": "@jupyter-widgets/base",
            "_view_module_version": "1.2.0",
            "_view_name": "StyleView",
            "description_width": ""
          }
        },
        "1ccfa0115e2c4ef78458e1041d19c989": {
          "model_module": "@jupyter-widgets/base",
          "model_name": "LayoutModel",
          "model_module_version": "1.2.0",
          "state": {
            "_model_module": "@jupyter-widgets/base",
            "_model_module_version": "1.2.0",
            "_model_name": "LayoutModel",
            "_view_count": null,
            "_view_module": "@jupyter-widgets/base",
            "_view_module_version": "1.2.0",
            "_view_name": "LayoutView",
            "align_content": null,
            "align_items": null,
            "align_self": null,
            "border": null,
            "bottom": null,
            "display": null,
            "flex": null,
            "flex_flow": null,
            "grid_area": null,
            "grid_auto_columns": null,
            "grid_auto_flow": null,
            "grid_auto_rows": null,
            "grid_column": null,
            "grid_gap": null,
            "grid_row": null,
            "grid_template_areas": null,
            "grid_template_columns": null,
            "grid_template_rows": null,
            "height": null,
            "justify_content": null,
            "justify_items": null,
            "left": null,
            "margin": null,
            "max_height": null,
            "max_width": null,
            "min_height": null,
            "min_width": null,
            "object_fit": null,
            "object_position": null,
            "order": null,
            "overflow": null,
            "overflow_x": null,
            "overflow_y": null,
            "padding": null,
            "right": null,
            "top": null,
            "visibility": null,
            "width": null
          }
        },
        "1917e16b9c1345a0afad3be9f3809e6a": {
          "model_module": "@jupyter-widgets/controls",
          "model_name": "ProgressStyleModel",
          "model_module_version": "1.5.0",
          "state": {
            "_model_module": "@jupyter-widgets/controls",
            "_model_module_version": "1.5.0",
            "_model_name": "ProgressStyleModel",
            "_view_count": null,
            "_view_module": "@jupyter-widgets/base",
            "_view_module_version": "1.2.0",
            "_view_name": "StyleView",
            "bar_color": null,
            "description_width": ""
          }
        },
        "c9bb032c63fa423d9c01823d2411320d": {
          "model_module": "@jupyter-widgets/base",
          "model_name": "LayoutModel",
          "model_module_version": "1.2.0",
          "state": {
            "_model_module": "@jupyter-widgets/base",
            "_model_module_version": "1.2.0",
            "_model_name": "LayoutModel",
            "_view_count": null,
            "_view_module": "@jupyter-widgets/base",
            "_view_module_version": "1.2.0",
            "_view_name": "LayoutView",
            "align_content": null,
            "align_items": null,
            "align_self": null,
            "border": null,
            "bottom": null,
            "display": null,
            "flex": null,
            "flex_flow": null,
            "grid_area": null,
            "grid_auto_columns": null,
            "grid_auto_flow": null,
            "grid_auto_rows": null,
            "grid_column": null,
            "grid_gap": null,
            "grid_row": null,
            "grid_template_areas": null,
            "grid_template_columns": null,
            "grid_template_rows": null,
            "height": null,
            "justify_content": null,
            "justify_items": null,
            "left": null,
            "margin": null,
            "max_height": null,
            "max_width": null,
            "min_height": null,
            "min_width": null,
            "object_fit": null,
            "object_position": null,
            "order": null,
            "overflow": null,
            "overflow_x": null,
            "overflow_y": null,
            "padding": null,
            "right": null,
            "top": null,
            "visibility": null,
            "width": null
          }
        },
        "95bff6a102f4415fa10ae271d2f2cadc": {
          "model_module": "@jupyter-widgets/controls",
          "model_name": "DescriptionStyleModel",
          "model_module_version": "1.5.0",
          "state": {
            "_model_module": "@jupyter-widgets/controls",
            "_model_module_version": "1.5.0",
            "_model_name": "DescriptionStyleModel",
            "_view_count": null,
            "_view_module": "@jupyter-widgets/base",
            "_view_module_version": "1.2.0",
            "_view_name": "StyleView",
            "description_width": ""
          }
        },
        "66c23c3a1a584b8fa05775fd570aaa2d": {
          "model_module": "@jupyter-widgets/controls",
          "model_name": "HBoxModel",
          "model_module_version": "1.5.0",
          "state": {
            "_dom_classes": [],
            "_model_module": "@jupyter-widgets/controls",
            "_model_module_version": "1.5.0",
            "_model_name": "HBoxModel",
            "_view_count": null,
            "_view_module": "@jupyter-widgets/controls",
            "_view_module_version": "1.5.0",
            "_view_name": "HBoxView",
            "box_style": "",
            "children": [
              "IPY_MODEL_ed3a77a0bcac4862a38871ecf5460522",
              "IPY_MODEL_46fad2e4b16b468281d950ee78595226",
              "IPY_MODEL_7911288355814b3e816a52fd56df062c"
            ],
            "layout": "IPY_MODEL_d2ea85ba112244a7823abcf003581b19"
          }
        },
        "ed3a77a0bcac4862a38871ecf5460522": {
          "model_module": "@jupyter-widgets/controls",
          "model_name": "HTMLModel",
          "model_module_version": "1.5.0",
          "state": {
            "_dom_classes": [],
            "_model_module": "@jupyter-widgets/controls",
            "_model_module_version": "1.5.0",
            "_model_name": "HTMLModel",
            "_view_count": null,
            "_view_module": "@jupyter-widgets/controls",
            "_view_module_version": "1.5.0",
            "_view_name": "HTMLView",
            "description": "",
            "description_tooltip": null,
            "layout": "IPY_MODEL_82aa20586a09407caba5e30809dcce78",
            "placeholder": "​",
            "style": "IPY_MODEL_16ec37f6847942709574366cdfdb89cc",
            "value": "Map: 100%"
          }
        },
        "46fad2e4b16b468281d950ee78595226": {
          "model_module": "@jupyter-widgets/controls",
          "model_name": "FloatProgressModel",
          "model_module_version": "1.5.0",
          "state": {
            "_dom_classes": [],
            "_model_module": "@jupyter-widgets/controls",
            "_model_module_version": "1.5.0",
            "_model_name": "FloatProgressModel",
            "_view_count": null,
            "_view_module": "@jupyter-widgets/controls",
            "_view_module_version": "1.5.0",
            "_view_name": "ProgressView",
            "bar_style": "success",
            "description": "",
            "description_tooltip": null,
            "layout": "IPY_MODEL_2f588294c9cd40cca3323f7b21907139",
            "max": 34,
            "min": 0,
            "orientation": "horizontal",
            "style": "IPY_MODEL_f76e644ff95a46e691c76a6e18fbce3c",
            "value": 34
          }
        },
        "7911288355814b3e816a52fd56df062c": {
          "model_module": "@jupyter-widgets/controls",
          "model_name": "HTMLModel",
          "model_module_version": "1.5.0",
          "state": {
            "_dom_classes": [],
            "_model_module": "@jupyter-widgets/controls",
            "_model_module_version": "1.5.0",
            "_model_name": "HTMLModel",
            "_view_count": null,
            "_view_module": "@jupyter-widgets/controls",
            "_view_module_version": "1.5.0",
            "_view_name": "HTMLView",
            "description": "",
            "description_tooltip": null,
            "layout": "IPY_MODEL_69d39f8e904d46febff43fcb42859d6e",
            "placeholder": "​",
            "style": "IPY_MODEL_e2d96e9695fa443188cde4832599b9d1",
            "value": " 34/34 [00:00&lt;00:00, 779.25 examples/s]"
          }
        },
        "d2ea85ba112244a7823abcf003581b19": {
          "model_module": "@jupyter-widgets/base",
          "model_name": "LayoutModel",
          "model_module_version": "1.2.0",
          "state": {
            "_model_module": "@jupyter-widgets/base",
            "_model_module_version": "1.2.0",
            "_model_name": "LayoutModel",
            "_view_count": null,
            "_view_module": "@jupyter-widgets/base",
            "_view_module_version": "1.2.0",
            "_view_name": "LayoutView",
            "align_content": null,
            "align_items": null,
            "align_self": null,
            "border": null,
            "bottom": null,
            "display": null,
            "flex": null,
            "flex_flow": null,
            "grid_area": null,
            "grid_auto_columns": null,
            "grid_auto_flow": null,
            "grid_auto_rows": null,
            "grid_column": null,
            "grid_gap": null,
            "grid_row": null,
            "grid_template_areas": null,
            "grid_template_columns": null,
            "grid_template_rows": null,
            "height": null,
            "justify_content": null,
            "justify_items": null,
            "left": null,
            "margin": null,
            "max_height": null,
            "max_width": null,
            "min_height": null,
            "min_width": null,
            "object_fit": null,
            "object_position": null,
            "order": null,
            "overflow": null,
            "overflow_x": null,
            "overflow_y": null,
            "padding": null,
            "right": null,
            "top": null,
            "visibility": null,
            "width": null
          }
        },
        "82aa20586a09407caba5e30809dcce78": {
          "model_module": "@jupyter-widgets/base",
          "model_name": "LayoutModel",
          "model_module_version": "1.2.0",
          "state": {
            "_model_module": "@jupyter-widgets/base",
            "_model_module_version": "1.2.0",
            "_model_name": "LayoutModel",
            "_view_count": null,
            "_view_module": "@jupyter-widgets/base",
            "_view_module_version": "1.2.0",
            "_view_name": "LayoutView",
            "align_content": null,
            "align_items": null,
            "align_self": null,
            "border": null,
            "bottom": null,
            "display": null,
            "flex": null,
            "flex_flow": null,
            "grid_area": null,
            "grid_auto_columns": null,
            "grid_auto_flow": null,
            "grid_auto_rows": null,
            "grid_column": null,
            "grid_gap": null,
            "grid_row": null,
            "grid_template_areas": null,
            "grid_template_columns": null,
            "grid_template_rows": null,
            "height": null,
            "justify_content": null,
            "justify_items": null,
            "left": null,
            "margin": null,
            "max_height": null,
            "max_width": null,
            "min_height": null,
            "min_width": null,
            "object_fit": null,
            "object_position": null,
            "order": null,
            "overflow": null,
            "overflow_x": null,
            "overflow_y": null,
            "padding": null,
            "right": null,
            "top": null,
            "visibility": null,
            "width": null
          }
        },
        "16ec37f6847942709574366cdfdb89cc": {
          "model_module": "@jupyter-widgets/controls",
          "model_name": "DescriptionStyleModel",
          "model_module_version": "1.5.0",
          "state": {
            "_model_module": "@jupyter-widgets/controls",
            "_model_module_version": "1.5.0",
            "_model_name": "DescriptionStyleModel",
            "_view_count": null,
            "_view_module": "@jupyter-widgets/base",
            "_view_module_version": "1.2.0",
            "_view_name": "StyleView",
            "description_width": ""
          }
        },
        "2f588294c9cd40cca3323f7b21907139": {
          "model_module": "@jupyter-widgets/base",
          "model_name": "LayoutModel",
          "model_module_version": "1.2.0",
          "state": {
            "_model_module": "@jupyter-widgets/base",
            "_model_module_version": "1.2.0",
            "_model_name": "LayoutModel",
            "_view_count": null,
            "_view_module": "@jupyter-widgets/base",
            "_view_module_version": "1.2.0",
            "_view_name": "LayoutView",
            "align_content": null,
            "align_items": null,
            "align_self": null,
            "border": null,
            "bottom": null,
            "display": null,
            "flex": null,
            "flex_flow": null,
            "grid_area": null,
            "grid_auto_columns": null,
            "grid_auto_flow": null,
            "grid_auto_rows": null,
            "grid_column": null,
            "grid_gap": null,
            "grid_row": null,
            "grid_template_areas": null,
            "grid_template_columns": null,
            "grid_template_rows": null,
            "height": null,
            "justify_content": null,
            "justify_items": null,
            "left": null,
            "margin": null,
            "max_height": null,
            "max_width": null,
            "min_height": null,
            "min_width": null,
            "object_fit": null,
            "object_position": null,
            "order": null,
            "overflow": null,
            "overflow_x": null,
            "overflow_y": null,
            "padding": null,
            "right": null,
            "top": null,
            "visibility": null,
            "width": null
          }
        },
        "f76e644ff95a46e691c76a6e18fbce3c": {
          "model_module": "@jupyter-widgets/controls",
          "model_name": "ProgressStyleModel",
          "model_module_version": "1.5.0",
          "state": {
            "_model_module": "@jupyter-widgets/controls",
            "_model_module_version": "1.5.0",
            "_model_name": "ProgressStyleModel",
            "_view_count": null,
            "_view_module": "@jupyter-widgets/base",
            "_view_module_version": "1.2.0",
            "_view_name": "StyleView",
            "bar_color": null,
            "description_width": ""
          }
        },
        "69d39f8e904d46febff43fcb42859d6e": {
          "model_module": "@jupyter-widgets/base",
          "model_name": "LayoutModel",
          "model_module_version": "1.2.0",
          "state": {
            "_model_module": "@jupyter-widgets/base",
            "_model_module_version": "1.2.0",
            "_model_name": "LayoutModel",
            "_view_count": null,
            "_view_module": "@jupyter-widgets/base",
            "_view_module_version": "1.2.0",
            "_view_name": "LayoutView",
            "align_content": null,
            "align_items": null,
            "align_self": null,
            "border": null,
            "bottom": null,
            "display": null,
            "flex": null,
            "flex_flow": null,
            "grid_area": null,
            "grid_auto_columns": null,
            "grid_auto_flow": null,
            "grid_auto_rows": null,
            "grid_column": null,
            "grid_gap": null,
            "grid_row": null,
            "grid_template_areas": null,
            "grid_template_columns": null,
            "grid_template_rows": null,
            "height": null,
            "justify_content": null,
            "justify_items": null,
            "left": null,
            "margin": null,
            "max_height": null,
            "max_width": null,
            "min_height": null,
            "min_width": null,
            "object_fit": null,
            "object_position": null,
            "order": null,
            "overflow": null,
            "overflow_x": null,
            "overflow_y": null,
            "padding": null,
            "right": null,
            "top": null,
            "visibility": null,
            "width": null
          }
        },
        "e2d96e9695fa443188cde4832599b9d1": {
          "model_module": "@jupyter-widgets/controls",
          "model_name": "DescriptionStyleModel",
          "model_module_version": "1.5.0",
          "state": {
            "_model_module": "@jupyter-widgets/controls",
            "_model_module_version": "1.5.0",
            "_model_name": "DescriptionStyleModel",
            "_view_count": null,
            "_view_module": "@jupyter-widgets/base",
            "_view_module_version": "1.2.0",
            "_view_name": "StyleView",
            "description_width": ""
          }
        }
      }
    }
  },
  "nbformat": 4,
  "nbformat_minor": 0
}