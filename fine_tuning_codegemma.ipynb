{
 "cells": [
  {
   "cell_type": "markdown",
   "metadata": {
    "id": "view-in-github"
   },
   "source": [
    "<a href=\"https://colab.research.google.com/github/benedettoscala/ifttt-code-generator/blob/main/fine_tuning_mistral.ipynb\" target=\"_parent\"><img src=\"https://colab.research.google.com/assets/colab-badge.svg\" alt=\"Open In Colab\"/></a>"
   ]
  },
  {
   "cell_type": "markdown",
   "source": [
    "### Environment Setup and Authentication\n",
    "This section sets up the necessary environment by installing dependencies, importing required libraries, and authenticating with Hugging Face.\n",
    "\n",
    "#### **Dependency Installation**\n",
    "- Several essential libraries are installed:\n",
    "  - `transformers`: Provides pre-trained models and tokenizers.\n",
    "  - `peft`: Enables parameter-efficient fine-tuning techniques.\n",
    "  - `accelerate`: Optimizes training performance on different hardware configurations.\n",
    "  - `trl`: Supports reinforcement learning for transformers.\n",
    "  - `datasets`: Provides easy access to various datasets.\n",
    "  - `sentencepiece`: Required for tokenization of certain models.\n",
    "  - `bitsandbytes`: Enables efficient quantization techniques for large models.\n",
    "  - `rouge_score`: Used for text evaluation.\n",
    "\n",
    "#### **Library Imports**\n",
    "- The script imports key libraries such as:\n",
    "  - `transformers` for model handling.\n",
    "  - `peft` for efficient fine-tuning.\n",
    "  - `torch` for deep learning operations.\n",
    "  - `pandas` for dataset manipulation.\n",
    "  - `datasets` for handling data structures compatible with Hugging Face.\n",
    "\n",
    "#### **Authentication with Hugging Face**\n",
    "- The script retrieves the `HUGGINGFACE_TOKEN` stored in Google Colab’s `userdata`.\n",
    "- It logs into Hugging Face using `huggingface-cli login` to enable access to pre-trained models, datasets, and private repositories.\n",
    "\n",
    "#### **Repository Cloning**\n",
    "- The script clones the GitHub repository `ifttt-code-generator`, which contains the necessary code for the project.\n",
    "- After cloning, it navigates to the repository directory and pulls the latest updates.\n",
    "\n",
    "This setup ensures that all required dependencies are installed, authentication is handled securely, and the latest project files are available for further development.\n"
   ],
   "metadata": {
    "id": "wkopuWNBxpex"
   }
  },
  {
   "cell_type": "code",
   "source": [
    "%%capture\n",
    "\n",
    "!pip install transformers==4.36.2\n",
    "!pip install -U peft\n",
    "!pip install -U accelerate\n",
    "!pip install -U trl\n",
    "!pip install datasets==2.16.0\n",
    "!pip install sentencepiece\n",
    "!pip install -U bitsandbytes\n",
    "!pip install rouge_score"
   ],
   "metadata": {
    "id": "0HueuUrz_TeU",
    "ExecuteTime": {
     "end_time": "2025-02-21T19:14:58.262770Z",
     "start_time": "2025-02-21T19:14:09.793592Z"
    }
   },
   "outputs": [],
   "execution_count": 1
  },
  {
   "metadata": {
    "ExecuteTime": {
     "end_time": "2025-02-21T19:15:02.169697Z",
     "start_time": "2025-02-21T19:14:58.269844Z"
    }
   },
   "cell_type": "code",
   "source": [
    "!pip install matplotlib\n",
    "!pip install numpy"
   ],
   "outputs": [
    {
     "name": "stdout",
     "output_type": "stream",
     "text": [
      "Requirement already satisfied: matplotlib in c:\\users\\scala\\miniconda3\\lib\\site-packages (3.10.0)\n",
      "Requirement already satisfied: contourpy>=1.0.1 in c:\\users\\scala\\miniconda3\\lib\\site-packages (from matplotlib) (1.3.1)\n",
      "Requirement already satisfied: cycler>=0.10 in c:\\users\\scala\\miniconda3\\lib\\site-packages (from matplotlib) (0.12.1)\n",
      "Requirement already satisfied: fonttools>=4.22.0 in c:\\users\\scala\\miniconda3\\lib\\site-packages (from matplotlib) (4.56.0)\n",
      "Requirement already satisfied: kiwisolver>=1.3.1 in c:\\users\\scala\\miniconda3\\lib\\site-packages (from matplotlib) (1.4.8)\n",
      "Requirement already satisfied: numpy>=1.23 in c:\\users\\scala\\miniconda3\\lib\\site-packages (from matplotlib) (2.2.3)\n",
      "Requirement already satisfied: packaging>=20.0 in c:\\users\\scala\\miniconda3\\lib\\site-packages (from matplotlib) (24.1)\n",
      "Requirement already satisfied: pillow>=8 in c:\\users\\scala\\miniconda3\\lib\\site-packages (from matplotlib) (11.1.0)\n",
      "Requirement already satisfied: pyparsing>=2.3.1 in c:\\users\\scala\\miniconda3\\lib\\site-packages (from matplotlib) (3.2.1)\n",
      "Requirement already satisfied: python-dateutil>=2.7 in c:\\users\\scala\\miniconda3\\lib\\site-packages (from matplotlib) (2.9.0.post0)\n",
      "Requirement already satisfied: six>=1.5 in c:\\users\\scala\\miniconda3\\lib\\site-packages (from python-dateutil>=2.7->matplotlib) (1.17.0)\n",
      "Requirement already satisfied: numpy in c:\\users\\scala\\miniconda3\\lib\\site-packages (2.2.3)\n"
     ]
    }
   ],
   "execution_count": 2
  },
  {
   "cell_type": "code",
   "metadata": {
    "id": "wvpQWR5pwCGL",
    "ExecuteTime": {
     "end_time": "2025-02-21T19:15:16.643717Z",
     "start_time": "2025-02-21T19:15:02.395018Z"
    }
   },
   "source": [
    "from transformers import AutoModelForCausalLM, AutoTokenizer, BitsAndBytesConfig, TrainingArguments\n",
    "from peft import LoraConfig, prepare_model_for_kbit_training, get_peft_model\n",
    "import torch\n",
    "import pandas as pd\n",
    "from datasets import Dataset\n"
   ],
   "outputs": [],
   "execution_count": 3
  },
  {
   "metadata": {
    "ExecuteTime": {
     "end_time": "2025-02-21T19:15:18.311179Z",
     "start_time": "2025-02-21T19:15:16.651228Z"
    }
   },
   "cell_type": "code",
   "source": "!pip install ipywidgets",
   "outputs": [
    {
     "name": "stdout",
     "output_type": "stream",
     "text": [
      "Requirement already satisfied: ipywidgets in c:\\users\\scala\\miniconda3\\lib\\site-packages (8.1.5)\n",
      "Requirement already satisfied: comm>=0.1.3 in c:\\users\\scala\\miniconda3\\lib\\site-packages (from ipywidgets) (0.2.2)\n",
      "Requirement already satisfied: ipython>=6.1.0 in c:\\users\\scala\\miniconda3\\lib\\site-packages (from ipywidgets) (8.32.0)\n",
      "Requirement already satisfied: traitlets>=4.3.1 in c:\\users\\scala\\miniconda3\\lib\\site-packages (from ipywidgets) (5.14.3)\n",
      "Requirement already satisfied: widgetsnbextension~=4.0.12 in c:\\users\\scala\\miniconda3\\lib\\site-packages (from ipywidgets) (4.0.13)\n",
      "Requirement already satisfied: jupyterlab-widgets~=3.0.12 in c:\\users\\scala\\miniconda3\\lib\\site-packages (from ipywidgets) (3.0.13)\n",
      "Requirement already satisfied: colorama in c:\\users\\scala\\miniconda3\\lib\\site-packages (from ipython>=6.1.0->ipywidgets) (0.4.6)\n",
      "Requirement already satisfied: decorator in c:\\users\\scala\\miniconda3\\lib\\site-packages (from ipython>=6.1.0->ipywidgets) (5.1.1)\n",
      "Requirement already satisfied: jedi>=0.16 in c:\\users\\scala\\miniconda3\\lib\\site-packages (from ipython>=6.1.0->ipywidgets) (0.19.2)\n",
      "Requirement already satisfied: matplotlib-inline in c:\\users\\scala\\miniconda3\\lib\\site-packages (from ipython>=6.1.0->ipywidgets) (0.1.7)\n",
      "Requirement already satisfied: prompt_toolkit<3.1.0,>=3.0.41 in c:\\users\\scala\\miniconda3\\lib\\site-packages (from ipython>=6.1.0->ipywidgets) (3.0.50)\n",
      "Requirement already satisfied: pygments>=2.4.0 in c:\\users\\scala\\miniconda3\\lib\\site-packages (from ipython>=6.1.0->ipywidgets) (2.19.1)\n",
      "Requirement already satisfied: stack_data in c:\\users\\scala\\miniconda3\\lib\\site-packages (from ipython>=6.1.0->ipywidgets) (0.6.3)\n",
      "Requirement already satisfied: parso<0.9.0,>=0.8.4 in c:\\users\\scala\\miniconda3\\lib\\site-packages (from jedi>=0.16->ipython>=6.1.0->ipywidgets) (0.8.4)\n",
      "Requirement already satisfied: wcwidth in c:\\users\\scala\\miniconda3\\lib\\site-packages (from prompt_toolkit<3.1.0,>=3.0.41->ipython>=6.1.0->ipywidgets) (0.2.13)\n",
      "Requirement already satisfied: executing>=1.2.0 in c:\\users\\scala\\miniconda3\\lib\\site-packages (from stack_data->ipython>=6.1.0->ipywidgets) (2.2.0)\n",
      "Requirement already satisfied: asttokens>=2.1.0 in c:\\users\\scala\\miniconda3\\lib\\site-packages (from stack_data->ipython>=6.1.0->ipywidgets) (3.0.0)\n",
      "Requirement already satisfied: pure-eval in c:\\users\\scala\\miniconda3\\lib\\site-packages (from stack_data->ipython>=6.1.0->ipywidgets) (0.2.3)\n"
     ]
    }
   ],
   "execution_count": 4
  },
  {
   "metadata": {
    "ExecuteTime": {
     "end_time": "2025-02-21T19:15:18.349663Z",
     "start_time": "2025-02-21T19:15:18.319708Z"
    }
   },
   "cell_type": "code",
   "source": [
    "from huggingface_hub import notebook_login\n",
    "notebook_login()"
   ],
   "outputs": [
    {
     "data": {
      "text/plain": [
       "VBox(children=(HTML(value='<center> <img\\nsrc=https://huggingface.co/front/assets/huggingface_logo-noborder.sv…"
      ],
      "application/vnd.jupyter.widget-view+json": {
       "version_major": 2,
       "version_minor": 0,
       "model_id": "3eac31515556428582dd5685460912a0"
      }
     },
     "metadata": {},
     "output_type": "display_data"
    }
   ],
   "execution_count": 5
  },
  {
   "cell_type": "code",
   "metadata": {
    "colab": {
     "base_uri": "https://localhost:8080/"
    },
    "id": "Loem6gt-xOVZ",
    "outputId": "a3494bda-4af2-4f4d-8071-5953711ae322",
    "ExecuteTime": {
     "end_time": "2025-02-21T19:15:18.369554Z",
     "start_time": "2025-02-21T19:15:18.365694Z"
    }
   },
   "source": [
    "#from google.colab import userdata\n",
    "#secret_hf = userdata.get('HUGGINGFACE_TOKEN')\n",
    "#!huggingface-cli login --token $secret_hf"
   ],
   "outputs": [],
   "execution_count": 6
  },
  {
   "cell_type": "code",
   "metadata": {
    "colab": {
     "base_uri": "https://localhost:8080/"
    },
    "id": "h7_T1dEsXfWS",
    "outputId": "3e7ec4df-4a20-4ee7-a168-a2a1017e8c54",
    "ExecuteTime": {
     "end_time": "2025-02-21T19:15:19.109744Z",
     "start_time": "2025-02-21T19:15:18.385819Z"
    }
   },
   "source": [
    "!git clone https://github.com/benedettoscala/ifttt-code-generator\n",
    "%cd ifttt-code-generator/\n",
    "!git pull"
   ],
   "outputs": [
    {
     "name": "stdout",
     "output_type": "stream",
     "text": [
      "C:\\Users\\scala\\PycharmProjects\\JupyterProject\\ifttt-code-generator\n"
     ]
    },
    {
     "name": "stderr",
     "output_type": "stream",
     "text": [
      "fatal: destination path 'ifttt-code-generator' already exists and is not an empty directory.\n",
      "C:\\Users\\scala\\miniconda3\\Lib\\site-packages\\IPython\\core\\magics\\osm.py:417: UserWarning: This is now an optional IPython functionality, setting dhist requires you to install the `pickleshare` library.\n",
      "  self.shell.db['dhist'] = compress_dhist(dhist)[-100:]\n"
     ]
    },
    {
     "name": "stdout",
     "output_type": "stream",
     "text": [
      "Already up to date.\n"
     ]
    }
   ],
   "execution_count": 7
  },
  {
   "cell_type": "markdown",
   "metadata": {
    "id": "dzQkARHFU2Hl"
   },
   "source": [
    "### Dataset Processing and Tokenization\n",
    "This section loads, cleans, and tokenizes the dataset using the `Mistral-7B-Instruct-v0.2` tokenizer.\n",
    "\n",
    "#### **Tokenizer Setup**\n",
    "- The tokenizer is loaded from Hugging Face using `AutoTokenizer.from_pretrained()`.\n",
    "- If the tokenizer does not have a defined padding token, it is set to the EOS token to ensure proper tokenization.\n",
    "\n",
    "#### **Dataset Loading and Cleaning**\n",
    "- The dataset is loaded from a CSV file (`cleaned_and_combined.csv`).\n",
    "- Missing values and duplicate entries are removed from the `permission_df`filter_code` columns.\n",
    "\n",
    "#### **Tokenization and Length Calculation**\n",
    "- Each text sample is tokenized separately:\n",
    "  - **Description tokens**: Tokenized without truncation to capture full input lengths.\n",
    "  - **Code tokens**: Tokenized separately for length analysis.\n",
    "  - **Combined tokens**: The description and code are concatenated using a separator (`\\n###\\n`), then tokenized.\n",
    "- The tokenized lengths for descriptions, code snippets, and combined text are stored for statistical analysis.\n",
    "\n",
    "#### **Statistical Analysis**\n",
    "- Minimum, maximum, mean, and median token lengths are computed and printed for each category.\n",
    "\n",
    "#### **Visualization**\n",
    "- A histogram is generated to visualize the distribution of token lengths for the combined text.\n",
    "- A reference line is drawn at **512 tokens** to indicate a common model limit.\n",
    "\n",
    "This analysis helps assess whether input sequences fit within model constraints and guide preprocessing decisions.\n"
   ]
  },
  {
   "metadata": {
    "ExecuteTime": {
     "end_time": "2025-02-22T11:46:50.843961Z",
     "start_time": "2025-02-22T11:46:50.832826Z"
    }
   },
   "cell_type": "code",
   "source": "%cd ifttt-code-generator/",
   "outputs": [
    {
     "name": "stdout",
     "output_type": "stream",
     "text": [
      "C:\\Users\\scala\\PycharmProjects\\JupyterProject\\ifttt-code-generator\n"
     ]
    },
    {
     "name": "stderr",
     "output_type": "stream",
     "text": [
      "C:\\Users\\scala\\miniconda3\\Lib\\site-packages\\IPython\\core\\magics\\osm.py:417: UserWarning: This is now an optional IPython functionality, setting dhist requires you to install the `pickleshare` library.\n",
      "  self.shell.db['dhist'] = compress_dhist(dhist)[-100:]\n"
     ]
    }
   ],
   "execution_count": 1
  },
  {
   "metadata": {
    "id": "wUie-51xRoz7",
    "ExecuteTime": {
     "end_time": "2025-02-22T11:47:03.008537Z",
     "start_time": "2025-02-22T11:46:53.743809Z"
    }
   },
   "cell_type": "code",
   "source": [
    "import pandas as pd\n",
    "import numpy as np\n",
    "import matplotlib.pyplot as plt\n",
    "from transformers import AutoTokenizer\n",
    "\n",
    "# Carica il tokenizer\n",
    "model_name = \"google/codegemma-7b\"\n",
    "tokenizer = AutoTokenizer.from_pretrained(model_name)\n",
    "# Imposta il pad token se necessario\n",
    "if tokenizer.pad_token is None:\n",
    "    tokenizer.pad_token = tokenizer.eos_token\n",
    "\n",
    "# Carica il dataset\n",
    "csv_path = \"datasets/new_dataset.csv\"\n",
    "df = pd.read_csv(csv_path)"
   ],
   "outputs": [],
   "execution_count": 2
  },
  {
   "metadata": {
    "id": "7QVVg7h5SPDY",
    "ExecuteTime": {
     "end_time": "2025-02-22T11:47:03.016756Z",
     "start_time": "2025-02-22T11:47:03.008537Z"
    }
   },
   "cell_type": "code",
   "source": [
    "df.dropna()\n",
    "\n",
    "#reset indexes\n",
    "df.reset_index(drop=True, inplace=True)"
   ],
   "outputs": [],
   "execution_count": 3
  },
  {
   "metadata": {
    "colab": {
     "base_uri": "https://localhost:8080/",
     "height": 424
    },
    "id": "aJJaQJWxSY5C",
    "outputId": "717abd79-5b90-48c9-ecf9-9528a2dc1ef4",
    "ExecuteTime": {
     "end_time": "2025-02-22T11:47:03.072059Z",
     "start_time": "2025-02-22T11:47:03.060153Z"
    }
   },
   "cell_type": "code",
   "source": "df",
   "outputs": [
    {
     "data": {
      "text/plain": [
       "                                         permission_df  \\\n",
       "0    if New pink line alert (trigger_service: Chica...   \n",
       "1    if New bus advisory (trigger_service: NJ Trans...   \n",
       "2    if New DART rider alert (trigger_service: DART...   \n",
       "3    if New tweet by a specific user (trigger_servi...   \n",
       "4    if New feed item (trigger_service: RSS Feed) t...   \n",
       "..                                                 ...   \n",
       "610  if Door opened (trigger_service: MyQ) then Act...   \n",
       "611  if You enter an area (trigger_service: Locatio...   \n",
       "612  if You enter an area (trigger_service: Locatio...   \n",
       "613  if You enter an area (trigger_service: Locatio...   \n",
       "614  if Every hour at (trigger_service: Date & Time...   \n",
       "\n",
       "                                           filter_code  \n",
       "0    var Hour = Meta.currentUserTime.hour() var Day...  \n",
       "1    var Hour = Meta.currentUserTime.hour() var Day...  \n",
       "2    var Hour = Meta.currentUserTime.hour() var Day...  \n",
       "3    if (Twitter.newTweetByUser.Text.indexOf(\"SNES\"...  \n",
       "4    if(Feed.newFeedItem.EntryContent.indexOf(\"@\") ...  \n",
       "..                                                 ...  \n",
       "610  var timeOfDay = Meta.currentUserTime.hour()   ...  \n",
       "611  var timeOfDay = Meta.currentUserTime.hour() if...  \n",
       "612  var timeOfDay = Meta.currentUserTime.hour();  ...  \n",
       "613  var timeOfDay = Meta.currentUserTime.hour() if...  \n",
       "614  var hour     = Meta.currentUserTime.hour()  if...  \n",
       "\n",
       "[615 rows x 2 columns]"
      ],
      "text/html": [
       "<div>\n",
       "<style scoped>\n",
       "    .dataframe tbody tr th:only-of-type {\n",
       "        vertical-align: middle;\n",
       "    }\n",
       "\n",
       "    .dataframe tbody tr th {\n",
       "        vertical-align: top;\n",
       "    }\n",
       "\n",
       "    .dataframe thead th {\n",
       "        text-align: right;\n",
       "    }\n",
       "</style>\n",
       "<table border=\"1\" class=\"dataframe\">\n",
       "  <thead>\n",
       "    <tr style=\"text-align: right;\">\n",
       "      <th></th>\n",
       "      <th>permission_df</th>\n",
       "      <th>filter_code</th>\n",
       "    </tr>\n",
       "  </thead>\n",
       "  <tbody>\n",
       "    <tr>\n",
       "      <th>0</th>\n",
       "      <td>if New pink line alert (trigger_service: Chica...</td>\n",
       "      <td>var Hour = Meta.currentUserTime.hour() var Day...</td>\n",
       "    </tr>\n",
       "    <tr>\n",
       "      <th>1</th>\n",
       "      <td>if New bus advisory (trigger_service: NJ Trans...</td>\n",
       "      <td>var Hour = Meta.currentUserTime.hour() var Day...</td>\n",
       "    </tr>\n",
       "    <tr>\n",
       "      <th>2</th>\n",
       "      <td>if New DART rider alert (trigger_service: DART...</td>\n",
       "      <td>var Hour = Meta.currentUserTime.hour() var Day...</td>\n",
       "    </tr>\n",
       "    <tr>\n",
       "      <th>3</th>\n",
       "      <td>if New tweet by a specific user (trigger_servi...</td>\n",
       "      <td>if (Twitter.newTweetByUser.Text.indexOf(\"SNES\"...</td>\n",
       "    </tr>\n",
       "    <tr>\n",
       "      <th>4</th>\n",
       "      <td>if New feed item (trigger_service: RSS Feed) t...</td>\n",
       "      <td>if(Feed.newFeedItem.EntryContent.indexOf(\"@\") ...</td>\n",
       "    </tr>\n",
       "    <tr>\n",
       "      <th>...</th>\n",
       "      <td>...</td>\n",
       "      <td>...</td>\n",
       "    </tr>\n",
       "    <tr>\n",
       "      <th>610</th>\n",
       "      <td>if Door opened (trigger_service: MyQ) then Act...</td>\n",
       "      <td>var timeOfDay = Meta.currentUserTime.hour()   ...</td>\n",
       "    </tr>\n",
       "    <tr>\n",
       "      <th>611</th>\n",
       "      <td>if You enter an area (trigger_service: Locatio...</td>\n",
       "      <td>var timeOfDay = Meta.currentUserTime.hour() if...</td>\n",
       "    </tr>\n",
       "    <tr>\n",
       "      <th>612</th>\n",
       "      <td>if You enter an area (trigger_service: Locatio...</td>\n",
       "      <td>var timeOfDay = Meta.currentUserTime.hour();  ...</td>\n",
       "    </tr>\n",
       "    <tr>\n",
       "      <th>613</th>\n",
       "      <td>if You enter an area (trigger_service: Locatio...</td>\n",
       "      <td>var timeOfDay = Meta.currentUserTime.hour() if...</td>\n",
       "    </tr>\n",
       "    <tr>\n",
       "      <th>614</th>\n",
       "      <td>if Every hour at (trigger_service: Date &amp; Time...</td>\n",
       "      <td>var hour     = Meta.currentUserTime.hour()  if...</td>\n",
       "    </tr>\n",
       "  </tbody>\n",
       "</table>\n",
       "<p>615 rows × 2 columns</p>\n",
       "</div>"
      ]
     },
     "execution_count": 4,
     "metadata": {},
     "output_type": "execute_result"
    }
   ],
   "execution_count": 4
  },
  {
   "metadata": {
    "colab": {
     "base_uri": "https://localhost:8080/",
     "height": 799
    },
    "id": "3-0A3go0z_QE",
    "outputId": "ac997a16-6f31-41d6-be12-450e5213bfc2",
    "ExecuteTime": {
     "end_time": "2025-02-22T11:47:04.458051Z",
     "start_time": "2025-02-22T11:47:03.129559Z"
    }
   },
   "cell_type": "code",
   "source": [
    "import pandas as pd\n",
    "import matplotlib.pyplot as plt\n",
    "from transformers import AutoTokenizer\n",
    "\n",
    "# Carica il tokenizer\n",
    "model_name = \"google/codegemma-7b\"\n",
    "tokenizer = AutoTokenizer.from_pretrained(model_name)\n",
    "# Imposta il pad token se necessario\n",
    "if tokenizer.pad_token is None:\n",
    "    tokenizer.pad_token = tokenizer.eos_token\n",
    "\n",
    "# Carica il dataset\n",
    "csv_path = \"datasets/new_dataset.csv\"\n",
    "df = pd.read_csv(csv_path)\n",
    "\n",
    "# Pulizia: rimuovi eventuali righe con valori mancanti o duplicati\n",
    "df.dropna(subset=[\"permission_df\", \"filter_code\"], inplace=True)\n",
    "df.drop_duplicates(subset=[\"permission_df\", \"filter_code\"], inplace=True)\n",
    "\n",
    "# Imposta il separatore usato per combinare descrizione e codice\n",
    "separator = \"\\n###\\n\"\n",
    "\n",
    "# Liste per memorizzare le lunghezze (in token) per ciascun esempio\n",
    "description_lengths = []\n",
    "code_lengths = []\n",
    "combined_lengths = []\n",
    "\n",
    "# Itera sulle righe del dataset e tokenizza\n",
    "for _, row in df.iterrows():\n",
    "    description = row[\"permission_df\"]\n",
    "    code = row[\"filter_code\"]\n",
    "\n",
    "    # Tokenizza la descrizione (senza troncamento, per avere la lunghezza completa)\n",
    "    desc_tokens = tokenizer.encode(description, truncation=False)\n",
    "    # Tokenizza il codice\n",
    "    code_tokens = tokenizer.encode(code, truncation=False)\n",
    "    # Tokenizza il testo completo: descrizione + separatore + codice\n",
    "    combined_text = description + separator + code\n",
    "    combined_tokens = tokenizer.encode(combined_text, truncation=False)\n",
    "\n",
    "    description_lengths.append(len(desc_tokens))\n",
    "    code_lengths.append(len(code_tokens))\n",
    "    combined_lengths.append(len(combined_tokens))\n",
    "\n",
    "# Calcola statistiche per ciascuna serie di lunghezze\n",
    "def print_stats(name, lengths):\n",
    "    print(f\"Statistiche per {name}:\")\n",
    "    print(\"  Min:\", np.min(lengths))\n",
    "    print(\"  Max:\", np.max(lengths))\n",
    "    print(\"  Media:\", np.mean(lengths))\n",
    "    print(\"  Mediana:\", np.median(lengths))\n",
    "    print()\n",
    "\n",
    "print_stats(\"la descrizione\", description_lengths)\n",
    "print_stats(\"il codice\", code_lengths)\n",
    "print_stats(\"il testo completo (descrizione + codice)\", combined_lengths)\n",
    "\n",
    "# Visualizza la distribuzione della lunghezza del testo completo\n",
    "plt.figure(figsize=(10, 5))\n",
    "plt.hist(combined_lengths, bins=50, color='skyblue', edgecolor='black', alpha=0.7)\n",
    "plt.axvline(512, color='red', linestyle='dashed', linewidth=2, label=\"512 token\")\n",
    "plt.title(\"Distribuzione della lunghezza dei testi (in token)\")\n",
    "plt.xlabel(\"Numero di token\")\n",
    "plt.ylabel(\"Frequenza\")\n",
    "plt.legend()\n",
    "plt.show()\n"
   ],
   "outputs": [
    {
     "name": "stdout",
     "output_type": "stream",
     "text": [
      "Statistiche per la descrizione:\n",
      "  Min: 22\n",
      "  Max: 38\n",
      "  Media: 26.893772893772894\n",
      "  Mediana: 27.0\n",
      "\n",
      "Statistiche per il codice:\n",
      "  Min: 8\n",
      "  Max: 9636\n",
      "  Media: 148.86080586080587\n",
      "  Mediana: 51.0\n",
      "\n",
      "Statistiche per il testo completo (descrizione + codice):\n",
      "  Min: 37\n",
      "  Max: 9664\n",
      "  Media: 177.75457875457874\n",
      "  Mediana: 81.0\n",
      "\n"
     ]
    },
    {
     "data": {
      "text/plain": [
       "<Figure size 1000x500 with 1 Axes>"
      ],
      "image/png": "[encoded data removed]"
     },
     "metadata": {},
     "output_type": "display_data"
    }
   ],
   "execution_count": 5
  },
  {
   "metadata": {
    "ExecuteTime": {
     "end_time": "2025-02-21T19:15:24.753726Z",
     "start_time": "2025-02-21T19:15:22.548875Z"
    }
   },
   "cell_type": "code",
   "outputs": [
    {
     "name": "stdout",
     "output_type": "stream",
     "text": [
      "Requirement already satisfied: scikit-learn in c:\\users\\scala\\miniconda3\\lib\\site-packages (1.6.1)\n",
      "Requirement already satisfied: numpy>=1.19.5 in c:\\users\\scala\\miniconda3\\lib\\site-packages (from scikit-learn) (2.2.3)\n",
      "Requirement already satisfied: scipy>=1.6.0 in c:\\users\\scala\\miniconda3\\lib\\site-packages (from scikit-learn) (1.15.2)\n",
      "Requirement already satisfied: joblib>=1.2.0 in c:\\users\\scala\\miniconda3\\lib\\site-packages (from scikit-learn) (1.4.2)\n",
      "Requirement already satisfied: threadpoolctl>=3.1.0 in c:\\users\\scala\\miniconda3\\lib\\site-packages (from scikit-learn) (3.5.0)\n"
     ]
    }
   ],
   "execution_count": 12,
   "source": "!pip install -U scikit-learn"
  },
  {
   "metadata": {
    "id": "_SWl39j5-3iI",
    "ExecuteTime": {
     "end_time": "2025-02-22T11:47:12.149057Z",
     "start_time": "2025-02-22T11:47:10.862713Z"
    }
   },
   "cell_type": "code",
   "source": [
    "import os\n",
    "import torch\n",
    "import pandas as pd\n",
    "import numpy as np\n",
    "from sklearn.model_selection import train_test_split\n",
    "from datasets import Dataset\n",
    "from transformers import (\n",
    "    AutoModelForCausalLM,\n",
    "    AutoTokenizer,\n",
    "    TrainingArguments,\n",
    "    Trainer,\n",
    "    DataCollatorForSeq2Seq\n",
    ")"
   ],
   "outputs": [],
   "execution_count": 6
  },
  {
   "metadata": {
    "id": "-96GKQvXYd_m",
    "ExecuteTime": {
     "end_time": "2025-02-22T11:47:12.900670Z",
     "start_time": "2025-02-22T11:47:12.895616Z"
    }
   },
   "cell_type": "code",
   "source": [
    "#funzione per trovare i moduli lineare come detto da quel paper su QLoRA\n",
    "def find_target_modules(model):\n",
    "    # Initialize a Set to Store Unique Layers\n",
    "    unique_layers = set()\n",
    "\n",
    "    # Iterate Over All Named Modules in the Model\n",
    "    for name, module in model.named_modules():\n",
    "        # Check if the Module Type Contains 'Linear4bit'\n",
    "        if \"Linear4bit\" in str(type(module)):\n",
    "            # Extract the Type of the Layer\n",
    "            layer_type = name.split('.')[-1]\n",
    "\n",
    "            # Add the Layer Type to the Set of Unique Layers\n",
    "            unique_layers.add(layer_type)\n",
    "\n",
    "    # Return the Set of Unique Layers Converted to a List\n",
    "    return list(unique_layers)"
   ],
   "outputs": [],
   "execution_count": 7
  },
  {
   "cell_type": "markdown",
   "source": [
    "### Model Loading and LoRA Configuration\n",
    "This section loads the base model, applies 4-bit quantization for memory efficiency, and configures LoRA (Low-Rank Adaptation) for fine-tuning.\n",
    "\n",
    "#### **Model Quantization Setup**\n",
    "- The base model `\"mistralai/Mistral-7B-Instruct-v0.2\"` is selected for fine-tuning.\n",
    "- `BitsAndBytesConfig` is used to enable **4-bit quantization**, which reduces memory consumption while maintaining performance:\n",
    "  - `nf4` (Normal Float 4) is chosen as the quantization type.\n",
    "  - `bfloat16` is used for computations to balance precision and efficiency.\n",
    "  - `bnb_4bit_use_double_quant=False` prevents additional quantization layers to keep training stable.\n",
    "\n",
    "#### **Model and Tokenizer Initialization**\n",
    "- The base model is loaded with the quantization settings and mapped automatically to available hardware (`device_map=\"auto\"`).\n",
    "- The tokenizer is loaded and configured:\n",
    "  - The padding token is set to the EOS token to handle padding properly.\n",
    "  - The padding side is set to `\"left\"` to align inputs correctly for causal language modeling.\n",
    "\n",
    "#### **LoRA Configuration for Efficient Fine-Tuning**\n",
    "- `prepare_model_for_kbit_training()` is applied to disable gradients on frozen quantized layers, optimizing the model for fine-tuning.\n",
    "- **LoRA Parameters:**\n",
    "  - `r=16`: The rank of the LoRA adaptation matrices (higher values increase capacity).\n",
    "  - `lora_alpha=32`: Controls scaling of LoRA updates.\n",
    "  - `lora_dropout=0.05`: Adds dropout regularization to prevent overfitting.\n",
    "  - `bias=\"none\"`: No bias parameters are added.\n",
    "  - `task_type=\"CAUSAL_LM\"`: Specifies the model is a causal language model.\n",
    "  - `target_modules`: LoRA is applied to key transformer components (`q_proj`, `k_proj`, `v_proj`, `o_proj`, `gate_proj`), which control attention mechanism computations.\n",
    "\n",
    "#### **Printing Trainable Parameters**\n",
    "- The script prints out the number of trainable parameters after applying LoRA, ensuring only the lightweight LoRA adapters are updated while keeping the main model frozen.\n",
    "\n",
    "This setup enables efficient fine-tuning on large-scale language models with minimal computational overhead.\n"
   ],
   "metadata": {
    "id": "6--FJS_EyJCK"
   }
  },
  {
   "cell_type": "code",
   "source": [
    "import torch\n",
    "from peft import LoraConfig, get_peft_model, prepare_model_for_kbit_training\n",
    "from transformers import (\n",
    "    AutoModelForCausalLM,\n",
    "    AutoTokenizer,\n",
    "    BitsAndBytesConfig\n",
    ")\n",
    "\n",
    "# Sostituisci con il tuo modello\n",
    "base_model = \"google/codegemma-7b\"\n",
    "\n",
    "# Configurazione per la quantizzazione 4-bit\n",
    "bnb_config = BitsAndBytesConfig(\n",
    "    load_in_4bit=True,\n",
    "    bnb_4bit_quant_type=\"nf4\",\n",
    "    bnb_4bit_compute_dtype=torch.bfloat16,\n",
    "    bnb_4bit_use_double_quant=True\n",
    ")\n",
    "\n",
    "# Impostiamo i limiti di memoria massima (indicativi!) per GPU e CPU.\n",
    "# - \"0\": la tua prima GPU (se ne hai solo una).\n",
    "# - \"cpu\": la CPU.\n",
    "#\n",
    "# Ad esempio, se hai una GPU da 12GB o 16GB, puoi regolare la voce \"0\" di conseguenza.\n",
    "# \"cpu\" può essere anche maggiore (in GB) se hai abbastanza RAM di sistema.\n",
    "max_memory = {\n",
    "    0: \"8GiB\",  # Limite (fittizio) di 10 GiB sulla GPU\n",
    "    \"cpu\": \"16GiB\"  # Limite di 48 GiB sulla CPU\n",
    "}\n",
    "\n",
    "print(\"Caricamento del modello base (con offload su CPU/GPU)...\")\n",
    "model = AutoModelForCausalLM.from_pretrained(\n",
    "    base_model,\n",
    "    quantization_config=bnb_config,\n",
    "    torch_dtype=torch.bfloat16,\n",
    "    device_map=\"auto\",         # lascia decidere a HF come piazzare i layer\n",
    "    max_memory=max_memory      # impone i limiti di memoria\n",
    ")\n",
    "\n",
    "print(\"Caricamento del tokenizer...\")\n",
    "tokenizer = AutoTokenizer.from_pretrained(base_model)\n",
    "tokenizer.pad_token = tokenizer.eos_token\n",
    "tokenizer.padding_side = \"left\"\n",
    "\n",
    "# Prepara il modello per k-bit training (disabilita i gradienti del modello base)\n",
    "model = prepare_model_for_kbit_training(model)\n",
    "\n",
    "# Configurazione LoRA (puoi ridurre r se serve ulteriore risparmio)\n",
    "lora_config = LoraConfig(\n",
    "    r=16,\n",
    "    lora_alpha=32,\n",
    "    lora_dropout=0.05,\n",
    "    bias=\"none\",\n",
    "    task_type=\"CAUSAL_LM\",\n",
    "    target_modules=find_target_modules(model),\n",
    ")\n",
    "\n",
    "print(\"Applicazione di LoRA al modello...\")\n",
    "model = get_peft_model(model, lora_config)\n",
    "\n",
    "print(\"Parametri allenabili:\")\n",
    "model.print_trainable_parameters()\n"
   ],
   "metadata": {
    "colab": {
     "base_uri": "https://localhost:8080/",
     "height": 101,
     "referenced_widgets": [
      "c437eda561f4447c81c567b722a296d0",
      "18e561ad37f5470a98e705b26dc18ac4",
      "b261b69fd53945a5b932459123d86741",
      "46bd58fea6774e43b8483dc811d802a3",
      "4c3d1a844df94a739aa62c153d5401f4",
      "70249b8e2e574ef8bb155bb69a4ecc11",
      "f6c6cdd6c9224d66982832f42b2a3452",
      "bf1be2a6419b4d8ab59688c61dc787b9",
      "b457d042d57c48bd9d0e1031788cc148",
      "9de3e491fd044af69e040d4f4ef417f0",
      "93ea97cf18ae437dae889e993eb644df"
     ]
    },
    "id": "26hh2jaO-5pZ",
    "outputId": "95abd170-603e-4c5c-cee5-62b8be8da63d",
    "ExecuteTime": {
     "end_time": "2025-02-22T11:47:42.293485Z",
     "start_time": "2025-02-22T11:47:15.495766Z"
    }
   },
   "outputs": [
    {
     "name": "stdout",
     "output_type": "stream",
     "text": [
      "Caricamento del modello base (con offload su CPU/GPU)...\n"
     ]
    },
    {
     "data": {
      "text/plain": [
       "Loading checkpoint shards:   0%|          | 0/4 [00:00<?, ?it/s]"
      ],
      "application/vnd.jupyter.widget-view+json": {
       "version_major": 2,
       "version_minor": 0,
       "model_id": "8ff0f908b3df43048b4a3cd27a5ca87a"
      }
     },
     "metadata": {},
     "output_type": "display_data"
    },
    {
     "name": "stdout",
     "output_type": "stream",
     "text": [
      "Caricamento del tokenizer...\n",
      "Applicazione di LoRA al modello...\n",
      "Parametri allenabili:\n",
      "trainable params: 50,003,968 || all params: 8,587,684,864 || trainable%: 0.5823\n"
     ]
    }
   ],
   "execution_count": 8
  },
  {
   "cell_type": "code",
   "source": [
    "# Caricamento e pulizia del dataset\n",
    "csv_path = \"datasets/new_dataset.csv\"\n",
    "df = pd.read_csv(csv_path)\n",
    "\n",
    "df.dropna(subset=[\"permission_df\", \"filter_code\"], inplace=True)\n",
    "\n",
    "#drop duplicates\n",
    "#df.drop_duplicates(subset=[\"permission_df\", \"filter_code\"], inplace=True)\n",
    "\n",
    "#Suddivisione train   e val\n",
    "train_df, eval_df = train_test_split(df, test_size=0.356, random_state=42)\n",
    "\n",
    "train_dataset = Dataset.from_pandas(train_df)\n",
    "eval_dataset  = Dataset.from_pandas(eval_df)"
   ],
   "metadata": {
    "id": "ey3NStBN_Bhx",
    "ExecuteTime": {
     "end_time": "2025-02-22T11:47:42.344916Z",
     "start_time": "2025-02-22T11:47:42.299164Z"
    }
   },
   "outputs": [],
   "execution_count": 9
  },
  {
   "cell_type": "code",
   "source": [
    "eval_dataset"
   ],
   "metadata": {
    "colab": {
     "base_uri": "https://localhost:8080/"
    },
    "id": "uboU1hT5KTYb",
    "outputId": "73eed79d-24af-4d2c-a285-2f41fd00ebf7",
    "ExecuteTime": {
     "end_time": "2025-02-22T11:47:42.413689Z",
     "start_time": "2025-02-22T11:47:42.407909Z"
    }
   },
   "outputs": [
    {
     "data": {
      "text/plain": [
       "Dataset({\n",
       "    features: ['permission_df', 'filter_code', '__index_level_0__'],\n",
       "    num_rows: 200\n",
       "})"
      ]
     },
     "execution_count": 10,
     "metadata": {},
     "output_type": "execute_result"
    }
   ],
   "execution_count": 10
  },
  {
   "metadata": {
    "ExecuteTime": {
     "end_time": "2025-02-21T19:15:55.753338Z",
     "start_time": "2025-02-21T19:15:53.370119Z"
    }
   },
   "cell_type": "code",
   "source": "!pip3 install torch torchvision torchaudio --index-url https://download.pytorch.org/whl/cu118",
   "outputs": [
    {
     "name": "stdout",
     "output_type": "stream",
     "text": [
      "Looking in indexes: https://download.pytorch.org/whl/cu118\n",
      "Requirement already satisfied: torch in c:\\users\\scala\\miniconda3\\lib\\site-packages (2.6.0+cu118)\n",
      "Requirement already satisfied: torchvision in c:\\users\\scala\\miniconda3\\lib\\site-packages (0.21.0+cu118)\n",
      "Requirement already satisfied: torchaudio in c:\\users\\scala\\miniconda3\\lib\\site-packages (2.6.0+cu118)\n",
      "Requirement already satisfied: filelock in c:\\users\\scala\\miniconda3\\lib\\site-packages (from torch) (3.17.0)\n",
      "Requirement already satisfied: typing-extensions>=4.10.0 in c:\\users\\scala\\miniconda3\\lib\\site-packages (from torch) (4.12.2)\n",
      "Requirement already satisfied: networkx in c:\\users\\scala\\miniconda3\\lib\\site-packages (from torch) (3.4.2)\n",
      "Requirement already satisfied: jinja2 in c:\\users\\scala\\miniconda3\\lib\\site-packages (from torch) (3.1.5)\n",
      "Requirement already satisfied: fsspec in c:\\users\\scala\\miniconda3\\lib\\site-packages (from torch) (2023.10.0)\n",
      "Requirement already satisfied: setuptools in c:\\users\\scala\\miniconda3\\lib\\site-packages (from torch) (72.1.0)\n",
      "Requirement already satisfied: sympy==1.13.1 in c:\\users\\scala\\miniconda3\\lib\\site-packages (from torch) (1.13.1)\n",
      "Requirement already satisfied: mpmath<1.4,>=1.1.0 in c:\\users\\scala\\miniconda3\\lib\\site-packages (from sympy==1.13.1->torch) (1.3.0)\n",
      "Requirement already satisfied: numpy in c:\\users\\scala\\miniconda3\\lib\\site-packages (from torchvision) (2.2.3)\n",
      "Requirement already satisfied: pillow!=8.3.*,>=5.3.0 in c:\\users\\scala\\miniconda3\\lib\\site-packages (from torchvision) (11.1.0)\n",
      "Requirement already satisfied: MarkupSafe>=2.0 in c:\\users\\scala\\miniconda3\\lib\\site-packages (from jinja2->torch) (3.0.2)\n"
     ]
    }
   ],
   "execution_count": 18
  },
  {
   "metadata": {
    "ExecuteTime": {
     "end_time": "2025-02-22T11:35:51.287371Z",
     "start_time": "2025-02-22T11:35:51.280844Z"
    }
   },
   "cell_type": "code",
   "source": [
    "import torch\n",
    "if torch.cuda.is_available():\n",
    "    print('it works')"
   ],
   "outputs": [
    {
     "name": "stdout",
     "output_type": "stream",
     "text": [
      "it works\n"
     ]
    }
   ],
   "execution_count": 14
  },
  {
   "metadata": {
    "ExecuteTime": {
     "end_time": "2025-02-21T19:15:57.706364Z",
     "start_time": "2025-02-21T19:15:55.799107Z"
    }
   },
   "cell_type": "code",
   "source": "!pip install bitsandbytes>=0.43.0",
   "outputs": [],
   "execution_count": 20
  },
  {
   "cell_type": "markdown",
   "source": [
    "### Tokenization and Data Collation\n",
    "This section preprocesses the dataset by tokenizing input sequences and preparing them for training.\n",
    "\n",
    "#### **Tokenization Process**\n",
    "- The function `tokenize_function` processes the dataset by:\n",
    "  1. **Concatenating Descriptions and Code:**  \n",
    "     - A separator (`\\n###\\n`) is used to distinguish between the description and the corresponding code.\n",
    "  2. **Tokenizing the Full Input:**  \n",
    "     - Texts are tokenized with a max length of `256` tokens and padded using `\"max_length\"` to ensure consistent input sizes.\n",
    "  3. **Calculating Prompt Lengths:**  \n",
    "     - The same tokenization settings are applied to the prompt alone (description + separator).\n",
    "     - The number of tokens in the prompt (excluding padding) is recorded.\n",
    "  4. **Creating Labels:**  \n",
    "     - Tokens corresponding to the prompt are masked using `-100` (ignored during loss computation).\n",
    "     - The remaining part (code) is left unchanged for the model to learn from.\n",
    "\n",
    "#### **Dataset Tokenization**\n",
    "- The `train_dataset` and `eval_dataset` are processed using `dataset.map()`, applying the tokenization function in batches.\n",
    "\n",
    "This setup ensures efficient tokenization and dynamic padding, making training more stable and memory-efficient.\n"
   ],
   "metadata": {
    "id": "T0Wuaffcyg6c"
   }
  },
  {
   "cell_type": "code",
   "source": [
    "from transformers import DataCollatorWithPadding\n",
    "# Funzione di tokenizzazione\n",
    "def tokenize_function(examples):\n",
    "    separator = \"\\n###\\n\"\n",
    "\n",
    "    # Concateno desc + code\n",
    "    full_text = [\n",
    "        desc + separator + code\n",
    "        for desc, code in zip(examples[\"permission_df\"], examples[\"filter_code\"])\n",
    "    ]\n",
    "\n",
    "    # Tokenizza con padding e truncation \"coerenti\"\n",
    "    tokenized = tokenizer(\n",
    "        full_text,\n",
    "        truncation=True,\n",
    "        max_length=256,\n",
    "        padding=\"max_length\"  # cosi ottengo shape costanti\n",
    "    )\n",
    "\n",
    "    # Calcolo la lunghezza del prompt con gli stessi identici parametri\n",
    "    prompt_text = [\n",
    "        desc + separator\n",
    "        for desc in examples[\"permission_df\"]\n",
    "    ]\n",
    "    tokenized_prompt = tokenizer(\n",
    "        prompt_text,\n",
    "        truncation=True,\n",
    "        max_length=256,\n",
    "        padding=\"max_length\"  # stesse impostazioni\n",
    "    )\n",
    "    prompt_lengths = [\n",
    "        sum(p_id != tokenizer.pad_token_id for p_id in p_ids)\n",
    "        for p_ids in tokenized_prompt[\"input_ids\"]\n",
    "    ]\n",
    "\n",
    "    # Costruisco le label: maschero la parte del prompt con -100\n",
    "    labels = []\n",
    "    for i, seq in enumerate(tokenized[\"input_ids\"]):\n",
    "        prompt_len = prompt_lengths[i]\n",
    "        # Il prompt è su N token e la rimanente parte su (512 - N) token\n",
    "        masked_labels = [-100]*prompt_len + seq[prompt_len:]\n",
    "        labels.append(masked_labels)\n",
    "\n",
    "    tokenized[\"labels\"] = labels\n",
    "    return tokenized\n",
    "\n",
    "\n",
    "\n",
    "\n",
    "train_dataset = train_dataset.map(tokenize_function, batched=True)\n",
    "eval_dataset  = eval_dataset.map(tokenize_function,  batched=True)"
   ],
   "metadata": {
    "colab": {
     "base_uri": "https://localhost:8080/",
     "height": 81,
     "referenced_widgets": [
      "8d88ee5e4ad34ec680f273746d397875",
      "5f85385a9f864695b2d14603b973cb4c",
      "cec59ec9b17549e5934749c05c400d93",
      "fd9da883fdba4c9fab45f3431c65e745",
      "8cbc76e2623f41469385ff3c3c693559",
      "c94dbdd94406423988524e253cdb5534",
      "15eea73691dc4e3bba10f624e94d9b5f",
      "0750ee95c9964c3c88ae4d6b887e7fb0",
      "542162c2fb714319a6e1fe3ec2539b7b",
      "e45d1ed9136c48a2939625ceff0aada3",
      "e963bb217855411eb5514d2b4d019a55",
      "bb3afb5139134c578160917ae8098714",
      "f682f21acb8643c990104c4222048552",
      "91c6f9df2f1e48f699db299de91c0b10",
      "2ffa1a324eb54078813c331a0b919a53",
      "f90493d58e47402eae30c24f049006c4",
      "07e968b158ed47528b51e833deb8e473",
      "2aecadcdb8134f2c9a60bd450e6fe53e",
      "c81817ef70c94c55a64328b63ec857fe",
      "dd94266bae134d61ab1096d9ca487448",
      "f71aad6897bc401089c349f5f18ec48b",
      "b2308da1975f4d1b8c3c2bedab72463b"
     ]
    },
    "id": "iOCFKwkm_Jyx",
    "outputId": "72bb0fdd-28f1-4fa4-a7ff-61234414b1db",
    "ExecuteTime": {
     "end_time": "2025-02-22T11:47:43.626717Z",
     "start_time": "2025-02-22T11:47:42.487542Z"
    }
   },
   "outputs": [
    {
     "data": {
      "text/plain": [
       "Map:   0%|          | 0/360 [00:00<?, ? examples/s]"
      ],
      "application/vnd.jupyter.widget-view+json": {
       "version_major": 2,
       "version_minor": 0,
       "model_id": "004bf7bde5cd4d058a31f9c9c0258770"
      }
     },
     "metadata": {},
     "output_type": "display_data"
    },
    {
     "data": {
      "text/plain": [
       "Map:   0%|          | 0/200 [00:00<?, ? examples/s]"
      ],
      "application/vnd.jupyter.widget-view+json": {
       "version_major": 2,
       "version_minor": 0,
       "model_id": "9ec166f7bd224ee29a0803f36688389e"
      }
     },
     "metadata": {},
     "output_type": "display_data"
    }
   ],
   "execution_count": 11
  },
  {
   "cell_type": "code",
   "source": [
    "import nltk\n",
    "nltk.download('wordnet')"
   ],
   "metadata": {
    "id": "vyRtjlC-MEcu",
    "outputId": "00781bef-99ef-40ef-9b92-9b890f2fbfa7",
    "colab": {
     "base_uri": "https://localhost:8080/"
    },
    "ExecuteTime": {
     "end_time": "2025-02-22T11:47:44.452636Z",
     "start_time": "2025-02-22T11:47:43.644583Z"
    }
   },
   "outputs": [
    {
     "name": "stderr",
     "output_type": "stream",
     "text": [
      "[nltk_data] Downloading package wordnet to\n",
      "[nltk_data]     C:\\Users\\scala\\AppData\\Roaming\\nltk_data...\n",
      "[nltk_data]   Package wordnet is already up-to-date!\n"
     ]
    },
    {
     "data": {
      "text/plain": [
       "True"
      ]
     },
     "execution_count": 12,
     "metadata": {},
     "output_type": "execute_result"
    }
   ],
   "execution_count": 12
  },
  {
   "cell_type": "code",
   "source": [
    "#from google.colab import drive\n",
    "#drive.mount('/content/drive')"
   ],
   "metadata": {
    "colab": {
     "base_uri": "https://localhost:8080/"
    },
    "id": "RnqYjkmBAUp8",
    "outputId": "e37409ce-a140-4400-c0c4-e1ccf4b11fb3",
    "ExecuteTime": {
     "end_time": "2025-02-21T19:15:59.826532Z",
     "start_time": "2025-02-21T19:15:59.821336Z"
    }
   },
   "outputs": [],
   "execution_count": 23
  },
  {
   "cell_type": "markdown",
   "source": [
    "### Seq2Seq Training Setup with Custom Metrics\n",
    "This section configures and executes the training process using the `Trainer` API with custom evaluation metrics.\n",
    "\n",
    "#### **Training Arguments Configuration**\n",
    "- The `TrainingArguments` class is used to define key training parameters:\n",
    "  - **Training epochs:** `5` full passes over the dataset.\n",
    "  - **Batch size:** `2` per device with `gradient_accumulation_steps=4` to simulate a larger batch.\n",
    "  - **Learning rate:** `1e-4` with a `cosine` scheduler for gradual decay.\n",
    "  - **Weight decay:** `0.01` for regularization.\n",
    "  - **Mixed precision:** `bf16=True` for optimized training on supported GPUs.\n",
    "  - **Evaluation strategy:** `epoch`, meaning evaluation occurs at the end of each epoch.\n",
    "  - **Checkpointing:** Saves model checkpoints every `100` steps, keeping the last `3` checkpoints.\n",
    "\n",
    "#### **Custom Metric Computation**\n",
    "- The `compute_metrics` function evaluates model performance using:\n",
    "  - **BLEU Score:** Measures word overlap between predictions and references, using smoothing for short sentences.\n",
    "  - **METEOR Score:** Accounts for synonyms, stemming, and word order to evaluate translations.\n",
    "  - **ROUGE Score:** Compares n-gram matches between generated and reference texts.\n",
    "- **Key Preprocessing Steps:**\n",
    "  - Converts `-100` labels (ignored during training) into the tokenizer's padding token.\n",
    "  - Decodes predictions and references into readable text before evaluation.\n",
    "  - Computes and averages scores across all samples.\n",
    "\n",
    "#### **Trainer Initialization**\n",
    "- The `Trainer` API is used to manage training:\n",
    "  - The model is fine-tuned on `train_dataset` and evaluated on `eval_dataset`.\n",
    "  - The tokenizer is provided for text processing.\n",
    "  - The `compute_metrics` function is integrated to track performance.\n",
    "\n",
    "#### **Training Execution and Model Saving**\n",
    "- The model training is initiated with `trainer.train()`.\n",
    "- The final fine-tuned model, including **LoRA adapters and quantization settings**, is saved to `\"./results/best_model\"`.\n"
   ],
   "metadata": {
    "id": "_dXXAtp2y4tj"
   }
  },
  {
   "cell_type": "code",
   "source": [
    "from transformers import Seq2SeqTrainingArguments, Trainer\n",
    "from datasets import load_metric\n",
    "from nltk.translate.bleu_score import sentence_bleu, SmoothingFunction\n",
    "from nltk.translate.meteor_score import meteor_score\n",
    "from rouge_score import rouge_scorer\n",
    "\n",
    "# Impostazioni di training specifiche per Seq2Seq\n",
    "training_args = TrainingArguments(\n",
    "    output_dir=\"./NLPMODELS/codegemma\",\n",
    "    overwrite_output_dir=True,\n",
    "    num_train_epochs=5,\n",
    "    per_device_train_batch_size=2,\n",
    "    gradient_accumulation_steps=4,\n",
    "    warmup_ratio=0.03,\n",
    "    lr_scheduler_type=\"cosine\",\n",
    "    learning_rate=1e-4,\n",
    "    weight_decay=0.01,\n",
    "    max_grad_norm=1.0,\n",
    "    #save_steps=100,\n",
    "    logging_steps=2,\n",
    "    save_strategy=\"epoch\",\n",
    "    #eval_strategy=\"epoch\",\n",
    "    load_best_model_at_end=False,\n",
    "    save_total_limit=3,\n",
    "    fp16=False,\n",
    "    bf16=True,\n",
    "    #report_to=\"wandb\",\n",
    "    #predict_with_generate=True\n",
    ")\n",
    "\n",
    "# Funzione per il calcolo delle metriche\n",
    "import numpy as np\n",
    "\n",
    "def compute_metrics(eval_pred):\n",
    "    predictions, labels = eval_pred\n",
    "\n",
    "    # Se predictions è un tuple, prendiamo la prima parte\n",
    "    if isinstance(predictions, tuple):\n",
    "        predictions = predictions[0]\n",
    "\n",
    "    # Se predictions è un tensor, trasformiamolo in numpy\n",
    "    if isinstance(predictions, torch.Tensor):\n",
    "        predictions = predictions.detach().cpu().numpy()\n",
    "\n",
    "    # Se i predictions contengono logits invece di id di token, facciamo argmax\n",
    "    if predictions.dtype not in [int, 'int32', 'int64']:\n",
    "        predictions = predictions.argmax(axis=-1)\n",
    "\n",
    "    labels = np.where(labels == -100, tokenizer.pad_token_id, labels)\n",
    "\n",
    "    # Decodifica\n",
    "    decoded_preds = tokenizer.batch_decode(predictions, skip_special_tokens=True)\n",
    "    decoded_labels = tokenizer.batch_decode(labels, skip_special_tokens=True)\n",
    "\n",
    "    # Calcolo metriche BLEU, METEOR, ROUGE ecc.\n",
    "    from nltk.translate.bleu_score import sentence_bleu, SmoothingFunction\n",
    "    from nltk.translate.meteor_score import meteor_score\n",
    "    from rouge_score import rouge_scorer\n",
    "\n",
    "    # BLEU\n",
    "    bleu_scores = [\n",
    "        sentence_bleu(\n",
    "            [ref.split()], pred.split(),\n",
    "            smoothing_function=SmoothingFunction().method1\n",
    "        )\n",
    "        for pred, ref in zip(decoded_preds, decoded_labels)\n",
    "    ]\n",
    "    avg_bleu = sum(bleu_scores) / len(bleu_scores)\n",
    "\n",
    "    # METEOR\n",
    "    meteor_scores = [\n",
    "        meteor_score([ref.split()], pred.split())\n",
    "        for pred, ref in zip(decoded_preds, decoded_labels)\n",
    "    ]\n",
    "    avg_meteor = sum(meteor_scores) / len(meteor_scores)\n",
    "\n",
    "    # ROUGE\n",
    "    rouge = rouge_scorer.RougeScorer([\"rouge1\", \"rouge2\", \"rougeL\"], use_stemmer=True)\n",
    "    rouge_scores = [\n",
    "        rouge.score(ref, pred)\n",
    "        for pred, ref in zip(decoded_preds, decoded_labels)\n",
    "    ]\n",
    "    avg_rouge1 = sum(score[\"rouge1\"].fmeasure for score in rouge_scores) / len(rouge_scores)\n",
    "    avg_rouge2 = sum(score[\"rouge2\"].fmeasure for score in rouge_scores) / len(rouge_scores)\n",
    "    avg_rougeL = sum(score[\"rougeL\"].fmeasure for score in rouge_scores) / len(rouge_scores)\n",
    "\n",
    "    return {\n",
    "        \"bleu\": avg_bleu,\n",
    "        \"meteor\": avg_meteor,\n",
    "        \"rouge1\": avg_rouge1,\n",
    "        \"rouge2\": avg_rouge2,\n",
    "        \"rougeL\": avg_rougeL,\n",
    "    }\n",
    "\n",
    "trainer = Trainer(\n",
    "    model=model,\n",
    "    args=training_args,\n",
    "    train_dataset=train_dataset,\n",
    "    eval_dataset=eval_dataset,\n",
    "    processing_class=tokenizer,\n",
    "    compute_metrics=compute_metrics\n",
    ")\n",
    "\n",
    "# Avvia il training\n",
    "trainer.train()\n",
    "\n",
    "# Salvataggio finale LoRA + quantization\n",
    "trainer.save_model(\"./results/best_model\")\n"
   ],
   "metadata": {
    "colab": {
     "base_uri": "https://localhost:8080/",
     "height": 309,
     "referenced_widgets": [
      "8eee8b7275f044eb94cce31e2192fe65",
      "6bd2079832b94535aa30c5bac166cbac",
      "bf9e200ce79c4ad2810799292a628002",
      "2741cbeec5554b5b906f6a5e5b7b74a1",
      "0c96dff48d8f4a1582e9f7019db325fa",
      "2ccd442740c3411380511bd74e8ef4b0",
      "6a00cafa70894e72827764f68cd2b1e0",
      "53eed4940eb949acb1f1f9dcb18b67c5"
     ]
    },
    "id": "A1A5paYQ_N7I",
    "outputId": "c24daeae-1a81-4087-d224-b546ae265b6a",
    "jupyter": {
     "is_executing": true
    },
    "ExecuteTime": {
     "start_time": "2025-02-22T11:47:44.457649Z"
    }
   },
   "outputs": [
    {
     "name": "stderr",
     "output_type": "stream",
     "text": [
      "No label_names provided for model class `PeftModelForCausalLM`. Since `PeftModel` hides base models input arguments, if label_names is not given, label_names can't be set automatically within `Trainer`. Note that empty label_names list will be used instead.\n",
      "`use_cache=True` is incompatible with gradient checkpointing. Setting `use_cache=False`.\n",
      "C:\\Users\\scala\\miniconda3\\Lib\\site-packages\\torch\\_dynamo\\eval_frame.py:745: UserWarning: torch.utils.checkpoint: the use_reentrant parameter should be passed explicitly. In version 2.5 we will raise an exception if use_reentrant is not passed. use_reentrant=False is recommended, but if you need to preserve the current default behavior, you can pass use_reentrant=True. Refer to docs for more details on the differences between the two variants.\n",
      "  return fn(*args, **kwargs)\n"
     ]
    }
   ],
   "execution_count": null
  }
 ],
 "metadata": {
  "accelerator": "GPU",
  "colab": {
   "gpuType": "T4",
   "provenance": []
  },
  "kernelspec": {
   "display_name": "Python 3 (ipykernel)",
   "name": "python3",
   "language": "python"
  },
  "language_info": {
   "name": "python"
  },
  "widgets": {
   "application/vnd.jupyter.widget-state+json": {
    "c437eda561f4447c81c567b722a296d0": {
     "model_module": "@jupyter-widgets/controls",
     "model_name": "HBoxModel",
     "model_module_version": "1.5.0",
     "state": {
      "_dom_classes": [],
      "_model_module": "@jupyter-widgets/controls",
      "_model_module_version": "1.5.0",
      "_model_name": "HBoxModel",
      "_view_count": null,
      "_view_module": "@jupyter-widgets/controls",
      "_view_module_version": "1.5.0",
      "_view_name": "HBoxView",
      "box_style": "",
      "children": [
       "IPY_MODEL_18e561ad37f5470a98e705b26dc18ac4",
       "IPY_MODEL_b261b69fd53945a5b932459123d86741",
       "IPY_MODEL_46bd58fea6774e43b8483dc811d802a3"
      ],
      "layout": "IPY_MODEL_4c3d1a844df94a739aa62c153d5401f4"
     }
    },
    "18e561ad37f5470a98e705b26dc18ac4": {
     "model_module": "@jupyter-widgets/controls",
     "model_name": "HTMLModel",
     "model_module_version": "1.5.0",
     "state": {
      "_dom_classes": [],
      "_model_module": "@jupyter-widgets/controls",
      "_model_module_version": "1.5.0",
      "_model_name": "HTMLModel",
      "_view_count": null,
      "_view_module": "@jupyter-widgets/controls",
      "_view_module_version": "1.5.0",
      "_view_name": "HTMLView",
      "description": "",
      "description_tooltip": null,
      "layout": "IPY_MODEL_70249b8e2e574ef8bb155bb69a4ecc11",
      "placeholder": "​",
      "style": "IPY_MODEL_f6c6cdd6c9224d66982832f42b2a3452",
      "value": "Loading checkpoint shards: 100%"
     }
    },
    "b261b69fd53945a5b932459123d86741": {
     "model_module": "@jupyter-widgets/controls",
     "model_name": "FloatProgressModel",
     "model_module_version": "1.5.0",
     "state": {
      "_dom_classes": [],
      "_model_module": "@jupyter-widgets/controls",
      "_model_module_version": "1.5.0",
      "_model_name": "FloatProgressModel",
      "_view_count": null,
      "_view_module": "@jupyter-widgets/controls",
      "_view_module_version": "1.5.0",
      "_view_name": "ProgressView",
      "bar_style": "success",
      "description": "",
      "description_tooltip": null,
      "layout": "IPY_MODEL_bf1be2a6419b4d8ab59688c61dc787b9",
      "max": 2,
      "min": 0,
      "orientation": "horizontal",
      "style": "IPY_MODEL_b457d042d57c48bd9d0e1031788cc148",
      "value": 2
     }
    },
    "46bd58fea6774e43b8483dc811d802a3": {
     "model_module": "@jupyter-widgets/controls",
     "model_name": "HTMLModel",
     "model_module_version": "1.5.0",
     "state": {
      "_dom_classes": [],
      "_model_module": "@jupyter-widgets/controls",
      "_model_module_version": "1.5.0",
      "_model_name": "HTMLModel",
      "_view_count": null,
      "_view_module": "@jupyter-widgets/controls",
      "_view_module_version": "1.5.0",
      "_view_name": "HTMLView",
      "description": "",
      "description_tooltip": null,
      "layout": "IPY_MODEL_9de3e491fd044af69e040d4f4ef417f0",
      "placeholder": "​",
      "style": "IPY_MODEL_93ea97cf18ae437dae889e993eb644df",
      "value": " 2/2 [01:14&lt;00:00, 34.02s/it]"
     }
    },
    "4c3d1a844df94a739aa62c153d5401f4": {
     "model_module": "@jupyter-widgets/base",
     "model_name": "LayoutModel",
     "model_module_version": "1.2.0",
     "state": {
      "_model_module": "@jupyter-widgets/base",
      "_model_module_version": "1.2.0",
      "_model_name": "LayoutModel",
      "_view_count": null,
      "_view_module": "@jupyter-widgets/base",
      "_view_module_version": "1.2.0",
      "_view_name": "LayoutView",
      "align_content": null,
      "align_items": null,
      "align_self": null,
      "border": null,
      "bottom": null,
      "display": null,
      "flex": null,
      "flex_flow": null,
      "grid_area": null,
      "grid_auto_columns": null,
      "grid_auto_flow": null,
      "grid_auto_rows": null,
      "grid_column": null,
      "grid_gap": null,
      "grid_row": null,
      "grid_template_areas": null,
      "grid_template_columns": null,
      "grid_template_rows": null,
      "height": null,
      "justify_content": null,
      "justify_items": null,
      "left": null,
      "margin": null,
      "max_height": null,
      "max_width": null,
      "min_height": null,
      "min_width": null,
      "object_fit": null,
      "object_position": null,
      "order": null,
      "overflow": null,
      "overflow_x": null,
      "overflow_y": null,
      "padding": null,
      "right": null,
      "top": null,
      "visibility": null,
      "width": null
     }
    },
    "70249b8e2e574ef8bb155bb69a4ecc11": {
     "model_module": "@jupyter-widgets/base",
     "model_name": "LayoutModel",
     "model_module_version": "1.2.0",
     "state": {
      "_model_module": "@jupyter-widgets/base",
      "_model_module_version": "1.2.0",
      "_model_name": "LayoutModel",
      "_view_count": null,
      "_view_module": "@jupyter-widgets/base",
      "_view_module_version": "1.2.0",
      "_view_name": "LayoutView",
      "align_content": null,
      "align_items": null,
      "align_self": null,
      "border": null,
      "bottom": null,
      "display": null,
      "flex": null,
      "flex_flow": null,
      "grid_area": null,
      "grid_auto_columns": null,
      "grid_auto_flow": null,
      "grid_auto_rows": null,
      "grid_column": null,
      "grid_gap": null,
      "grid_row": null,
      "grid_template_areas": null,
      "grid_template_columns": null,
      "grid_template_rows": null,
      "height": null,
      "justify_content": null,
      "justify_items": null,
      "left": null,
      "margin": null,
      "max_height": null,
      "max_width": null,
      "min_height": null,
      "min_width": null,
      "object_fit": null,
      "object_position": null,
      "order": null,
      "overflow": null,
      "overflow_x": null,
      "overflow_y": null,
      "padding": null,
      "right": null,
      "top": null,
      "visibility": null,
      "width": null
     }
    },
    "f6c6cdd6c9224d66982832f42b2a3452": {
     "model_module": "@jupyter-widgets/controls",
     "model_name": "DescriptionStyleModel",
     "model_module_version": "1.5.0",
     "state": {
      "_model_module": "@jupyter-widgets/controls",
      "_model_module_version": "1.5.0",
      "_model_name": "DescriptionStyleModel",
      "_view_count": null,
      "_view_module": "@jupyter-widgets/base",
      "_view_module_version": "1.2.0",
      "_view_name": "StyleView",
      "description_width": ""
     }
    },
    "bf1be2a6419b4d8ab59688c61dc787b9": {
     "model_module": "@jupyter-widgets/base",
     "model_name": "LayoutModel",
     "model_module_version": "1.2.0",
     "state": {
      "_model_module": "@jupyter-widgets/base",
      "_model_module_version": "1.2.0",
      "_model_name": "LayoutModel",
      "_view_count": null,
      "_view_module": "@jupyter-widgets/base",
      "_view_module_version": "1.2.0",
      "_view_name": "LayoutView",
      "align_content": null,
      "align_items": null,
      "align_self": null,
      "border": null,
      "bottom": null,
      "display": null,
      "flex": null,
      "flex_flow": null,
      "grid_area": null,
      "grid_auto_columns": null,
      "grid_auto_flow": null,
      "grid_auto_rows": null,
      "grid_column": null,
      "grid_gap": null,
      "grid_row": null,
      "grid_template_areas": null,
      "grid_template_columns": null,
      "grid_template_rows": null,
      "height": null,
      "justify_content": null,
      "justify_items": null,
      "left": null,
      "margin": null,
      "max_height": null,
      "max_width": null,
      "min_height": null,
      "min_width": null,
      "object_fit": null,
      "object_position": null,
      "order": null,
      "overflow": null,
      "overflow_x": null,
      "overflow_y": null,
      "padding": null,
      "right": null,
      "top": null,
      "visibility": null,
      "width": null
     }
    },
    "b457d042d57c48bd9d0e1031788cc148": {
     "model_module": "@jupyter-widgets/controls",
     "model_name": "ProgressStyleModel",
     "model_module_version": "1.5.0",
     "state": {
      "_model_module": "@jupyter-widgets/controls",
      "_model_module_version": "1.5.0",
      "_model_name": "ProgressStyleModel",
      "_view_count": null,
      "_view_module": "@jupyter-widgets/base",
      "_view_module_version": "1.2.0",
      "_view_name": "StyleView",
      "bar_color": null,
      "description_width": ""
     }
    },
    "9de3e491fd044af69e040d4f4ef417f0": {
     "model_module": "@jupyter-widgets/base",
     "model_name": "LayoutModel",
     "model_module_version": "1.2.0",
     "state": {
      "_model_module": "@jupyter-widgets/base",
      "_model_module_version": "1.2.0",
      "_model_name": "LayoutModel",
      "_view_count": null,
      "_view_module": "@jupyter-widgets/base",
      "_view_module_version": "1.2.0",
      "_view_name": "LayoutView",
      "align_content": null,
      "align_items": null,
      "align_self": null,
      "border": null,
      "bottom": null,
      "display": null,
      "flex": null,
      "flex_flow": null,
      "grid_area": null,
      "grid_auto_columns": null,
      "grid_auto_flow": null,
      "grid_auto_rows": null,
      "grid_column": null,
      "grid_gap": null,
      "grid_row": null,
      "grid_template_areas": null,
      "grid_template_columns": null,
      "grid_template_rows": null,
      "height": null,
      "justify_content": null,
      "justify_items": null,
      "left": null,
      "margin": null,
      "max_height": null,
      "max_width": null,
      "min_height": null,
      "min_width": null,
      "object_fit": null,
      "object_position": null,
      "order": null,
      "overflow": null,
      "overflow_x": null,
      "overflow_y": null,
      "padding": null,
      "right": null,
      "top": null,
      "visibility": null,
      "width": null
     }
    },
    "93ea97cf18ae437dae889e993eb644df": {
     "model_module": "@jupyter-widgets/controls",
     "model_name": "DescriptionStyleModel",
     "model_module_version": "1.5.0",
     "state": {
      "_model_module": "@jupyter-widgets/controls",
      "_model_module_version": "1.5.0",
      "_model_name": "DescriptionStyleModel",
      "_view_count": null,
      "_view_module": "@jupyter-widgets/base",
      "_view_module_version": "1.2.0",
      "_view_name": "StyleView",
      "description_width": ""
     }
    },
    "8d88ee5e4ad34ec680f273746d397875": {
     "model_module": "@jupyter-widgets/controls",
     "model_name": "HBoxModel",
     "model_module_version": "1.5.0",
     "state": {
      "_dom_classes": [],
      "_model_module": "@jupyter-widgets/controls",
      "_model_module_version": "1.5.0",
      "_model_name": "HBoxModel",
      "_view_count": null,
      "_view_module": "@jupyter-widgets/controls",
      "_view_module_version": "1.5.0",
      "_view_name": "HBoxView",
      "box_style": "",
      "children": [
       "IPY_MODEL_5f85385a9f864695b2d14603b973cb4c",
       "IPY_MODEL_cec59ec9b17549e5934749c05c400d93",
       "IPY_MODEL_fd9da883fdba4c9fab45f3431c65e745"
      ],
      "layout": "IPY_MODEL_8cbc76e2623f41469385ff3c3c693559"
     }
    },
    "5f85385a9f864695b2d14603b973cb4c": {
     "model_module": "@jupyter-widgets/controls",
     "model_name": "HTMLModel",
     "model_module_version": "1.5.0",
     "state": {
      "_dom_classes": [],
      "_model_module": "@jupyter-widgets/controls",
      "_model_module_version": "1.5.0",
      "_model_name": "HTMLModel",
      "_view_count": null,
      "_view_module": "@jupyter-widgets/controls",
      "_view_module_version": "1.5.0",
      "_view_name": "HTMLView",
      "description": "",
      "description_tooltip": null,
      "layout": "IPY_MODEL_c94dbdd94406423988524e253cdb5534",
      "placeholder": "​",
      "style": "IPY_MODEL_15eea73691dc4e3bba10f624e94d9b5f",
      "value": "Map: 100%"
     }
    },
    "cec59ec9b17549e5934749c05c400d93": {
     "model_module": "@jupyter-widgets/controls",
     "model_name": "FloatProgressModel",
     "model_module_version": "1.5.0",
     "state": {
      "_dom_classes": [],
      "_model_module": "@jupyter-widgets/controls",
      "_model_module_version": "1.5.0",
      "_model_name": "FloatProgressModel",
      "_view_count": null,
      "_view_module": "@jupyter-widgets/controls",
      "_view_module_version": "1.5.0",
      "_view_name": "ProgressView",
      "bar_style": "success",
      "description": "",
      "description_tooltip": null,
      "layout": "IPY_MODEL_0750ee95c9964c3c88ae4d6b887e7fb0",
      "max": 360,
      "min": 0,
      "orientation": "horizontal",
      "style": "IPY_MODEL_542162c2fb714319a6e1fe3ec2539b7b",
      "value": 360
     }
    },
    "fd9da883fdba4c9fab45f3431c65e745": {
     "model_module": "@jupyter-widgets/controls",
     "model_name": "HTMLModel",
     "model_module_version": "1.5.0",
     "state": {
      "_dom_classes": [],
      "_model_module": "@jupyter-widgets/controls",
      "_model_module_version": "1.5.0",
      "_model_name": "HTMLModel",
      "_view_count": null,
      "_view_module": "@jupyter-widgets/controls",
      "_view_module_version": "1.5.0",
      "_view_name": "HTMLView",
      "description": "",
      "description_tooltip": null,
      "layout": "IPY_MODEL_e45d1ed9136c48a2939625ceff0aada3",
      "placeholder": "​",
      "style": "IPY_MODEL_e963bb217855411eb5514d2b4d019a55",
      "value": " 360/360 [00:00&lt;00:00, 378.74 examples/s]"
     }
    },
    "8cbc76e2623f41469385ff3c3c693559": {
     "model_module": "@jupyter-widgets/base",
     "model_name": "LayoutModel",
     "model_module_version": "1.2.0",
     "state": {
      "_model_module": "@jupyter-widgets/base",
      "_model_module_version": "1.2.0",
      "_model_name": "LayoutModel",
      "_view_count": null,
      "_view_module": "@jupyter-widgets/base",
      "_view_module_version": "1.2.0",
      "_view_name": "LayoutView",
      "align_content": null,
      "align_items": null,
      "align_self": null,
      "border": null,
      "bottom": null,
      "display": null,
      "flex": null,
      "flex_flow": null,
      "grid_area": null,
      "grid_auto_columns": null,
      "grid_auto_flow": null,
      "grid_auto_rows": null,
      "grid_column": null,
      "grid_gap": null,
      "grid_row": null,
      "grid_template_areas": null,
      "grid_template_columns": null,
      "grid_template_rows": null,
      "height": null,
      "justify_content": null,
      "justify_items": null,
      "left": null,
      "margin": null,
      "max_height": null,
      "max_width": null,
      "min_height": null,
      "min_width": null,
      "object_fit": null,
      "object_position": null,
      "order": null,
      "overflow": null,
      "overflow_x": null,
      "overflow_y": null,
      "padding": null,
      "right": null,
      "top": null,
      "visibility": null,
      "width": null
     }
    },
    "c94dbdd94406423988524e253cdb5534": {
     "model_module": "@jupyter-widgets/base",
     "model_name": "LayoutModel",
     "model_module_version": "1.2.0",
     "state": {
      "_model_module": "@jupyter-widgets/base",
      "_model_module_version": "1.2.0",
      "_model_name": "LayoutModel",
      "_view_count": null,
      "_view_module": "@jupyter-widgets/base",
      "_view_module_version": "1.2.0",
      "_view_name": "LayoutView",
      "align_content": null,
      "align_items": null,
      "align_self": null,
      "border": null,
      "bottom": null,
      "display": null,
      "flex": null,
      "flex_flow": null,
      "grid_area": null,
      "grid_auto_columns": null,
      "grid_auto_flow": null,
      "grid_auto_rows": null,
      "grid_column": null,
      "grid_gap": null,
      "grid_row": null,
      "grid_template_areas": null,
      "grid_template_columns": null,
      "grid_template_rows": null,
      "height": null,
      "justify_content": null,
      "justify_items": null,
      "left": null,
      "margin": null,
      "max_height": null,
      "max_width": null,
      "min_height": null,
      "min_width": null,
      "object_fit": null,
      "object_position": null,
      "order": null,
      "overflow": null,
      "overflow_x": null,
      "overflow_y": null,
      "padding": null,
      "right": null,
      "top": null,
      "visibility": null,
      "width": null
     }
    },
    "15eea73691dc4e3bba10f624e94d9b5f": {
     "model_module": "@jupyter-widgets/controls",
     "model_name": "DescriptionStyleModel",
     "model_module_version": "1.5.0",
     "state": {
      "_model_module": "@jupyter-widgets/controls",
      "_model_module_version": "1.5.0",
      "_model_name": "DescriptionStyleModel",
      "_view_count": null,
      "_view_module": "@jupyter-widgets/base",
      "_view_module_version": "1.2.0",
      "_view_name": "StyleView",
      "description_width": ""
     }
    },
    "0750ee95c9964c3c88ae4d6b887e7fb0": {
     "model_module": "@jupyter-widgets/base",
     "model_name": "LayoutModel",
     "model_module_version": "1.2.0",
     "state": {
      "_model_module": "@jupyter-widgets/base",
      "_model_module_version": "1.2.0",
      "_model_name": "LayoutModel",
      "_view_count": null,
      "_view_module": "@jupyter-widgets/base",
      "_view_module_version": "1.2.0",
      "_view_name": "LayoutView",
      "align_content": null,
      "align_items": null,
      "align_self": null,
      "border": null,
      "bottom": null,
      "display": null,
      "flex": null,
      "flex_flow": null,
      "grid_area": null,
      "grid_auto_columns": null,
      "grid_auto_flow": null,
      "grid_auto_rows": null,
      "grid_column": null,
      "grid_gap": null,
      "grid_row": null,
      "grid_template_areas": null,
      "grid_template_columns": null,
      "grid_template_rows": null,
      "height": null,
      "justify_content": null,
      "justify_items": null,
      "left": null,
      "margin": null,
      "max_height": null,
      "max_width": null,
      "min_height": null,
      "min_width": null,
      "object_fit": null,
      "object_position": null,
      "order": null,
      "overflow": null,
      "overflow_x": null,
      "overflow_y": null,
      "padding": null,
      "right": null,
      "top": null,
      "visibility": null,
      "width": null
     }
    },
    "542162c2fb714319a6e1fe3ec2539b7b": {
     "model_module": "@jupyter-widgets/controls",
     "model_name": "ProgressStyleModel",
     "model_module_version": "1.5.0",
     "state": {
      "_model_module": "@jupyter-widgets/controls",
      "_model_module_version": "1.5.0",
      "_model_name": "ProgressStyleModel",
      "_view_count": null,
      "_view_module": "@jupyter-widgets/base",
      "_view_module_version": "1.2.0",
      "_view_name": "StyleView",
      "bar_color": null,
      "description_width": ""
     }
    },
    "e45d1ed9136c48a2939625ceff0aada3": {
     "model_module": "@jupyter-widgets/base",
     "model_name": "LayoutModel",
     "model_module_version": "1.2.0",
     "state": {
      "_model_module": "@jupyter-widgets/base",
      "_model_module_version": "1.2.0",
      "_model_name": "LayoutModel",
      "_view_count": null,
      "_view_module": "@jupyter-widgets/base",
      "_view_module_version": "1.2.0",
      "_view_name": "LayoutView",
      "align_content": null,
      "align_items": null,
      "align_self": null,
      "border": null,
      "bottom": null,
      "display": null,
      "flex": null,
      "flex_flow": null,
      "grid_area": null,
      "grid_auto_columns": null,
      "grid_auto_flow": null,
      "grid_auto_rows": null,
      "grid_column": null,
      "grid_gap": null,
      "grid_row": null,
      "grid_template_areas": null,
      "grid_template_columns": null,
      "grid_template_rows": null,
      "height": null,
      "justify_content": null,
      "justify_items": null,
      "left": null,
      "margin": null,
      "max_height": null,
      "max_width": null,
      "min_height": null,
      "min_width": null,
      "object_fit": null,
      "object_position": null,
      "order": null,
      "overflow": null,
      "overflow_x": null,
      "overflow_y": null,
      "padding": null,
      "right": null,
      "top": null,
      "visibility": null,
      "width": null
     }
    },
    "e963bb217855411eb5514d2b4d019a55": {
     "model_module": "@jupyter-widgets/controls",
     "model_name": "DescriptionStyleModel",
     "model_module_version": "1.5.0",
     "state": {
      "_model_module": "@jupyter-widgets/controls",
      "_model_module_version": "1.5.0",
      "_model_name": "DescriptionStyleModel",
      "_view_count": null,
      "_view_module": "@jupyter-widgets/base",
      "_view_module_version": "1.2.0",
      "_view_name": "StyleView",
      "description_width": ""
     }
    },
    "bb3afb5139134c578160917ae8098714": {
     "model_module": "@jupyter-widgets/controls",
     "model_name": "HBoxModel",
     "model_module_version": "1.5.0",
     "state": {
      "_dom_classes": [],
      "_model_module": "@jupyter-widgets/controls",
      "_model_module_version": "1.5.0",
      "_model_name": "HBoxModel",
      "_view_count": null,
      "_view_module": "@jupyter-widgets/controls",
      "_view_module_version": "1.5.0",
      "_view_name": "HBoxView",
      "box_style": "",
      "children": [
       "IPY_MODEL_f682f21acb8643c990104c4222048552",
       "IPY_MODEL_91c6f9df2f1e48f699db299de91c0b10",
       "IPY_MODEL_2ffa1a324eb54078813c331a0b919a53"
      ],
      "layout": "IPY_MODEL_f90493d58e47402eae30c24f049006c4"
     }
    },
    "f682f21acb8643c990104c4222048552": {
     "model_module": "@jupyter-widgets/controls",
     "model_name": "HTMLModel",
     "model_module_version": "1.5.0",
     "state": {
      "_dom_classes": [],
      "_model_module": "@jupyter-widgets/controls",
      "_model_module_version": "1.5.0",
      "_model_name": "HTMLModel",
      "_view_count": null,
      "_view_module": "@jupyter-widgets/controls",
      "_view_module_version": "1.5.0",
      "_view_name": "HTMLView",
      "description": "",
      "description_tooltip": null,
      "layout": "IPY_MODEL_07e968b158ed47528b51e833deb8e473",
      "placeholder": "​",
      "style": "IPY_MODEL_2aecadcdb8134f2c9a60bd450e6fe53e",
      "value": "Map: 100%"
     }
    },
    "91c6f9df2f1e48f699db299de91c0b10": {
     "model_module": "@jupyter-widgets/controls",
     "model_name": "FloatProgressModel",
     "model_module_version": "1.5.0",
     "state": {
      "_dom_classes": [],
      "_model_module": "@jupyter-widgets/controls",
      "_model_module_version": "1.5.0",
      "_model_name": "FloatProgressModel",
      "_view_count": null,
      "_view_module": "@jupyter-widgets/controls",
      "_view_module_version": "1.5.0",
      "_view_name": "ProgressView",
      "bar_style": "success",
      "description": "",
      "description_tooltip": null,
      "layout": "IPY_MODEL_c81817ef70c94c55a64328b63ec857fe",
      "max": 200,
      "min": 0,
      "orientation": "horizontal",
      "style": "IPY_MODEL_dd94266bae134d61ab1096d9ca487448",
      "value": 200
     }
    },
    "2ffa1a324eb54078813c331a0b919a53": {
     "model_module": "@jupyter-widgets/controls",
     "model_name": "HTMLModel",
     "model_module_version": "1.5.0",
     "state": {
      "_dom_classes": [],
      "_model_module": "@jupyter-widgets/controls",
      "_model_module_version": "1.5.0",
      "_model_name": "HTMLModel",
      "_view_count": null,
      "_view_module": "@jupyter-widgets/controls",
      "_view_module_version": "1.5.0",
      "_view_name": "HTMLView",
      "description": "",
      "description_tooltip": null,
      "layout": "IPY_MODEL_f71aad6897bc401089c349f5f18ec48b",
      "placeholder": "​",
      "style": "IPY_MODEL_b2308da1975f4d1b8c3c2bedab72463b",
      "value": " 200/200 [00:00&lt;00:00, 357.56 examples/s]"
     }
    },
    "f90493d58e47402eae30c24f049006c4": {
     "model_module": "@jupyter-widgets/base",
     "model_name": "LayoutModel",
     "model_module_version": "1.2.0",
     "state": {
      "_model_module": "@jupyter-widgets/base",
      "_model_module_version": "1.2.0",
      "_model_name": "LayoutModel",
      "_view_count": null,
      "_view_module": "@jupyter-widgets/base",
      "_view_module_version": "1.2.0",
      "_view_name": "LayoutView",
      "align_content": null,
      "align_items": null,
      "align_self": null,
      "border": null,
      "bottom": null,
      "display": null,
      "flex": null,
      "flex_flow": null,
      "grid_area": null,
      "grid_auto_columns": null,
      "grid_auto_flow": null,
      "grid_auto_rows": null,
      "grid_column": null,
      "grid_gap": null,
      "grid_row": null,
      "grid_template_areas": null,
      "grid_template_columns": null,
      "grid_template_rows": null,
      "height": null,
      "justify_content": null,
      "justify_items": null,
      "left": null,
      "margin": null,
      "max_height": null,
      "max_width": null,
      "min_height": null,
      "min_width": null,
      "object_fit": null,
      "object_position": null,
      "order": null,
      "overflow": null,
      "overflow_x": null,
      "overflow_y": null,
      "padding": null,
      "right": null,
      "top": null,
      "visibility": null,
      "width": null
     }
    },
    "07e968b158ed47528b51e833deb8e473": {
     "model_module": "@jupyter-widgets/base",
     "model_name": "LayoutModel",
     "model_module_version": "1.2.0",
     "state": {
      "_model_module": "@jupyter-widgets/base",
      "_model_module_version": "1.2.0",
      "_model_name": "LayoutModel",
      "_view_count": null,
      "_view_module": "@jupyter-widgets/base",
      "_view_module_version": "1.2.0",
      "_view_name": "LayoutView",
      "align_content": null,
      "align_items": null,
      "align_self": null,
      "border": null,
      "bottom": null,
      "display": null,
      "flex": null,
      "flex_flow": null,
      "grid_area": null,
      "grid_auto_columns": null,
      "grid_auto_flow": null,
      "grid_auto_rows": null,
      "grid_column": null,
      "grid_gap": null,
      "grid_row": null,
      "grid_template_areas": null,
      "grid_template_columns": null,
      "grid_template_rows": null,
      "height": null,
      "justify_content": null,
      "justify_items": null,
      "left": null,
      "margin": null,
      "max_height": null,
      "max_width": null,
      "min_height": null,
      "min_width": null,
      "object_fit": null,
      "object_position": null,
      "order": null,
      "overflow": null,
      "overflow_x": null,
      "overflow_y": null,
      "padding": null,
      "right": null,
      "top": null,
      "visibility": null,
      "width": null
     }
    },
    "2aecadcdb8134f2c9a60bd450e6fe53e": {
     "model_module": "@jupyter-widgets/controls",
     "model_name": "DescriptionStyleModel",
     "model_module_version": "1.5.0",
     "state": {
      "_model_module": "@jupyter-widgets/controls",
      "_model_module_version": "1.5.0",
      "_model_name": "DescriptionStyleModel",
      "_view_count": null,
      "_view_module": "@jupyter-widgets/base",
      "_view_module_version": "1.2.0",
      "_view_name": "StyleView",
      "description_width": ""
     }
    },
    "c81817ef70c94c55a64328b63ec857fe": {
     "model_module": "@jupyter-widgets/base",
     "model_name": "LayoutModel",
     "model_module_version": "1.2.0",
     "state": {
      "_model_module": "@jupyter-widgets/base",
      "_model_module_version": "1.2.0",
      "_model_name": "LayoutModel",
      "_view_count": null,
      "_view_module": "@jupyter-widgets/base",
      "_view_module_version": "1.2.0",
      "_view_name": "LayoutView",
      "align_content": null,
      "align_items": null,
      "align_self": null,
      "border": null,
      "bottom": null,
      "display": null,
      "flex": null,
      "flex_flow": null,
      "grid_area": null,
      "grid_auto_columns": null,
      "grid_auto_flow": null,
      "grid_auto_rows": null,
      "grid_column": null,
      "grid_gap": null,
      "grid_row": null,
      "grid_template_areas": null,
      "grid_template_columns": null,
      "grid_template_rows": null,
      "height": null,
      "justify_content": null,
      "justify_items": null,
      "left": null,
      "margin": null,
      "max_height": null,
      "max_width": null,
      "min_height": null,
      "min_width": null,
      "object_fit": null,
      "object_position": null,
      "order": null,
      "overflow": null,
      "overflow_x": null,
      "overflow_y": null,
      "padding": null,
      "right": null,
      "top": null,
      "visibility": null,
      "width": null
     }
    },
    "dd94266bae134d61ab1096d9ca487448": {
     "model_module": "@jupyter-widgets/controls",
     "model_name": "ProgressStyleModel",
     "model_module_version": "1.5.0",
     "state": {
      "_model_module": "@jupyter-widgets/controls",
      "_model_module_version": "1.5.0",
      "_model_name": "ProgressStyleModel",
      "_view_count": null,
      "_view_module": "@jupyter-widgets/base",
      "_view_module_version": "1.2.0",
      "_view_name": "StyleView",
      "bar_color": null,
      "description_width": ""
     }
    },
    "f71aad6897bc401089c349f5f18ec48b": {
     "model_module": "@jupyter-widgets/base",
     "model_name": "LayoutModel",
     "model_module_version": "1.2.0",
     "state": {
      "_model_module": "@jupyter-widgets/base",
      "_model_module_version": "1.2.0",
      "_model_name": "LayoutModel",
      "_view_count": null,
      "_view_module": "@jupyter-widgets/base",
      "_view_module_version": "1.2.0",
      "_view_name": "LayoutView",
      "align_content": null,
      "align_items": null,
      "align_self": null,
      "border": null,
      "bottom": null,
      "display": null,
      "flex": null,
      "flex_flow": null,
      "grid_area": null,
      "grid_auto_columns": null,
      "grid_auto_flow": null,
      "grid_auto_rows": null,
      "grid_column": null,
      "grid_gap": null,
      "grid_row": null,
      "grid_template_areas": null,
      "grid_template_columns": null,
      "grid_template_rows": null,
      "height": null,
      "justify_content": null,
      "justify_items": null,
      "left": null,
      "margin": null,
      "max_height": null,
      "max_width": null,
      "min_height": null,
      "min_width": null,
      "object_fit": null,
      "object_position": null,
      "order": null,
      "overflow": null,
      "overflow_x": null,
      "overflow_y": null,
      "padding": null,
      "right": null,
      "top": null,
      "visibility": null,
      "width": null
     }
    },
    "b2308da1975f4d1b8c3c2bedab72463b": {
     "model_module": "@jupyter-widgets/controls",
     "model_name": "DescriptionStyleModel",
     "model_module_version": "1.5.0",
     "state": {
      "_model_module": "@jupyter-widgets/controls",
      "_model_module_version": "1.5.0",
      "_model_name": "DescriptionStyleModel",
      "_view_count": null,
      "_view_module": "@jupyter-widgets/base",
      "_view_module_version": "1.2.0",
      "_view_name": "StyleView",
      "description_width": ""
     }
    },
    "8eee8b7275f044eb94cce31e2192fe65": {
     "model_module": "@jupyter-widgets/controls",
     "model_name": "VBoxModel",
     "model_module_version": "1.5.0",
     "state": {
      "_dom_classes": [],
      "_model_module": "@jupyter-widgets/controls",
      "_model_module_version": "1.5.0",
      "_model_name": "VBoxModel",
      "_view_count": null,
      "_view_module": "@jupyter-widgets/controls",
      "_view_module_version": "1.5.0",
      "_view_name": "VBoxView",
      "box_style": "",
      "children": [
       "IPY_MODEL_6bd2079832b94535aa30c5bac166cbac",
       "IPY_MODEL_bf9e200ce79c4ad2810799292a628002"
      ],
      "layout": "IPY_MODEL_2741cbeec5554b5b906f6a5e5b7b74a1"
     }
    },
    "6bd2079832b94535aa30c5bac166cbac": {
     "model_module": "@jupyter-widgets/controls",
     "model_name": "LabelModel",
     "model_module_version": "1.5.0",
     "state": {
      "_dom_classes": [],
      "_model_module": "@jupyter-widgets/controls",
      "_model_module_version": "1.5.0",
      "_model_name": "LabelModel",
      "_view_count": null,
      "_view_module": "@jupyter-widgets/controls",
      "_view_module_version": "1.5.0",
      "_view_name": "LabelView",
      "description": "",
      "description_tooltip": null,
      "layout": "IPY_MODEL_0c96dff48d8f4a1582e9f7019db325fa",
      "placeholder": "​",
      "style": "IPY_MODEL_2ccd442740c3411380511bd74e8ef4b0",
      "value": "Waiting for wandb.init()...\r"
     }
    },
    "bf9e200ce79c4ad2810799292a628002": {
     "model_module": "@jupyter-widgets/controls",
     "model_name": "FloatProgressModel",
     "model_module_version": "1.5.0",
     "state": {
      "_dom_classes": [],
      "_model_module": "@jupyter-widgets/controls",
      "_model_module_version": "1.5.0",
      "_model_name": "FloatProgressModel",
      "_view_count": null,
      "_view_module": "@jupyter-widgets/controls",
      "_view_module_version": "1.5.0",
      "_view_name": "ProgressView",
      "bar_style": "",
      "description": "",
      "description_tooltip": null,
      "layout": "IPY_MODEL_6a00cafa70894e72827764f68cd2b1e0",
      "max": 1,
      "min": 0,
      "orientation": "horizontal",
      "style": "IPY_MODEL_53eed4940eb949acb1f1f9dcb18b67c5",
      "value": 1
     }
    },
    "2741cbeec5554b5b906f6a5e5b7b74a1": {
     "model_module": "@jupyter-widgets/base",
     "model_name": "LayoutModel",
     "model_module_version": "1.2.0",
     "state": {
      "_model_module": "@jupyter-widgets/base",
      "_model_module_version": "1.2.0",
      "_model_name": "LayoutModel",
      "_view_count": null,
      "_view_module": "@jupyter-widgets/base",
      "_view_module_version": "1.2.0",
      "_view_name": "LayoutView",
      "align_content": null,
      "align_items": null,
      "align_self": null,
      "border": null,
      "bottom": null,
      "display": null,
      "flex": null,
      "flex_flow": null,
      "grid_area": null,
      "grid_auto_columns": null,
      "grid_auto_flow": null,
      "grid_auto_rows": null,
      "grid_column": null,
      "grid_gap": null,
      "grid_row": null,
      "grid_template_areas": null,
      "grid_template_columns": null,
      "grid_template_rows": null,
      "height": null,
      "justify_content": null,
      "justify_items": null,
      "left": null,
      "margin": null,
      "max_height": null,
      "max_width": null,
      "min_height": null,
      "min_width": null,
      "object_fit": null,
      "object_position": null,
      "order": null,
      "overflow": null,
      "overflow_x": null,
      "overflow_y": null,
      "padding": null,
      "right": null,
      "top": null,
      "visibility": null,
      "width": null
     }
    },
    "0c96dff48d8f4a1582e9f7019db325fa": {
     "model_module": "@jupyter-widgets/base",
     "model_name": "LayoutModel",
     "model_module_version": "1.2.0",
     "state": {
      "_model_module": "@jupyter-widgets/base",
      "_model_module_version": "1.2.0",
      "_model_name": "LayoutModel",
      "_view_count": null,
      "_view_module": "@jupyter-widgets/base",
      "_view_module_version": "1.2.0",
      "_view_name": "LayoutView",
      "align_content": null,
      "align_items": null,
      "align_self": null,
      "border": null,
      "bottom": null,
      "display": null,
      "flex": null,
      "flex_flow": null,
      "grid_area": null,
      "grid_auto_columns": null,
      "grid_auto_flow": null,
      "grid_auto_rows": null,
      "grid_column": null,
      "grid_gap": null,
      "grid_row": null,
      "grid_template_areas": null,
      "grid_template_columns": null,
      "grid_template_rows": null,
      "height": null,
      "justify_content": null,
      "justify_items": null,
      "left": null,
      "margin": null,
      "max_height": null,
      "max_width": null,
      "min_height": null,
      "min_width": null,
      "object_fit": null,
      "object_position": null,
      "order": null,
      "overflow": null,
      "overflow_x": null,
      "overflow_y": null,
      "padding": null,
      "right": null,
      "top": null,
      "visibility": null,
      "width": null
     }
    },
    "2ccd442740c3411380511bd74e8ef4b0": {
     "model_module": "@jupyter-widgets/controls",
     "model_name": "DescriptionStyleModel",
     "model_module_version": "1.5.0",
     "state": {
      "_model_module": "@jupyter-widgets/controls",
      "_model_module_version": "1.5.0",
      "_model_name": "DescriptionStyleModel",
      "_view_count": null,
      "_view_module": "@jupyter-widgets/base",
      "_view_module_version": "1.2.0",
      "_view_name": "StyleView",
      "description_width": ""
     }
    },
    "6a00cafa70894e72827764f68cd2b1e0": {
     "model_module": "@jupyter-widgets/base",
     "model_name": "LayoutModel",
     "model_module_version": "1.2.0",
     "state": {
      "_model_module": "@jupyter-widgets/base",
      "_model_module_version": "1.2.0",
      "_model_name": "LayoutModel",
      "_view_count": null,
      "_view_module": "@jupyter-widgets/base",
      "_view_module_version": "1.2.0",
      "_view_name": "LayoutView",
      "align_content": null,
      "align_items": null,
      "align_self": null,
      "border": null,
      "bottom": null,
      "display": null,
      "flex": null,
      "flex_flow": null,
      "grid_area": null,
      "grid_auto_columns": null,
      "grid_auto_flow": null,
      "grid_auto_rows": null,
      "grid_column": null,
      "grid_gap": null,
      "grid_row": null,
      "grid_template_areas": null,
      "grid_template_columns": null,
      "grid_template_rows": null,
      "height": null,
      "justify_content": null,
      "justify_items": null,
      "left": null,
      "margin": null,
      "max_height": null,
      "max_width": null,
      "min_height": null,
      "min_width": null,
      "object_fit": null,
      "object_position": null,
      "order": null,
      "overflow": null,
      "overflow_x": null,
      "overflow_y": null,
      "padding": null,
      "right": null,
      "top": null,
      "visibility": null,
      "width": null
     }
    },
    "53eed4940eb949acb1f1f9dcb18b67c5": {
     "model_module": "@jupyter-widgets/controls",
     "model_name": "ProgressStyleModel",
     "model_module_version": "1.5.0",
     "state": {
      "_model_module": "@jupyter-widgets/controls",
      "_model_module_version": "1.5.0",
      "_model_name": "ProgressStyleModel",
      "_view_count": null,
      "_view_module": "@jupyter-widgets/base",
      "_view_module_version": "1.2.0",
      "_view_name": "StyleView",
      "bar_color": null,
      "description_width": ""
     }
    }
   }
  }
 },
 "nbformat": 4,
 "nbformat_minor": 0
}
