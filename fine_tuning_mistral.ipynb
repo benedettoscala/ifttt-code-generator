{
  "cells": [
    {
      "cell_type": "markdown",
      "metadata": {
        "id": "view-in-github",
        "colab_type": "text"
      },
      "source": [
        "<a href=\"https://colab.research.google.com/github/benedettoscala/ifttt-code-generator/blob/main/fine_tuning_mistral.ipynb\" target=\"_parent\"><img src=\"https://colab.research.google.com/assets/colab-badge.svg\" alt=\"Open In Colab\"/></a>"
      ]
    },
    {
      "cell_type": "code",
      "source": [
        "%%capture\n",
        "\n",
        "!pip install transformers==4.36.2\n",
        "!pip install -U peft\n",
        "!pip install -U accelerate\n",
        "!pip install -U trl\n",
        "!pip install datasets==2.16.0\n",
        "!pip install sentencepiece\n",
        "!pip install -U bitsandbytes\n",
        "!pip install rouge_score"
      ],
      "metadata": {
        "id": "0HueuUrz_TeU"
      },
      "execution_count": 1,
      "outputs": []
    },
    {
      "cell_type": "code",
      "execution_count": 2,
      "metadata": {
        "id": "wvpQWR5pwCGL"
      },
      "outputs": [],
      "source": [
        "from transformers import AutoModelForCausalLM, AutoTokenizer, BitsAndBytesConfig, TrainingArguments\n",
        "from peft import LoraConfig, prepare_model_for_kbit_training, get_peft_model\n",
        "import torch\n",
        "import pandas as pd\n",
        "from datasets import Dataset\n"
      ]
    },
    {
      "cell_type": "code",
      "execution_count": 3,
      "metadata": {
        "colab": {
          "base_uri": "https://localhost:8080/"
        },
        "id": "Loem6gt-xOVZ",
        "outputId": "1ad03424-03cd-4bad-eba8-51262bc9914c"
      },
      "outputs": [
        {
          "output_type": "stream",
          "name": "stdout",
          "text": [
            "The token has not been saved to the git credentials helper. Pass `add_to_git_credential=True` in this function directly or `--add-to-git-credential` if using via `huggingface-cli` if you want to set the git credential as well.\n",
            "Token is valid (permission: write).\n",
            "The token `prova` has been saved to /root/.cache/huggingface/stored_tokens\n",
            "Your token has been saved to /root/.cache/huggingface/token\n",
            "Login successful.\n",
            "The current active token is: `prova`\n"
          ]
        }
      ],
      "source": [
        "from google.colab import userdata\n",
        "secret_hf = userdata.get('HUGGINGFACE_TOKEN')\n",
        "!huggingface-cli login --token $secret_hf"
      ]
    },
    {
      "cell_type": "markdown",
      "metadata": {
        "id": "dzQkARHFU2Hl"
      },
      "source": [
        "# Preprocessing dei dati"
      ]
    },
    {
      "cell_type": "code",
      "execution_count": 4,
      "metadata": {
        "colab": {
          "base_uri": "https://localhost:8080/"
        },
        "id": "h7_T1dEsXfWS",
        "outputId": "6a399823-f723-4438-b56a-21d31697370f"
      },
      "outputs": [
        {
          "output_type": "stream",
          "name": "stdout",
          "text": [
            "fatal: destination path 'ifttt-code-generator' already exists and is not an empty directory.\n",
            "/content/ifttt-code-generator\n",
            "Already up to date.\n"
          ]
        }
      ],
      "source": [
        "!git clone https://github.com/benedettoscala/ifttt-code-generator\n",
        "%cd ifttt-code-generator/\n",
        "!git pull"
      ]
    },
    {
      "cell_type": "code",
      "source": [
        "import os\n",
        "import torch\n",
        "import pandas as pd\n",
        "import numpy as np\n",
        "from sklearn.model_selection import train_test_split\n",
        "from datasets import Dataset\n",
        "from transformers import (\n",
        "    AutoModelForCausalLM,\n",
        "    AutoTokenizer,\n",
        "    TrainingArguments,\n",
        "    Trainer,\n",
        "    DataCollatorForSeq2Seq\n",
        ")"
      ],
      "metadata": {
        "id": "_SWl39j5-3iI"
      },
      "execution_count": 5,
      "outputs": []
    },
    {
      "cell_type": "code",
      "source": [
        "from peft import (\n",
        "    LoraConfig,\n",
        "    get_peft_model,\n",
        "    prepare_model_for_kbit_training\n",
        ")\n",
        "from transformers import BitsAndBytesConfig\n",
        "\n",
        "#Configurazione modello base e quantizzazione\n",
        "base_model = \"mistralai/Mistral-7B-Instruct-v0.2\"\n",
        "bnb_config = BitsAndBytesConfig(\n",
        "    bnb_4bit_quant_type=\"nf4\",\n",
        "    bnb_4bit_compute_dtype=torch.bfloat16,\n",
        "    bnb_4bit_use_double_quant=False\n",
        ")\n",
        "\n",
        "#Caricamento del modello e tokenizer\n",
        "print(\"Caricamento del modello base...\")\n",
        "model = AutoModelForCausalLM.from_pretrained(\n",
        "    base_model,\n",
        "    quantization_config=bnb_config,\n",
        "    torch_dtype=torch.bfloat16,\n",
        "    device_map=\"auto\",\n",
        ")\n",
        "\n",
        "print(\"Caricamento del tokenizer...\")\n",
        "tokenizer = AutoTokenizer.from_pretrained(base_model)\n",
        "tokenizer.pad_token = tokenizer.eos_token\n",
        "tokenizer.padding_side = \"left\"\n",
        "\n",
        "# Prepara il modello per k-bit training (disabilita gradienti su pesi int4 ecc.)\n",
        "model = prepare_model_for_kbit_training(model)\n",
        "\n",
        "# 3. Configurazione LoRA\n",
        "lora_config = LoraConfig(\n",
        "    r=16,\n",
        "    lora_alpha=32,\n",
        "    lora_dropout=0.05,\n",
        "    bias=\"none\",\n",
        "    task_type=\"CAUSAL_LM\",\n",
        "    target_modules=[\"q_proj\", \"k_proj\", \"v_proj\", \"o_proj\", \"gate_proj\"]\n",
        "    # i moduli dei transformer li ho controllati su hugging face, sono questi (godo)\n",
        ")\n",
        "\n",
        "model = get_peft_model(model, lora_config)\n",
        "\n",
        "model.print_trainable_parameters()\n"
      ],
      "metadata": {
        "colab": {
          "base_uri": "https://localhost:8080/",
          "height": 101,
          "referenced_widgets": [
            "2c92f1dec7cb4f869e596aad5975a830",
            "14ab3e2f6b084afb9ecf1f3b8abfef0f",
            "c6ad880eccf64548b301964e355717a9",
            "2402fba0ff22478180ece75e33f1fc62",
            "fb3e6dd9791a47d7a729ad8bed2336a1",
            "d615a0795e0f4fe8bc07e044a6a282f9",
            "7ced94a26d744b489718bde5f091f36a",
            "fd0c2c424ebe4f1180b10450fa714155",
            "c2461cc8dc8c4a2e8a0a4ab8b43476c2",
            "c2dfce8dcee14e66b6020bfcac2885cb",
            "a68b1808e6aa4141a2333b82aa7a5344"
          ]
        },
        "id": "26hh2jaO-5pZ",
        "outputId": "4c4dba3f-f416-402f-975d-616358e5ace4"
      },
      "execution_count": 6,
      "outputs": [
        {
          "output_type": "stream",
          "name": "stdout",
          "text": [
            "Caricamento del modello base...\n"
          ]
        },
        {
          "output_type": "display_data",
          "data": {
            "text/plain": [
              "Loading checkpoint shards:   0%|          | 0/3 [00:00<?, ?it/s]"
            ],
            "application/vnd.jupyter.widget-view+json": {
              "version_major": 2,
              "version_minor": 0,
              "model_id": "2c92f1dec7cb4f869e596aad5975a830"
            }
          },
          "metadata": {}
        },
        {
          "output_type": "stream",
          "name": "stdout",
          "text": [
            "Caricamento del tokenizer...\n",
            "trainable params: 23,068,672 || all params: 7,264,800,768 || trainable%: 0.3175\n"
          ]
        }
      ]
    },
    {
      "cell_type": "code",
      "source": [
        "# Caricamento e pulizia del dataset\n",
        "csv_path = \"datasets/cleaned_and_combined.csv\"\n",
        "df = pd.read_csv(csv_path)\n",
        "\n",
        "df.dropna(subset=[\"cleaned_description\", \"filter_code\"], inplace=True)\n",
        "\n",
        "#drop duplicates\n",
        "df.drop_duplicates(subset=[\"cleaned_description\", \"filter_code\"], inplace=True)\n",
        "\n",
        "#Suddivisione train   e val\n",
        "train_df, eval_df = train_test_split(df, test_size=0.2, random_state=42)\n",
        "\n",
        "train_dataset = Dataset.from_pandas(train_df)\n",
        "eval_dataset  = Dataset.from_pandas(eval_df)"
      ],
      "metadata": {
        "id": "ey3NStBN_Bhx"
      },
      "execution_count": 7,
      "outputs": []
    },
    {
      "cell_type": "code",
      "source": [
        "train_dataset"
      ],
      "metadata": {
        "colab": {
          "base_uri": "https://localhost:8080/"
        },
        "id": "uboU1hT5KTYb",
        "outputId": "adad9bb8-2fd9-43c1-fc96-3384823c6add"
      },
      "execution_count": 8,
      "outputs": [
        {
          "output_type": "execute_result",
          "data": {
            "text/plain": [
              "Dataset({\n",
              "    features: ['cleaned_description', 'filter_code', '__index_level_0__'],\n",
              "    num_rows: 134\n",
              "})"
            ]
          },
          "metadata": {},
          "execution_count": 8
        }
      ]
    },
    {
      "cell_type": "code",
      "source": [
        "from transformers import DataCollatorWithPadding\n",
        "# Funzione di tokenizzazione\n",
        "def tokenize_function(examples):\n",
        "    separator = \"\\n###\\n\"\n",
        "\n",
        "    # Concateno desc + code\n",
        "    full_text = [\n",
        "        desc + separator + code\n",
        "        for desc, code in zip(examples[\"cleaned_description\"], examples[\"filter_code\"])\n",
        "    ]\n",
        "\n",
        "    # Tokenizza con padding e truncation \"coerenti\"\n",
        "    tokenized = tokenizer(\n",
        "        full_text,\n",
        "        truncation=True,\n",
        "        max_length=512,\n",
        "        padding=\"max_length\"  # cosi ottengo shape costanti\n",
        "    )\n",
        "\n",
        "    # Calcolo la lunghezza del prompt con gli stessi identici parametri\n",
        "    prompt_text = [\n",
        "        desc + separator\n",
        "        for desc in examples[\"cleaned_description\"]\n",
        "    ]\n",
        "    tokenized_prompt = tokenizer(\n",
        "        prompt_text,\n",
        "        truncation=True,\n",
        "        max_length=512,\n",
        "        padding=\"max_length\"  # stesse impostazioni\n",
        "    )\n",
        "    prompt_lengths = [\n",
        "        sum(p_id != tokenizer.pad_token_id for p_id in p_ids)\n",
        "        for p_ids in tokenized_prompt[\"input_ids\"]\n",
        "    ]\n",
        "\n",
        "    # Costruisco le label: maschero la parte del prompt con -100\n",
        "    labels = []\n",
        "    for i, seq in enumerate(tokenized[\"input_ids\"]):\n",
        "        prompt_len = prompt_lengths[i]\n",
        "        # Il prompt è su N token e la rimanente parte su (512 - N) token\n",
        "        # ATTENZIONE: se usi \"padding=max_length\" la seq avrà sempre lunghezza 512\n",
        "        # e i token in eccesso (se esiste) saranno solo pad.\n",
        "        # Esempio: seq[prompt_len:] serve a prendere la parte del \"code\".\n",
        "        masked_labels = [-100]*prompt_len + seq[prompt_len:]\n",
        "        labels.append(masked_labels)\n",
        "\n",
        "    tokenized[\"labels\"] = labels\n",
        "    return tokenized\n",
        "\n",
        "\n",
        "\n",
        "\n",
        "train_dataset = train_dataset.map(tokenize_function, batched=True)\n",
        "eval_dataset  = eval_dataset.map(tokenize_function,  batched=True)\n",
        "\n",
        "# Data collator con padding a sinistra\n",
        "data_collator = DataCollatorWithPadding(\n",
        "    tokenizer=tokenizer,\n",
        "    padding='longest'  # la dimensione massima del batch la decide a runtime\n",
        ")"
      ],
      "metadata": {
        "colab": {
          "base_uri": "https://localhost:8080/",
          "height": 81,
          "referenced_widgets": [
            "8e8035b2c90540cfa6784eb525388802",
            "420db79dba0848fca722cd51d8ce3355",
            "bbe7a127546a4b69828724fd0643677a",
            "f268f98e35174b4199852b4ed74322ae",
            "d31e955e42894019a10af3381a49ba95",
            "d14aa74f488844098cafca8eaae40515",
            "8683751fd1e34be88a3778ce62dac09d",
            "8df0de627d034cb59a00858a576d4d00",
            "2ab0ab18242f45e6b0d971f4795ceec0",
            "1d71cb63403f4636a03a86dd58adb896",
            "099a8d65b85d49219949f95e41871883",
            "865e82c4dde348f8b824a078b6b15b53",
            "62e9b69912f34eb19c271076eb26a7b9",
            "aa92cf385e9b460ea5df9e72df4a9b66",
            "ea2773480931427f9da37b6b21aeb765",
            "e992c789a1aa49e2b64305441086c50d",
            "75376347226443a0abff4b67836c5e69",
            "681a2f74d2ad442ca327d40c8a83521d",
            "93e4613cbb1d4b5b881dbc6bca5d86c4",
            "2b13bcb3b1fd44af917c73236f2632e3",
            "96ac56750f0c4881be2aa1177eac467d",
            "3d6f9c090d8b4fe2b7d71b3307559659"
          ]
        },
        "id": "iOCFKwkm_Jyx",
        "outputId": "e1c664e8-f2ed-4fff-baae-989547eee145"
      },
      "execution_count": 9,
      "outputs": [
        {
          "output_type": "display_data",
          "data": {
            "text/plain": [
              "Map:   0%|          | 0/134 [00:00<?, ? examples/s]"
            ],
            "application/vnd.jupyter.widget-view+json": {
              "version_major": 2,
              "version_minor": 0,
              "model_id": "8e8035b2c90540cfa6784eb525388802"
            }
          },
          "metadata": {}
        },
        {
          "output_type": "display_data",
          "data": {
            "text/plain": [
              "Map:   0%|          | 0/34 [00:00<?, ? examples/s]"
            ],
            "application/vnd.jupyter.widget-view+json": {
              "version_major": 2,
              "version_minor": 0,
              "model_id": "865e82c4dde348f8b824a078b6b15b53"
            }
          },
          "metadata": {}
        }
      ]
    },
    {
      "cell_type": "code",
      "source": [
        "import nltk\n",
        "nltk.download('wordnet')"
      ],
      "metadata": {
        "id": "vyRtjlC-MEcu",
        "outputId": "1069e87a-a657-4286-f3e0-607c78cc9657",
        "colab": {
          "base_uri": "https://localhost:8080/"
        }
      },
      "execution_count": 10,
      "outputs": [
        {
          "output_type": "stream",
          "name": "stderr",
          "text": [
            "[nltk_data] Downloading package wordnet to /root/nltk_data...\n",
            "[nltk_data]   Package wordnet is already up-to-date!\n"
          ]
        },
        {
          "output_type": "execute_result",
          "data": {
            "text/plain": [
              "True"
            ]
          },
          "metadata": {},
          "execution_count": 10
        }
      ]
    },
    {
      "cell_type": "code",
      "source": [
        "from transformers import Seq2SeqTrainingArguments, Trainer\n",
        "from datasets import load_metric\n",
        "from nltk.translate.bleu_score import sentence_bleu, SmoothingFunction\n",
        "from nltk.translate.meteor_score import meteor_score\n",
        "from rouge_score import rouge_scorer\n",
        "\n",
        "# Impostazioni di training specifiche per Seq2Seq\n",
        "training_args = TrainingArguments(\n",
        "    output_dir=\"./results\",\n",
        "    overwrite_output_dir=True,\n",
        "    num_train_epochs=3,\n",
        "    per_device_train_batch_size=2,\n",
        "    gradient_accumulation_steps=4,\n",
        "    warmup_ratio=0.03,\n",
        "    lr_scheduler_type=\"cosine\",\n",
        "    learning_rate=1e-4,\n",
        "    weight_decay=0.01,\n",
        "    max_grad_norm=1.0,\n",
        "    save_steps=100,\n",
        "    logging_steps=2,\n",
        "    eval_strategy=\"epoch\",  # Puoi anche usare \"epoch\"\n",
        "    load_best_model_at_end=False,\n",
        "    save_total_limit=3,\n",
        "    fp16=False,\n",
        "    bf16=True,\n",
        "    report_to=\"wandb\",\n",
        "    #predict_with_generate=True  # Abilitare la generazione delle predizioni\n",
        ")\n",
        "\n",
        "# Funzione per il calcolo delle metriche\n",
        "import numpy as np\n",
        "\n",
        "def compute_metrics(eval_pred):\n",
        "    predictions, labels = eval_pred\n",
        "\n",
        "    # Se predictions è un tuple, prendiamo la prima parte (logits)\n",
        "    if isinstance(predictions, tuple):\n",
        "        predictions = predictions[0]\n",
        "\n",
        "    # Se predictions è un tensor, trasformiamolo in numpy\n",
        "    if isinstance(predictions, torch.Tensor):\n",
        "        predictions = predictions.detach().cpu().numpy()\n",
        "\n",
        "    # Se i predictions contengono logits invece di id di token, facciamo argmax\n",
        "    if predictions.dtype not in [int, 'int32', 'int64']:\n",
        "        predictions = predictions.argmax(axis=-1)\n",
        "\n",
        "    # *** ECCO LA CORREZIONE FONDAMENTALE ***\n",
        "    # Sostituiamo tutti i -100 nelle label con il pad_token_id\n",
        "    labels = np.where(labels == -100, tokenizer.pad_token_id, labels)\n",
        "\n",
        "    # Decodifica\n",
        "    decoded_preds = tokenizer.batch_decode(predictions, skip_special_tokens=True)\n",
        "    decoded_labels = tokenizer.batch_decode(labels, skip_special_tokens=True)\n",
        "\n",
        "    # Calcolo metriche BLEU, METEOR, ROUGE ecc.\n",
        "    from nltk.translate.bleu_score import sentence_bleu, SmoothingFunction\n",
        "    from nltk.translate.meteor_score import meteor_score\n",
        "    from rouge_score import rouge_scorer\n",
        "\n",
        "    # BLEU\n",
        "    bleu_scores = [\n",
        "        sentence_bleu(\n",
        "            [ref.split()], pred.split(),\n",
        "            smoothing_function=SmoothingFunction().method1\n",
        "        )\n",
        "        for pred, ref in zip(decoded_preds, decoded_labels)\n",
        "    ]\n",
        "    avg_bleu = sum(bleu_scores) / len(bleu_scores)\n",
        "\n",
        "    # METEOR\n",
        "    meteor_scores = [\n",
        "        meteor_score([ref.split()], pred.split())\n",
        "        for pred, ref in zip(decoded_preds, decoded_labels)\n",
        "    ]\n",
        "    avg_meteor = sum(meteor_scores) / len(meteor_scores)\n",
        "\n",
        "    # ROUGE\n",
        "    rouge = rouge_scorer.RougeScorer([\"rouge1\", \"rouge2\", \"rougeL\"], use_stemmer=True)\n",
        "    rouge_scores = [\n",
        "        rouge.score(ref, pred)\n",
        "        for pred, ref in zip(decoded_preds, decoded_labels)\n",
        "    ]\n",
        "    avg_rouge1 = sum(score[\"rouge1\"].fmeasure for score in rouge_scores) / len(rouge_scores)\n",
        "    avg_rouge2 = sum(score[\"rouge2\"].fmeasure for score in rouge_scores) / len(rouge_scores)\n",
        "    avg_rougeL = sum(score[\"rougeL\"].fmeasure for score in rouge_scores) / len(rouge_scores)\n",
        "\n",
        "    return {\n",
        "        \"bleu\": avg_bleu,\n",
        "        \"meteor\": avg_meteor,\n",
        "        \"rouge1\": avg_rouge1,\n",
        "        \"rouge2\": avg_rouge2,\n",
        "        \"rougeL\": avg_rougeL,\n",
        "    }\n",
        "\n",
        "# Creazione Seq2SeqTrainer\n",
        "trainer = Trainer(\n",
        "    model=model,\n",
        "    args=training_args,\n",
        "    train_dataset=train_dataset,\n",
        "    eval_dataset=eval_dataset,\n",
        "    processing_class=tokenizer,\n",
        "    compute_metrics=compute_metrics,\n",
        ")\n",
        "\n",
        "# Avvia il training\n",
        "trainer.train()\n",
        "\n",
        "# Salvataggio finale LoRA + quantization\n",
        "trainer.save_model(\"./results/best_model\")\n"
      ],
      "metadata": {
        "colab": {
          "base_uri": "https://localhost:8080/",
          "height": 439
        },
        "id": "A1A5paYQ_N7I",
        "outputId": "852abda2-9f4f-4dee-fc92-006ce075dd08"
      },
      "execution_count": 11,
      "outputs": [
        {
          "metadata": {
            "tags": null
          },
          "name": "stderr",
          "output_type": "stream",
          "text": [
            "\u001b[34m\u001b[1mwandb\u001b[0m: \u001b[33mWARNING\u001b[0m The `run_name` is currently set to the same value as `TrainingArguments.output_dir`. If this was not intended, please specify a different run name by setting the `TrainingArguments.run_name` parameter.\n",
            "\u001b[34m\u001b[1mwandb\u001b[0m: Currently logged in as: \u001b[33mb-scala1\u001b[0m (\u001b[33mb-scala1-universit-degli-studi-di-salerno\u001b[0m). Use \u001b[1m`wandb login --relogin`\u001b[0m to force relogin\n",
            "\u001b[34m\u001b[1mwandb\u001b[0m: Using wandb-core as the SDK backend.  Please refer to https://wandb.me/wandb-core for more information.\n"
          ]
        },
        {
          "data": {
            "text/html": [
              "Tracking run with wandb version 0.19.4"
            ],
            "text/plain": [
              "<IPython.core.display.HTML object>"
            ]
          },
          "metadata": {},
          "output_type": "display_data"
        },
        {
          "data": {
            "text/html": [
              "Run data is saved locally in <code>/content/ifttt-code-generator/wandb/run-20250125_175634-6sakgwpk</code>"
            ],
            "text/plain": [
              "<IPython.core.display.HTML object>"
            ]
          },
          "metadata": {},
          "output_type": "display_data"
        },
        {
          "data": {
            "text/html": [
              "Syncing run <strong><a href='https://wandb.ai/b-scala1-universit-degli-studi-di-salerno/huggingface/runs/6sakgwpk' target=\"_blank\">./results</a></strong> to <a href='https://wandb.ai/b-scala1-universit-degli-studi-di-salerno/huggingface' target=\"_blank\">Weights & Biases</a> (<a href='https://wandb.me/developer-guide' target=\"_blank\">docs</a>)<br>"
            ],
            "text/plain": [
              "<IPython.core.display.HTML object>"
            ]
          },
          "metadata": {},
          "output_type": "display_data"
        },
        {
          "data": {
            "text/html": [
              " View project at <a href='https://wandb.ai/b-scala1-universit-degli-studi-di-salerno/huggingface' target=\"_blank\">https://wandb.ai/b-scala1-universit-degli-studi-di-salerno/huggingface</a>"
            ],
            "text/plain": [
              "<IPython.core.display.HTML object>"
            ]
          },
          "metadata": {},
          "output_type": "display_data"
        },
        {
          "data": {
            "text/html": [
              " View run at <a href='https://wandb.ai/b-scala1-universit-degli-studi-di-salerno/huggingface/runs/6sakgwpk' target=\"_blank\">https://wandb.ai/b-scala1-universit-degli-studi-di-salerno/huggingface/runs/6sakgwpk</a>"
            ],
            "text/plain": [
              "<IPython.core.display.HTML object>"
            ]
          },
          "metadata": {},
          "output_type": "display_data"
        },
        {
          "metadata": {
            "tags": null
          },
          "name": "stderr",
          "output_type": "stream",
          "text": [
            "`use_cache=True` is incompatible with gradient checkpointing. Setting `use_cache=False`.\n",
            "/usr/local/lib/python3.11/dist-packages/torch/_dynamo/eval_frame.py:632: UserWarning: torch.utils.checkpoint: the use_reentrant parameter should be passed explicitly. In version 2.5 we will raise an exception if use_reentrant is not passed. use_reentrant=False is recommended, but if you need to preserve the current default behavior, you can pass use_reentrant=True. Refer to docs for more details on the differences between the two variants.\n",
            "  return fn(*args, **kwargs)\n"
          ]
        },
        {
          "data": {
            "text/html": [
              "\n",
              "    <div>\n",
              "      \n",
              "      <progress value='12' max='48' style='width:300px; height:20px; vertical-align: middle;'></progress>\n",
              "      [12/48 13:51 < 49:54, 0.01 it/s, Epoch 0.66/3]\n",
              "    </div>\n",
              "    <table border=\"1\" class=\"dataframe\">\n",
              "  <thead>\n",
              " <tr style=\"text-align: left;\">\n",
              "      <th>Epoch</th>\n",
              "      <th>Training Loss</th>\n",
              "      <th>Validation Loss</th>\n",
              "    </tr>\n",
              "  </thead>\n",
              "  <tbody>\n",
              "  </tbody>\n",
              "</table><p>"
            ],
            "text/plain": [
              "<IPython.core.display.HTML object>"
            ]
          },
          "metadata": {},
          "output_type": "display_data"
        },
        {
          "output_type": "display_data",
          "data": {
            "text/plain": [
              "<IPython.core.display.HTML object>"
            ],
            "text/html": [
              "\n",
              "    <div>\n",
              "      \n",
              "      <progress value='48' max='48' style='width:300px; height:20px; vertical-align: middle;'></progress>\n",
              "      [48/48 1:12:50, Epoch 2/3]\n",
              "    </div>\n",
              "    <table border=\"1\" class=\"dataframe\">\n",
              "  <thead>\n",
              " <tr style=\"text-align: left;\">\n",
              "      <th>Epoch</th>\n",
              "      <th>Training Loss</th>\n",
              "      <th>Validation Loss</th>\n",
              "      <th>Bleu</th>\n",
              "      <th>Meteor</th>\n",
              "      <th>Rouge1</th>\n",
              "      <th>Rouge2</th>\n",
              "      <th>Rougel</th>\n",
              "    </tr>\n",
              "  </thead>\n",
              "  <tbody>\n",
              "    <tr>\n",
              "      <td>0</td>\n",
              "      <td>0.415900</td>\n",
              "      <td>0.401365</td>\n",
              "      <td>0.115153</td>\n",
              "      <td>0.346912</td>\n",
              "      <td>0.476729</td>\n",
              "      <td>0.222758</td>\n",
              "      <td>0.426599</td>\n",
              "    </tr>\n",
              "    <tr>\n",
              "      <td>1</td>\n",
              "      <td>0.334000</td>\n",
              "      <td>0.315954</td>\n",
              "      <td>0.171528</td>\n",
              "      <td>0.404337</td>\n",
              "      <td>0.528974</td>\n",
              "      <td>0.279273</td>\n",
              "      <td>0.488278</td>\n",
              "    </tr>\n",
              "    <tr>\n",
              "      <td>2</td>\n",
              "      <td>0.262000</td>\n",
              "      <td>0.305761</td>\n",
              "      <td>0.176069</td>\n",
              "      <td>0.411823</td>\n",
              "      <td>0.541916</td>\n",
              "      <td>0.298516</td>\n",
              "      <td>0.504169</td>\n",
              "    </tr>\n",
              "  </tbody>\n",
              "</table><p>"
            ]
          },
          "metadata": {}
        }
      ]
    },
    {
      "cell_type": "code",
      "source": [],
      "metadata": {
        "id": "LGFwzDN04GGw",
        "outputId": "900689b2-46b7-4be1-e856-9240add6e0e6",
        "colab": {
          "base_uri": "https://localhost:8080/"
        }
      },
      "execution_count": 14,
      "outputs": [
        {
          "output_type": "stream",
          "name": "stdout",
          "text": [
            "\n",
            "zip error: Nothing to do! (results.zip)\n"
          ]
        }
      ]
    },
    {
      "cell_type": "code",
      "source": [
        "# prompt: zip the results folder\n",
        "\n",
        "!zip -r results.zip results\n"
      ],
      "metadata": {
        "id": "nk92oMg64PIC",
        "outputId": "2a875561-990f-45d6-a7cc-adb46f1c74a2",
        "colab": {
          "base_uri": "https://localhost:8080/"
        }
      },
      "execution_count": 15,
      "outputs": [
        {
          "output_type": "stream",
          "name": "stdout",
          "text": [
            "  adding: results/ (stored 0%)\n",
            "  adding: results/best_model/ (stored 0%)\n",
            "  adding: results/best_model/adapter_model.safetensors (deflated 8%)\n",
            "  adding: results/best_model/adapter_config.json (deflated 55%)\n",
            "  adding: results/best_model/README.md (deflated 66%)\n",
            "  adding: results/best_model/training_args.bin (deflated 51%)\n",
            "  adding: results/best_model/special_tokens_map.json (deflated 73%)\n",
            "  adding: results/best_model/tokenizer.model (deflated 55%)\n",
            "  adding: results/best_model/tokenizer_config.json (deflated 68%)\n",
            "  adding: results/best_model/tokenizer.json (deflated 85%)\n",
            "  adding: results/checkpoint-48/ (stored 0%)\n",
            "  adding: results/checkpoint-48/rng_state.pth (deflated 25%)\n",
            "  adding: results/checkpoint-48/scheduler.pt (deflated 56%)\n",
            "  adding: results/checkpoint-48/adapter_model.safetensors (deflated 8%)\n",
            "  adding: results/checkpoint-48/trainer_state.json (deflated 73%)\n",
            "  adding: results/checkpoint-48/adapter_config.json (deflated 55%)\n",
            "  adding: results/checkpoint-48/README.md (deflated 66%)\n",
            "  adding: results/checkpoint-48/optimizer.pt (deflated 8%)\n",
            "  adding: results/checkpoint-48/training_args.bin (deflated 51%)\n",
            "  adding: results/checkpoint-48/special_tokens_map.json (deflated 73%)\n",
            "  adding: results/checkpoint-48/tokenizer.model (deflated 55%)\n",
            "  adding: results/checkpoint-48/tokenizer_config.json (deflated 68%)\n",
            "  adding: results/checkpoint-48/tokenizer.json (deflated 85%)\n"
          ]
        }
      ]
    },
    {
      "cell_type": "code",
      "source": [
        "# prompt: empty gpu memory\n",
        "\n",
        "import torch\n",
        "\n",
        "# Empty GPU cache\n",
        "torch.cuda.empty_cache()\n",
        "\n",
        "# Optionally, check GPU memory usage after emptying the cache\n",
        "print(torch.cuda.memory_summary(device=None, abbreviated=False))"
      ],
      "metadata": {
        "id": "KN-ZQJOw4eTQ",
        "outputId": "2d7e8e3c-70d4-4c54-d8ba-55cdb093c170",
        "colab": {
          "base_uri": "https://localhost:8080/"
        }
      },
      "execution_count": 18,
      "outputs": [
        {
          "output_type": "stream",
          "name": "stdout",
          "text": [
            "|===========================================================================|\n",
            "|                  PyTorch CUDA memory summary, device ID 0                 |\n",
            "|---------------------------------------------------------------------------|\n",
            "|            CUDA OOMs: 0            |        cudaMalloc retries: 1         |\n",
            "|===========================================================================|\n",
            "|        Metric         | Cur Usage  | Peak Usage | Tot Alloc  | Tot Freed  |\n",
            "|---------------------------------------------------------------------------|\n",
            "| Allocated memory      |   5055 MiB |  10025 MiB |  52108 GiB |  52103 GiB |\n",
            "|       from large pool |   4710 MiB |   9548 MiB |  52043 GiB |  52039 GiB |\n",
            "|       from small pool |    345 MiB |    521 MiB |     64 GiB |     64 GiB |\n",
            "|---------------------------------------------------------------------------|\n",
            "| Active memory         |   5055 MiB |  10025 MiB |  52108 GiB |  52103 GiB |\n",
            "|       from large pool |   4710 MiB |   9548 MiB |  52043 GiB |  52039 GiB |\n",
            "|       from small pool |    345 MiB |    521 MiB |     64 GiB |     64 GiB |\n",
            "|---------------------------------------------------------------------------|\n",
            "| Requested memory      |   5025 MiB |   9993 MiB |  52100 GiB |  52096 GiB |\n",
            "|       from large pool |   4680 MiB |   9516 MiB |  52036 GiB |  52032 GiB |\n",
            "|       from small pool |    345 MiB |    521 MiB |     64 GiB |     64 GiB |\n",
            "|---------------------------------------------------------------------------|\n",
            "| GPU reserved memory   |   5322 MiB |  14642 MiB |  24870 MiB |  19548 MiB |\n",
            "|       from large pool |   4956 MiB |  14116 MiB |  24254 MiB |  19298 MiB |\n",
            "|       from small pool |    366 MiB |    526 MiB |    616 MiB |    250 MiB |\n",
            "|---------------------------------------------------------------------------|\n",
            "| Non-releasable memory | 273023 KiB |   3906 MiB |  61927 GiB |  61927 GiB |\n",
            "|       from large pool | 251648 KiB |   3901 MiB |  61849 GiB |  61849 GiB |\n",
            "|       from small pool |  21375 KiB |     39 MiB |     77 GiB |     77 GiB |\n",
            "|---------------------------------------------------------------------------|\n",
            "| Allocations           |    1702    |    2446    |    2693 K  |    2691 K  |\n",
            "|       from large pool |     324    |     410    |    2119 K  |    2119 K  |\n",
            "|       from small pool |    1378    |    2041    |     574 K  |     572 K  |\n",
            "|---------------------------------------------------------------------------|\n",
            "| Active allocs         |    1702    |    2446    |    2693 K  |    2691 K  |\n",
            "|       from large pool |     324    |     410    |    2119 K  |    2119 K  |\n",
            "|       from small pool |    1378    |    2041    |     574 K  |     572 K  |\n",
            "|---------------------------------------------------------------------------|\n",
            "| GPU reserved segments |     330    |     441    |     553    |     223    |\n",
            "|       from large pool |     147    |     178    |     245    |      98    |\n",
            "|       from small pool |     183    |     263    |     308    |     125    |\n",
            "|---------------------------------------------------------------------------|\n",
            "| Non-releasable allocs |      98    |     176    |    1421 K  |    1421 K  |\n",
            "|       from large pool |      16    |      46    |    1070 K  |    1070 K  |\n",
            "|       from small pool |      82    |     153    |     351 K  |     351 K  |\n",
            "|---------------------------------------------------------------------------|\n",
            "| Oversize allocations  |       0    |       0    |       0    |       0    |\n",
            "|---------------------------------------------------------------------------|\n",
            "| Oversize GPU segments |       0    |       0    |       0    |       0    |\n",
            "|===========================================================================|\n",
            "\n"
          ]
        }
      ]
    },
    {
      "cell_type": "markdown",
      "source": [
        "# Mi sono rotto i coglioni\n",
        "Voglio solo giocare ad Elden Ring..."
      ],
      "metadata": {
        "id": "JlZq6yy0xsAZ"
      }
    },
    {
      "cell_type": "code",
      "source": [
        "from transformers import AutoModelForCausalLM, AutoTokenizer, BitsAndBytesConfig\n",
        "import torch\n",
        "import os\n",
        "import torch\n",
        "# Percorso del modello fine-tunato\n",
        "finetuned_model_path = \"./results/best_model\"\n",
        "basemodel_path = \"mistralai/Mistral-7B-Instruct-v0.2\"\n",
        "# Caricamento del modello base\n",
        "\n",
        "\n",
        "#create offload directory if it doesn't exist\n",
        "if not os.path.exists(\"./offload\"):\n",
        "    os.makedirs(\"./offload\")\n",
        "\n",
        "\n",
        "# Caricamento del modello e del tokenizer fine-tunati\n",
        "print(\"Caricamento del modello fine-tunato...\")\n",
        "from peft import PeftModel\n",
        "\n",
        "bnb_config = BitsAndBytesConfig(\n",
        "    bnb_4bit_quant_type=\"nf4\",\n",
        "    bnb_4bit_compute_dtype=torch.bfloat16,\n",
        "    bnb_4bit_use_double_quant=False\n",
        ")\n",
        "\n",
        "model = AutoModelForCausalLM.from_pretrained(\n",
        "    basemodel_path,\n",
        "    torch_dtype=torch.float16,         # or torch.bfloat16, depending on your setup\n",
        "    quantization_config=bnb_config,           # 4-bit quantization\n",
        "    device_map=\"auto\",\n",
        "    offload_folder=\"./offload\"         # <= Provide a folder path\n",
        ")\n",
        "\n",
        "model = PeftModel.from_pretrained(\n",
        "    model,\n",
        "    finetuned_model_path,\n",
        ")\n",
        "\n",
        "\n",
        "tokenizer = AutoTokenizer.from_pretrained(finetuned_model_path)\n"
      ],
      "metadata": {
        "id": "Gt6wRWM9Ip2a",
        "colab": {
          "base_uri": "https://localhost:8080/",
          "height": 66,
          "referenced_widgets": [
            "17868bdf975240d09cd02b5b6c00710d",
            "c8866a4ec7604f4d919deb9706adb08f",
            "f233012870864e1e8285880f499c9193",
            "8a31f7b939ff4426ad3690edac81e7d6",
            "483aab149c074ef59a611f52b1ca548e",
            "5d0ab7721e064ffa910f8d8151d92228",
            "2d42c08af64c4b3faac67b1323468ac1",
            "fc32160a8b204aee8bc8ec1a5db8a076",
            "82d78e54c7e84b2f989b3a355beff32c",
            "0592d52774a047b8a89c14411713c583",
            "723efc765a764129897e502d80511e49"
          ]
        },
        "outputId": "66c475bc-2652-4ee5-c9e7-792454a8f89b"
      },
      "execution_count": null,
      "outputs": [
        {
          "output_type": "stream",
          "name": "stdout",
          "text": [
            "Caricamento del modello fine-tunato...\n"
          ]
        },
        {
          "output_type": "display_data",
          "data": {
            "text/plain": [
              "Loading checkpoint shards:   0%|          | 0/3 [00:00<?, ?it/s]"
            ],
            "application/vnd.jupyter.widget-view+json": {
              "version_major": 2,
              "version_minor": 0,
              "model_id": "17868bdf975240d09cd02b5b6c00710d"
            }
          },
          "metadata": {}
        }
      ]
    },
    {
      "cell_type": "code",
      "source": [
        "\n",
        "# Funzione per generare il codice IFTTT\n",
        "def generate_ifttt_code(prompt, max_length=512, num_return_sequences=1):\n",
        "    # Tokenizzazione dell'input\n",
        "    inputs = tokenizer(prompt, return_tensors=\"pt\").to(\"cuda\")\n",
        "\n",
        "    # Generazione del codice\n",
        "    outputs = model.generate(\n",
        "        **inputs,\n",
        "        max_length=max_length,\n",
        "        num_return_sequences=num_return_sequences,\n",
        "        do_sample=True,\n",
        "        top_k=50,\n",
        "        top_p=0.95,\n",
        "        temperature=0.8,\n",
        "    )\n",
        "\n",
        "    # Decodifica del risultato\n",
        "    decoded_outputs = tokenizer.batch_decode(outputs, skip_special_tokens=True)\n",
        "    return decoded_outputs\n",
        "\n",
        "# Prompt per generare il codice IFTTT\n",
        "prompt = \"if the current hour is 17, send a tweet\"\n",
        "generated_code = generate_ifttt_code(prompt)\n",
        "\n",
        "# Stampa del codice generato\n",
        "print(\"\\nCodice IFTTT generato:\")\n",
        "for i, code in enumerate(generated_code, 1):\n",
        "    print(f\"{code}\")\n"
      ],
      "metadata": {
        "id": "nr950ogTIl_A"
      },
      "execution_count": null,
      "outputs": []
    }
  ],
  "metadata": {
    "accelerator": "GPU",
    "colab": {
      "gpuType": "T4",
      "provenance": [],
      "include_colab_link": true
    },
    "kernelspec": {
      "display_name": "Python 3",
      "name": "python3"
    },
    "language_info": {
      "name": "python"
    },
    "widgets": {
      "application/vnd.jupyter.widget-state+json": {
        "2c92f1dec7cb4f869e596aad5975a830": {
          "model_module": "@jupyter-widgets/controls",
          "model_name": "HBoxModel",
          "model_module_version": "1.5.0",
          "state": {
            "_dom_classes": [],
            "_model_module": "@jupyter-widgets/controls",
            "_model_module_version": "1.5.0",
            "_model_name": "HBoxModel",
            "_view_count": null,
            "_view_module": "@jupyter-widgets/controls",
            "_view_module_version": "1.5.0",
            "_view_name": "HBoxView",
            "box_style": "",
            "children": [
              "IPY_MODEL_14ab3e2f6b084afb9ecf1f3b8abfef0f",
              "IPY_MODEL_c6ad880eccf64548b301964e355717a9",
              "IPY_MODEL_2402fba0ff22478180ece75e33f1fc62"
            ],
            "layout": "IPY_MODEL_fb3e6dd9791a47d7a729ad8bed2336a1"
          }
        },
        "14ab3e2f6b084afb9ecf1f3b8abfef0f": {
          "model_module": "@jupyter-widgets/controls",
          "model_name": "HTMLModel",
          "model_module_version": "1.5.0",
          "state": {
            "_dom_classes": [],
            "_model_module": "@jupyter-widgets/controls",
            "_model_module_version": "1.5.0",
            "_model_name": "HTMLModel",
            "_view_count": null,
            "_view_module": "@jupyter-widgets/controls",
            "_view_module_version": "1.5.0",
            "_view_name": "HTMLView",
            "description": "",
            "description_tooltip": null,
            "layout": "IPY_MODEL_d615a0795e0f4fe8bc07e044a6a282f9",
            "placeholder": "​",
            "style": "IPY_MODEL_7ced94a26d744b489718bde5f091f36a",
            "value": "Loading checkpoint shards: 100%"
          }
        },
        "c6ad880eccf64548b301964e355717a9": {
          "model_module": "@jupyter-widgets/controls",
          "model_name": "FloatProgressModel",
          "model_module_version": "1.5.0",
          "state": {
            "_dom_classes": [],
            "_model_module": "@jupyter-widgets/controls",
            "_model_module_version": "1.5.0",
            "_model_name": "FloatProgressModel",
            "_view_count": null,
            "_view_module": "@jupyter-widgets/controls",
            "_view_module_version": "1.5.0",
            "_view_name": "ProgressView",
            "bar_style": "success",
            "description": "",
            "description_tooltip": null,
            "layout": "IPY_MODEL_fd0c2c424ebe4f1180b10450fa714155",
            "max": 3,
            "min": 0,
            "orientation": "horizontal",
            "style": "IPY_MODEL_c2461cc8dc8c4a2e8a0a4ab8b43476c2",
            "value": 3
          }
        },
        "2402fba0ff22478180ece75e33f1fc62": {
          "model_module": "@jupyter-widgets/controls",
          "model_name": "HTMLModel",
          "model_module_version": "1.5.0",
          "state": {
            "_dom_classes": [],
            "_model_module": "@jupyter-widgets/controls",
            "_model_module_version": "1.5.0",
            "_model_name": "HTMLModel",
            "_view_count": null,
            "_view_module": "@jupyter-widgets/controls",
            "_view_module_version": "1.5.0",
            "_view_name": "HTMLView",
            "description": "",
            "description_tooltip": null,
            "layout": "IPY_MODEL_c2dfce8dcee14e66b6020bfcac2885cb",
            "placeholder": "​",
            "style": "IPY_MODEL_a68b1808e6aa4141a2333b82aa7a5344",
            "value": " 3/3 [01:19&lt;00:00, 26.04s/it]"
          }
        },
        "fb3e6dd9791a47d7a729ad8bed2336a1": {
          "model_module": "@jupyter-widgets/base",
          "model_name": "LayoutModel",
          "model_module_version": "1.2.0",
          "state": {
            "_model_module": "@jupyter-widgets/base",
            "_model_module_version": "1.2.0",
            "_model_name": "LayoutModel",
            "_view_count": null,
            "_view_module": "@jupyter-widgets/base",
            "_view_module_version": "1.2.0",
            "_view_name": "LayoutView",
            "align_content": null,
            "align_items": null,
            "align_self": null,
            "border": null,
            "bottom": null,
            "display": null,
            "flex": null,
            "flex_flow": null,
            "grid_area": null,
            "grid_auto_columns": null,
            "grid_auto_flow": null,
            "grid_auto_rows": null,
            "grid_column": null,
            "grid_gap": null,
            "grid_row": null,
            "grid_template_areas": null,
            "grid_template_columns": null,
            "grid_template_rows": null,
            "height": null,
            "justify_content": null,
            "justify_items": null,
            "left": null,
            "margin": null,
            "max_height": null,
            "max_width": null,
            "min_height": null,
            "min_width": null,
            "object_fit": null,
            "object_position": null,
            "order": null,
            "overflow": null,
            "overflow_x": null,
            "overflow_y": null,
            "padding": null,
            "right": null,
            "top": null,
            "visibility": null,
            "width": null
          }
        },
        "d615a0795e0f4fe8bc07e044a6a282f9": {
          "model_module": "@jupyter-widgets/base",
          "model_name": "LayoutModel",
          "model_module_version": "1.2.0",
          "state": {
            "_model_module": "@jupyter-widgets/base",
            "_model_module_version": "1.2.0",
            "_model_name": "LayoutModel",
            "_view_count": null,
            "_view_module": "@jupyter-widgets/base",
            "_view_module_version": "1.2.0",
            "_view_name": "LayoutView",
            "align_content": null,
            "align_items": null,
            "align_self": null,
            "border": null,
            "bottom": null,
            "display": null,
            "flex": null,
            "flex_flow": null,
            "grid_area": null,
            "grid_auto_columns": null,
            "grid_auto_flow": null,
            "grid_auto_rows": null,
            "grid_column": null,
            "grid_gap": null,
            "grid_row": null,
            "grid_template_areas": null,
            "grid_template_columns": null,
            "grid_template_rows": null,
            "height": null,
            "justify_content": null,
            "justify_items": null,
            "left": null,
            "margin": null,
            "max_height": null,
            "max_width": null,
            "min_height": null,
            "min_width": null,
            "object_fit": null,
            "object_position": null,
            "order": null,
            "overflow": null,
            "overflow_x": null,
            "overflow_y": null,
            "padding": null,
            "right": null,
            "top": null,
            "visibility": null,
            "width": null
          }
        },
        "7ced94a26d744b489718bde5f091f36a": {
          "model_module": "@jupyter-widgets/controls",
          "model_name": "DescriptionStyleModel",
          "model_module_version": "1.5.0",
          "state": {
            "_model_module": "@jupyter-widgets/controls",
            "_model_module_version": "1.5.0",
            "_model_name": "DescriptionStyleModel",
            "_view_count": null,
            "_view_module": "@jupyter-widgets/base",
            "_view_module_version": "1.2.0",
            "_view_name": "StyleView",
            "description_width": ""
          }
        },
        "fd0c2c424ebe4f1180b10450fa714155": {
          "model_module": "@jupyter-widgets/base",
          "model_name": "LayoutModel",
          "model_module_version": "1.2.0",
          "state": {
            "_model_module": "@jupyter-widgets/base",
            "_model_module_version": "1.2.0",
            "_model_name": "LayoutModel",
            "_view_count": null,
            "_view_module": "@jupyter-widgets/base",
            "_view_module_version": "1.2.0",
            "_view_name": "LayoutView",
            "align_content": null,
            "align_items": null,
            "align_self": null,
            "border": null,
            "bottom": null,
            "display": null,
            "flex": null,
            "flex_flow": null,
            "grid_area": null,
            "grid_auto_columns": null,
            "grid_auto_flow": null,
            "grid_auto_rows": null,
            "grid_column": null,
            "grid_gap": null,
            "grid_row": null,
            "grid_template_areas": null,
            "grid_template_columns": null,
            "grid_template_rows": null,
            "height": null,
            "justify_content": null,
            "justify_items": null,
            "left": null,
            "margin": null,
            "max_height": null,
            "max_width": null,
            "min_height": null,
            "min_width": null,
            "object_fit": null,
            "object_position": null,
            "order": null,
            "overflow": null,
            "overflow_x": null,
            "overflow_y": null,
            "padding": null,
            "right": null,
            "top": null,
            "visibility": null,
            "width": null
          }
        },
        "c2461cc8dc8c4a2e8a0a4ab8b43476c2": {
          "model_module": "@jupyter-widgets/controls",
          "model_name": "ProgressStyleModel",
          "model_module_version": "1.5.0",
          "state": {
            "_model_module": "@jupyter-widgets/controls",
            "_model_module_version": "1.5.0",
            "_model_name": "ProgressStyleModel",
            "_view_count": null,
            "_view_module": "@jupyter-widgets/base",
            "_view_module_version": "1.2.0",
            "_view_name": "StyleView",
            "bar_color": null,
            "description_width": ""
          }
        },
        "c2dfce8dcee14e66b6020bfcac2885cb": {
          "model_module": "@jupyter-widgets/base",
          "model_name": "LayoutModel",
          "model_module_version": "1.2.0",
          "state": {
            "_model_module": "@jupyter-widgets/base",
            "_model_module_version": "1.2.0",
            "_model_name": "LayoutModel",
            "_view_count": null,
            "_view_module": "@jupyter-widgets/base",
            "_view_module_version": "1.2.0",
            "_view_name": "LayoutView",
            "align_content": null,
            "align_items": null,
            "align_self": null,
            "border": null,
            "bottom": null,
            "display": null,
            "flex": null,
            "flex_flow": null,
            "grid_area": null,
            "grid_auto_columns": null,
            "grid_auto_flow": null,
            "grid_auto_rows": null,
            "grid_column": null,
            "grid_gap": null,
            "grid_row": null,
            "grid_template_areas": null,
            "grid_template_columns": null,
            "grid_template_rows": null,
            "height": null,
            "justify_content": null,
            "justify_items": null,
            "left": null,
            "margin": null,
            "max_height": null,
            "max_width": null,
            "min_height": null,
            "min_width": null,
            "object_fit": null,
            "object_position": null,
            "order": null,
            "overflow": null,
            "overflow_x": null,
            "overflow_y": null,
            "padding": null,
            "right": null,
            "top": null,
            "visibility": null,
            "width": null
          }
        },
        "a68b1808e6aa4141a2333b82aa7a5344": {
          "model_module": "@jupyter-widgets/controls",
          "model_name": "DescriptionStyleModel",
          "model_module_version": "1.5.0",
          "state": {
            "_model_module": "@jupyter-widgets/controls",
            "_model_module_version": "1.5.0",
            "_model_name": "DescriptionStyleModel",
            "_view_count": null,
            "_view_module": "@jupyter-widgets/base",
            "_view_module_version": "1.2.0",
            "_view_name": "StyleView",
            "description_width": ""
          }
        },
        "8e8035b2c90540cfa6784eb525388802": {
          "model_module": "@jupyter-widgets/controls",
          "model_name": "HBoxModel",
          "model_module_version": "1.5.0",
          "state": {
            "_dom_classes": [],
            "_model_module": "@jupyter-widgets/controls",
            "_model_module_version": "1.5.0",
            "_model_name": "HBoxModel",
            "_view_count": null,
            "_view_module": "@jupyter-widgets/controls",
            "_view_module_version": "1.5.0",
            "_view_name": "HBoxView",
            "box_style": "",
            "children": [
              "IPY_MODEL_420db79dba0848fca722cd51d8ce3355",
              "IPY_MODEL_bbe7a127546a4b69828724fd0643677a",
              "IPY_MODEL_f268f98e35174b4199852b4ed74322ae"
            ],
            "layout": "IPY_MODEL_d31e955e42894019a10af3381a49ba95"
          }
        },
        "420db79dba0848fca722cd51d8ce3355": {
          "model_module": "@jupyter-widgets/controls",
          "model_name": "HTMLModel",
          "model_module_version": "1.5.0",
          "state": {
            "_dom_classes": [],
            "_model_module": "@jupyter-widgets/controls",
            "_model_module_version": "1.5.0",
            "_model_name": "HTMLModel",
            "_view_count": null,
            "_view_module": "@jupyter-widgets/controls",
            "_view_module_version": "1.5.0",
            "_view_name": "HTMLView",
            "description": "",
            "description_tooltip": null,
            "layout": "IPY_MODEL_d14aa74f488844098cafca8eaae40515",
            "placeholder": "​",
            "style": "IPY_MODEL_8683751fd1e34be88a3778ce62dac09d",
            "value": "Map: 100%"
          }
        },
        "bbe7a127546a4b69828724fd0643677a": {
          "model_module": "@jupyter-widgets/controls",
          "model_name": "FloatProgressModel",
          "model_module_version": "1.5.0",
          "state": {
            "_dom_classes": [],
            "_model_module": "@jupyter-widgets/controls",
            "_model_module_version": "1.5.0",
            "_model_name": "FloatProgressModel",
            "_view_count": null,
            "_view_module": "@jupyter-widgets/controls",
            "_view_module_version": "1.5.0",
            "_view_name": "ProgressView",
            "bar_style": "success",
            "description": "",
            "description_tooltip": null,
            "layout": "IPY_MODEL_8df0de627d034cb59a00858a576d4d00",
            "max": 134,
            "min": 0,
            "orientation": "horizontal",
            "style": "IPY_MODEL_2ab0ab18242f45e6b0d971f4795ceec0",
            "value": 134
          }
        },
        "f268f98e35174b4199852b4ed74322ae": {
          "model_module": "@jupyter-widgets/controls",
          "model_name": "HTMLModel",
          "model_module_version": "1.5.0",
          "state": {
            "_dom_classes": [],
            "_model_module": "@jupyter-widgets/controls",
            "_model_module_version": "1.5.0",
            "_model_name": "HTMLModel",
            "_view_count": null,
            "_view_module": "@jupyter-widgets/controls",
            "_view_module_version": "1.5.0",
            "_view_name": "HTMLView",
            "description": "",
            "description_tooltip": null,
            "layout": "IPY_MODEL_1d71cb63403f4636a03a86dd58adb896",
            "placeholder": "​",
            "style": "IPY_MODEL_099a8d65b85d49219949f95e41871883",
            "value": " 134/134 [00:00&lt;00:00, 338.21 examples/s]"
          }
        },
        "d31e955e42894019a10af3381a49ba95": {
          "model_module": "@jupyter-widgets/base",
          "model_name": "LayoutModel",
          "model_module_version": "1.2.0",
          "state": {
            "_model_module": "@jupyter-widgets/base",
            "_model_module_version": "1.2.0",
            "_model_name": "LayoutModel",
            "_view_count": null,
            "_view_module": "@jupyter-widgets/base",
            "_view_module_version": "1.2.0",
            "_view_name": "LayoutView",
            "align_content": null,
            "align_items": null,
            "align_self": null,
            "border": null,
            "bottom": null,
            "display": null,
            "flex": null,
            "flex_flow": null,
            "grid_area": null,
            "grid_auto_columns": null,
            "grid_auto_flow": null,
            "grid_auto_rows": null,
            "grid_column": null,
            "grid_gap": null,
            "grid_row": null,
            "grid_template_areas": null,
            "grid_template_columns": null,
            "grid_template_rows": null,
            "height": null,
            "justify_content": null,
            "justify_items": null,
            "left": null,
            "margin": null,
            "max_height": null,
            "max_width": null,
            "min_height": null,
            "min_width": null,
            "object_fit": null,
            "object_position": null,
            "order": null,
            "overflow": null,
            "overflow_x": null,
            "overflow_y": null,
            "padding": null,
            "right": null,
            "top": null,
            "visibility": null,
            "width": null
          }
        },
        "d14aa74f488844098cafca8eaae40515": {
          "model_module": "@jupyter-widgets/base",
          "model_name": "LayoutModel",
          "model_module_version": "1.2.0",
          "state": {
            "_model_module": "@jupyter-widgets/base",
            "_model_module_version": "1.2.0",
            "_model_name": "LayoutModel",
            "_view_count": null,
            "_view_module": "@jupyter-widgets/base",
            "_view_module_version": "1.2.0",
            "_view_name": "LayoutView",
            "align_content": null,
            "align_items": null,
            "align_self": null,
            "border": null,
            "bottom": null,
            "display": null,
            "flex": null,
            "flex_flow": null,
            "grid_area": null,
            "grid_auto_columns": null,
            "grid_auto_flow": null,
            "grid_auto_rows": null,
            "grid_column": null,
            "grid_gap": null,
            "grid_row": null,
            "grid_template_areas": null,
            "grid_template_columns": null,
            "grid_template_rows": null,
            "height": null,
            "justify_content": null,
            "justify_items": null,
            "left": null,
            "margin": null,
            "max_height": null,
            "max_width": null,
            "min_height": null,
            "min_width": null,
            "object_fit": null,
            "object_position": null,
            "order": null,
            "overflow": null,
            "overflow_x": null,
            "overflow_y": null,
            "padding": null,
            "right": null,
            "top": null,
            "visibility": null,
            "width": null
          }
        },
        "8683751fd1e34be88a3778ce62dac09d": {
          "model_module": "@jupyter-widgets/controls",
          "model_name": "DescriptionStyleModel",
          "model_module_version": "1.5.0",
          "state": {
            "_model_module": "@jupyter-widgets/controls",
            "_model_module_version": "1.5.0",
            "_model_name": "DescriptionStyleModel",
            "_view_count": null,
            "_view_module": "@jupyter-widgets/base",
            "_view_module_version": "1.2.0",
            "_view_name": "StyleView",
            "description_width": ""
          }
        },
        "8df0de627d034cb59a00858a576d4d00": {
          "model_module": "@jupyter-widgets/base",
          "model_name": "LayoutModel",
          "model_module_version": "1.2.0",
          "state": {
            "_model_module": "@jupyter-widgets/base",
            "_model_module_version": "1.2.0",
            "_model_name": "LayoutModel",
            "_view_count": null,
            "_view_module": "@jupyter-widgets/base",
            "_view_module_version": "1.2.0",
            "_view_name": "LayoutView",
            "align_content": null,
            "align_items": null,
            "align_self": null,
            "border": null,
            "bottom": null,
            "display": null,
            "flex": null,
            "flex_flow": null,
            "grid_area": null,
            "grid_auto_columns": null,
            "grid_auto_flow": null,
            "grid_auto_rows": null,
            "grid_column": null,
            "grid_gap": null,
            "grid_row": null,
            "grid_template_areas": null,
            "grid_template_columns": null,
            "grid_template_rows": null,
            "height": null,
            "justify_content": null,
            "justify_items": null,
            "left": null,
            "margin": null,
            "max_height": null,
            "max_width": null,
            "min_height": null,
            "min_width": null,
            "object_fit": null,
            "object_position": null,
            "order": null,
            "overflow": null,
            "overflow_x": null,
            "overflow_y": null,
            "padding": null,
            "right": null,
            "top": null,
            "visibility": null,
            "width": null
          }
        },
        "2ab0ab18242f45e6b0d971f4795ceec0": {
          "model_module": "@jupyter-widgets/controls",
          "model_name": "ProgressStyleModel",
          "model_module_version": "1.5.0",
          "state": {
            "_model_module": "@jupyter-widgets/controls",
            "_model_module_version": "1.5.0",
            "_model_name": "ProgressStyleModel",
            "_view_count": null,
            "_view_module": "@jupyter-widgets/base",
            "_view_module_version": "1.2.0",
            "_view_name": "StyleView",
            "bar_color": null,
            "description_width": ""
          }
        },
        "1d71cb63403f4636a03a86dd58adb896": {
          "model_module": "@jupyter-widgets/base",
          "model_name": "LayoutModel",
          "model_module_version": "1.2.0",
          "state": {
            "_model_module": "@jupyter-widgets/base",
            "_model_module_version": "1.2.0",
            "_model_name": "LayoutModel",
            "_view_count": null,
            "_view_module": "@jupyter-widgets/base",
            "_view_module_version": "1.2.0",
            "_view_name": "LayoutView",
            "align_content": null,
            "align_items": null,
            "align_self": null,
            "border": null,
            "bottom": null,
            "display": null,
            "flex": null,
            "flex_flow": null,
            "grid_area": null,
            "grid_auto_columns": null,
            "grid_auto_flow": null,
            "grid_auto_rows": null,
            "grid_column": null,
            "grid_gap": null,
            "grid_row": null,
            "grid_template_areas": null,
            "grid_template_columns": null,
            "grid_template_rows": null,
            "height": null,
            "justify_content": null,
            "justify_items": null,
            "left": null,
            "margin": null,
            "max_height": null,
            "max_width": null,
            "min_height": null,
            "min_width": null,
            "object_fit": null,
            "object_position": null,
            "order": null,
            "overflow": null,
            "overflow_x": null,
            "overflow_y": null,
            "padding": null,
            "right": null,
            "top": null,
            "visibility": null,
            "width": null
          }
        },
        "099a8d65b85d49219949f95e41871883": {
          "model_module": "@jupyter-widgets/controls",
          "model_name": "DescriptionStyleModel",
          "model_module_version": "1.5.0",
          "state": {
            "_model_module": "@jupyter-widgets/controls",
            "_model_module_version": "1.5.0",
            "_model_name": "DescriptionStyleModel",
            "_view_count": null,
            "_view_module": "@jupyter-widgets/base",
            "_view_module_version": "1.2.0",
            "_view_name": "StyleView",
            "description_width": ""
          }
        },
        "865e82c4dde348f8b824a078b6b15b53": {
          "model_module": "@jupyter-widgets/controls",
          "model_name": "HBoxModel",
          "model_module_version": "1.5.0",
          "state": {
            "_dom_classes": [],
            "_model_module": "@jupyter-widgets/controls",
            "_model_module_version": "1.5.0",
            "_model_name": "HBoxModel",
            "_view_count": null,
            "_view_module": "@jupyter-widgets/controls",
            "_view_module_version": "1.5.0",
            "_view_name": "HBoxView",
            "box_style": "",
            "children": [
              "IPY_MODEL_62e9b69912f34eb19c271076eb26a7b9",
              "IPY_MODEL_aa92cf385e9b460ea5df9e72df4a9b66",
              "IPY_MODEL_ea2773480931427f9da37b6b21aeb765"
            ],
            "layout": "IPY_MODEL_e992c789a1aa49e2b64305441086c50d"
          }
        },
        "62e9b69912f34eb19c271076eb26a7b9": {
          "model_module": "@jupyter-widgets/controls",
          "model_name": "HTMLModel",
          "model_module_version": "1.5.0",
          "state": {
            "_dom_classes": [],
            "_model_module": "@jupyter-widgets/controls",
            "_model_module_version": "1.5.0",
            "_model_name": "HTMLModel",
            "_view_count": null,
            "_view_module": "@jupyter-widgets/controls",
            "_view_module_version": "1.5.0",
            "_view_name": "HTMLView",
            "description": "",
            "description_tooltip": null,
            "layout": "IPY_MODEL_75376347226443a0abff4b67836c5e69",
            "placeholder": "​",
            "style": "IPY_MODEL_681a2f74d2ad442ca327d40c8a83521d",
            "value": "Map: 100%"
          }
        },
        "aa92cf385e9b460ea5df9e72df4a9b66": {
          "model_module": "@jupyter-widgets/controls",
          "model_name": "FloatProgressModel",
          "model_module_version": "1.5.0",
          "state": {
            "_dom_classes": [],
            "_model_module": "@jupyter-widgets/controls",
            "_model_module_version": "1.5.0",
            "_model_name": "FloatProgressModel",
            "_view_count": null,
            "_view_module": "@jupyter-widgets/controls",
            "_view_module_version": "1.5.0",
            "_view_name": "ProgressView",
            "bar_style": "success",
            "description": "",
            "description_tooltip": null,
            "layout": "IPY_MODEL_93e4613cbb1d4b5b881dbc6bca5d86c4",
            "max": 34,
            "min": 0,
            "orientation": "horizontal",
            "style": "IPY_MODEL_2b13bcb3b1fd44af917c73236f2632e3",
            "value": 34
          }
        },
        "ea2773480931427f9da37b6b21aeb765": {
          "model_module": "@jupyter-widgets/controls",
          "model_name": "HTMLModel",
          "model_module_version": "1.5.0",
          "state": {
            "_dom_classes": [],
            "_model_module": "@jupyter-widgets/controls",
            "_model_module_version": "1.5.0",
            "_model_name": "HTMLModel",
            "_view_count": null,
            "_view_module": "@jupyter-widgets/controls",
            "_view_module_version": "1.5.0",
            "_view_name": "HTMLView",
            "description": "",
            "description_tooltip": null,
            "layout": "IPY_MODEL_96ac56750f0c4881be2aa1177eac467d",
            "placeholder": "​",
            "style": "IPY_MODEL_3d6f9c090d8b4fe2b7d71b3307559659",
            "value": " 34/34 [00:00&lt;00:00, 300.35 examples/s]"
          }
        },
        "e992c789a1aa49e2b64305441086c50d": {
          "model_module": "@jupyter-widgets/base",
          "model_name": "LayoutModel",
          "model_module_version": "1.2.0",
          "state": {
            "_model_module": "@jupyter-widgets/base",
            "_model_module_version": "1.2.0",
            "_model_name": "LayoutModel",
            "_view_count": null,
            "_view_module": "@jupyter-widgets/base",
            "_view_module_version": "1.2.0",
            "_view_name": "LayoutView",
            "align_content": null,
            "align_items": null,
            "align_self": null,
            "border": null,
            "bottom": null,
            "display": null,
            "flex": null,
            "flex_flow": null,
            "grid_area": null,
            "grid_auto_columns": null,
            "grid_auto_flow": null,
            "grid_auto_rows": null,
            "grid_column": null,
            "grid_gap": null,
            "grid_row": null,
            "grid_template_areas": null,
            "grid_template_columns": null,
            "grid_template_rows": null,
            "height": null,
            "justify_content": null,
            "justify_items": null,
            "left": null,
            "margin": null,
            "max_height": null,
            "max_width": null,
            "min_height": null,
            "min_width": null,
            "object_fit": null,
            "object_position": null,
            "order": null,
            "overflow": null,
            "overflow_x": null,
            "overflow_y": null,
            "padding": null,
            "right": null,
            "top": null,
            "visibility": null,
            "width": null
          }
        },
        "75376347226443a0abff4b67836c5e69": {
          "model_module": "@jupyter-widgets/base",
          "model_name": "LayoutModel",
          "model_module_version": "1.2.0",
          "state": {
            "_model_module": "@jupyter-widgets/base",
            "_model_module_version": "1.2.0",
            "_model_name": "LayoutModel",
            "_view_count": null,
            "_view_module": "@jupyter-widgets/base",
            "_view_module_version": "1.2.0",
            "_view_name": "LayoutView",
            "align_content": null,
            "align_items": null,
            "align_self": null,
            "border": null,
            "bottom": null,
            "display": null,
            "flex": null,
            "flex_flow": null,
            "grid_area": null,
            "grid_auto_columns": null,
            "grid_auto_flow": null,
            "grid_auto_rows": null,
            "grid_column": null,
            "grid_gap": null,
            "grid_row": null,
            "grid_template_areas": null,
            "grid_template_columns": null,
            "grid_template_rows": null,
            "height": null,
            "justify_content": null,
            "justify_items": null,
            "left": null,
            "margin": null,
            "max_height": null,
            "max_width": null,
            "min_height": null,
            "min_width": null,
            "object_fit": null,
            "object_position": null,
            "order": null,
            "overflow": null,
            "overflow_x": null,
            "overflow_y": null,
            "padding": null,
            "right": null,
            "top": null,
            "visibility": null,
            "width": null
          }
        },
        "681a2f74d2ad442ca327d40c8a83521d": {
          "model_module": "@jupyter-widgets/controls",
          "model_name": "DescriptionStyleModel",
          "model_module_version": "1.5.0",
          "state": {
            "_model_module": "@jupyter-widgets/controls",
            "_model_module_version": "1.5.0",
            "_model_name": "DescriptionStyleModel",
            "_view_count": null,
            "_view_module": "@jupyter-widgets/base",
            "_view_module_version": "1.2.0",
            "_view_name": "StyleView",
            "description_width": ""
          }
        },
        "93e4613cbb1d4b5b881dbc6bca5d86c4": {
          "model_module": "@jupyter-widgets/base",
          "model_name": "LayoutModel",
          "model_module_version": "1.2.0",
          "state": {
            "_model_module": "@jupyter-widgets/base",
            "_model_module_version": "1.2.0",
            "_model_name": "LayoutModel",
            "_view_count": null,
            "_view_module": "@jupyter-widgets/base",
            "_view_module_version": "1.2.0",
            "_view_name": "LayoutView",
            "align_content": null,
            "align_items": null,
            "align_self": null,
            "border": null,
            "bottom": null,
            "display": null,
            "flex": null,
            "flex_flow": null,
            "grid_area": null,
            "grid_auto_columns": null,
            "grid_auto_flow": null,
            "grid_auto_rows": null,
            "grid_column": null,
            "grid_gap": null,
            "grid_row": null,
            "grid_template_areas": null,
            "grid_template_columns": null,
            "grid_template_rows": null,
            "height": null,
            "justify_content": null,
            "justify_items": null,
            "left": null,
            "margin": null,
            "max_height": null,
            "max_width": null,
            "min_height": null,
            "min_width": null,
            "object_fit": null,
            "object_position": null,
            "order": null,
            "overflow": null,
            "overflow_x": null,
            "overflow_y": null,
            "padding": null,
            "right": null,
            "top": null,
            "visibility": null,
            "width": null
          }
        },
        "2b13bcb3b1fd44af917c73236f2632e3": {
          "model_module": "@jupyter-widgets/controls",
          "model_name": "ProgressStyleModel",
          "model_module_version": "1.5.0",
          "state": {
            "_model_module": "@jupyter-widgets/controls",
            "_model_module_version": "1.5.0",
            "_model_name": "ProgressStyleModel",
            "_view_count": null,
            "_view_module": "@jupyter-widgets/base",
            "_view_module_version": "1.2.0",
            "_view_name": "StyleView",
            "bar_color": null,
            "description_width": ""
          }
        },
        "96ac56750f0c4881be2aa1177eac467d": {
          "model_module": "@jupyter-widgets/base",
          "model_name": "LayoutModel",
          "model_module_version": "1.2.0",
          "state": {
            "_model_module": "@jupyter-widgets/base",
            "_model_module_version": "1.2.0",
            "_model_name": "LayoutModel",
            "_view_count": null,
            "_view_module": "@jupyter-widgets/base",
            "_view_module_version": "1.2.0",
            "_view_name": "LayoutView",
            "align_content": null,
            "align_items": null,
            "align_self": null,
            "border": null,
            "bottom": null,
            "display": null,
            "flex": null,
            "flex_flow": null,
            "grid_area": null,
            "grid_auto_columns": null,
            "grid_auto_flow": null,
            "grid_auto_rows": null,
            "grid_column": null,
            "grid_gap": null,
            "grid_row": null,
            "grid_template_areas": null,
            "grid_template_columns": null,
            "grid_template_rows": null,
            "height": null,
            "justify_content": null,
            "justify_items": null,
            "left": null,
            "margin": null,
            "max_height": null,
            "max_width": null,
            "min_height": null,
            "min_width": null,
            "object_fit": null,
            "object_position": null,
            "order": null,
            "overflow": null,
            "overflow_x": null,
            "overflow_y": null,
            "padding": null,
            "right": null,
            "top": null,
            "visibility": null,
            "width": null
          }
        },
        "3d6f9c090d8b4fe2b7d71b3307559659": {
          "model_module": "@jupyter-widgets/controls",
          "model_name": "DescriptionStyleModel",
          "model_module_version": "1.5.0",
          "state": {
            "_model_module": "@jupyter-widgets/controls",
            "_model_module_version": "1.5.0",
            "_model_name": "DescriptionStyleModel",
            "_view_count": null,
            "_view_module": "@jupyter-widgets/base",
            "_view_module_version": "1.2.0",
            "_view_name": "StyleView",
            "description_width": ""
          }
        },
        "17868bdf975240d09cd02b5b6c00710d": {
          "model_module": "@jupyter-widgets/controls",
          "model_name": "HBoxModel",
          "model_module_version": "1.5.0",
          "state": {
            "_dom_classes": [],
            "_model_module": "@jupyter-widgets/controls",
            "_model_module_version": "1.5.0",
            "_model_name": "HBoxModel",
            "_view_count": null,
            "_view_module": "@jupyter-widgets/controls",
            "_view_module_version": "1.5.0",
            "_view_name": "HBoxView",
            "box_style": "",
            "children": [
              "IPY_MODEL_c8866a4ec7604f4d919deb9706adb08f",
              "IPY_MODEL_f233012870864e1e8285880f499c9193",
              "IPY_MODEL_8a31f7b939ff4426ad3690edac81e7d6"
            ],
            "layout": "IPY_MODEL_483aab149c074ef59a611f52b1ca548e"
          }
        },
        "c8866a4ec7604f4d919deb9706adb08f": {
          "model_module": "@jupyter-widgets/controls",
          "model_name": "HTMLModel",
          "model_module_version": "1.5.0",
          "state": {
            "_dom_classes": [],
            "_model_module": "@jupyter-widgets/controls",
            "_model_module_version": "1.5.0",
            "_model_name": "HTMLModel",
            "_view_count": null,
            "_view_module": "@jupyter-widgets/controls",
            "_view_module_version": "1.5.0",
            "_view_name": "HTMLView",
            "description": "",
            "description_tooltip": null,
            "layout": "IPY_MODEL_5d0ab7721e064ffa910f8d8151d92228",
            "placeholder": "​",
            "style": "IPY_MODEL_2d42c08af64c4b3faac67b1323468ac1",
            "value": "Loading checkpoint shards:   0%"
          }
        },
        "f233012870864e1e8285880f499c9193": {
          "model_module": "@jupyter-widgets/controls",
          "model_name": "FloatProgressModel",
          "model_module_version": "1.5.0",
          "state": {
            "_dom_classes": [],
            "_model_module": "@jupyter-widgets/controls",
            "_model_module_version": "1.5.0",
            "_model_name": "FloatProgressModel",
            "_view_count": null,
            "_view_module": "@jupyter-widgets/controls",
            "_view_module_version": "1.5.0",
            "_view_name": "ProgressView",
            "bar_style": "",
            "description": "",
            "description_tooltip": null,
            "layout": "IPY_MODEL_fc32160a8b204aee8bc8ec1a5db8a076",
            "max": 3,
            "min": 0,
            "orientation": "horizontal",
            "style": "IPY_MODEL_82d78e54c7e84b2f989b3a355beff32c",
            "value": 0
          }
        },
        "8a31f7b939ff4426ad3690edac81e7d6": {
          "model_module": "@jupyter-widgets/controls",
          "model_name": "HTMLModel",
          "model_module_version": "1.5.0",
          "state": {
            "_dom_classes": [],
            "_model_module": "@jupyter-widgets/controls",
            "_model_module_version": "1.5.0",
            "_model_name": "HTMLModel",
            "_view_count": null,
            "_view_module": "@jupyter-widgets/controls",
            "_view_module_version": "1.5.0",
            "_view_name": "HTMLView",
            "description": "",
            "description_tooltip": null,
            "layout": "IPY_MODEL_0592d52774a047b8a89c14411713c583",
            "placeholder": "​",
            "style": "IPY_MODEL_723efc765a764129897e502d80511e49",
            "value": " 0/3 [00:00&lt;?, ?it/s]"
          }
        },
        "483aab149c074ef59a611f52b1ca548e": {
          "model_module": "@jupyter-widgets/base",
          "model_name": "LayoutModel",
          "model_module_version": "1.2.0",
          "state": {
            "_model_module": "@jupyter-widgets/base",
            "_model_module_version": "1.2.0",
            "_model_name": "LayoutModel",
            "_view_count": null,
            "_view_module": "@jupyter-widgets/base",
            "_view_module_version": "1.2.0",
            "_view_name": "LayoutView",
            "align_content": null,
            "align_items": null,
            "align_self": null,
            "border": null,
            "bottom": null,
            "display": null,
            "flex": null,
            "flex_flow": null,
            "grid_area": null,
            "grid_auto_columns": null,
            "grid_auto_flow": null,
            "grid_auto_rows": null,
            "grid_column": null,
            "grid_gap": null,
            "grid_row": null,
            "grid_template_areas": null,
            "grid_template_columns": null,
            "grid_template_rows": null,
            "height": null,
            "justify_content": null,
            "justify_items": null,
            "left": null,
            "margin": null,
            "max_height": null,
            "max_width": null,
            "min_height": null,
            "min_width": null,
            "object_fit": null,
            "object_position": null,
            "order": null,
            "overflow": null,
            "overflow_x": null,
            "overflow_y": null,
            "padding": null,
            "right": null,
            "top": null,
            "visibility": null,
            "width": null
          }
        },
        "5d0ab7721e064ffa910f8d8151d92228": {
          "model_module": "@jupyter-widgets/base",
          "model_name": "LayoutModel",
          "model_module_version": "1.2.0",
          "state": {
            "_model_module": "@jupyter-widgets/base",
            "_model_module_version": "1.2.0",
            "_model_name": "LayoutModel",
            "_view_count": null,
            "_view_module": "@jupyter-widgets/base",
            "_view_module_version": "1.2.0",
            "_view_name": "LayoutView",
            "align_content": null,
            "align_items": null,
            "align_self": null,
            "border": null,
            "bottom": null,
            "display": null,
            "flex": null,
            "flex_flow": null,
            "grid_area": null,
            "grid_auto_columns": null,
            "grid_auto_flow": null,
            "grid_auto_rows": null,
            "grid_column": null,
            "grid_gap": null,
            "grid_row": null,
            "grid_template_areas": null,
            "grid_template_columns": null,
            "grid_template_rows": null,
            "height": null,
            "justify_content": null,
            "justify_items": null,
            "left": null,
            "margin": null,
            "max_height": null,
            "max_width": null,
            "min_height": null,
            "min_width": null,
            "object_fit": null,
            "object_position": null,
            "order": null,
            "overflow": null,
            "overflow_x": null,
            "overflow_y": null,
            "padding": null,
            "right": null,
            "top": null,
            "visibility": null,
            "width": null
          }
        },
        "2d42c08af64c4b3faac67b1323468ac1": {
          "model_module": "@jupyter-widgets/controls",
          "model_name": "DescriptionStyleModel",
          "model_module_version": "1.5.0",
          "state": {
            "_model_module": "@jupyter-widgets/controls",
            "_model_module_version": "1.5.0",
            "_model_name": "DescriptionStyleModel",
            "_view_count": null,
            "_view_module": "@jupyter-widgets/base",
            "_view_module_version": "1.2.0",
            "_view_name": "StyleView",
            "description_width": ""
          }
        },
        "fc32160a8b204aee8bc8ec1a5db8a076": {
          "model_module": "@jupyter-widgets/base",
          "model_name": "LayoutModel",
          "model_module_version": "1.2.0",
          "state": {
            "_model_module": "@jupyter-widgets/base",
            "_model_module_version": "1.2.0",
            "_model_name": "LayoutModel",
            "_view_count": null,
            "_view_module": "@jupyter-widgets/base",
            "_view_module_version": "1.2.0",
            "_view_name": "LayoutView",
            "align_content": null,
            "align_items": null,
            "align_self": null,
            "border": null,
            "bottom": null,
            "display": null,
            "flex": null,
            "flex_flow": null,
            "grid_area": null,
            "grid_auto_columns": null,
            "grid_auto_flow": null,
            "grid_auto_rows": null,
            "grid_column": null,
            "grid_gap": null,
            "grid_row": null,
            "grid_template_areas": null,
            "grid_template_columns": null,
            "grid_template_rows": null,
            "height": null,
            "justify_content": null,
            "justify_items": null,
            "left": null,
            "margin": null,
            "max_height": null,
            "max_width": null,
            "min_height": null,
            "min_width": null,
            "object_fit": null,
            "object_position": null,
            "order": null,
            "overflow": null,
            "overflow_x": null,
            "overflow_y": null,
            "padding": null,
            "right": null,
            "top": null,
            "visibility": null,
            "width": null
          }
        },
        "82d78e54c7e84b2f989b3a355beff32c": {
          "model_module": "@jupyter-widgets/controls",
          "model_name": "ProgressStyleModel",
          "model_module_version": "1.5.0",
          "state": {
            "_model_module": "@jupyter-widgets/controls",
            "_model_module_version": "1.5.0",
            "_model_name": "ProgressStyleModel",
            "_view_count": null,
            "_view_module": "@jupyter-widgets/base",
            "_view_module_version": "1.2.0",
            "_view_name": "StyleView",
            "bar_color": null,
            "description_width": ""
          }
        },
        "0592d52774a047b8a89c14411713c583": {
          "model_module": "@jupyter-widgets/base",
          "model_name": "LayoutModel",
          "model_module_version": "1.2.0",
          "state": {
            "_model_module": "@jupyter-widgets/base",
            "_model_module_version": "1.2.0",
            "_model_name": "LayoutModel",
            "_view_count": null,
            "_view_module": "@jupyter-widgets/base",
            "_view_module_version": "1.2.0",
            "_view_name": "LayoutView",
            "align_content": null,
            "align_items": null,
            "align_self": null,
            "border": null,
            "bottom": null,
            "display": null,
            "flex": null,
            "flex_flow": null,
            "grid_area": null,
            "grid_auto_columns": null,
            "grid_auto_flow": null,
            "grid_auto_rows": null,
            "grid_column": null,
            "grid_gap": null,
            "grid_row": null,
            "grid_template_areas": null,
            "grid_template_columns": null,
            "grid_template_rows": null,
            "height": null,
            "justify_content": null,
            "justify_items": null,
            "left": null,
            "margin": null,
            "max_height": null,
            "max_width": null,
            "min_height": null,
            "min_width": null,
            "object_fit": null,
            "object_position": null,
            "order": null,
            "overflow": null,
            "overflow_x": null,
            "overflow_y": null,
            "padding": null,
            "right": null,
            "top": null,
            "visibility": null,
            "width": null
          }
        },
        "723efc765a764129897e502d80511e49": {
          "model_module": "@jupyter-widgets/controls",
          "model_name": "DescriptionStyleModel",
          "model_module_version": "1.5.0",
          "state": {
            "_model_module": "@jupyter-widgets/controls",
            "_model_module_version": "1.5.0",
            "_model_name": "DescriptionStyleModel",
            "_view_count": null,
            "_view_module": "@jupyter-widgets/base",
            "_view_module_version": "1.2.0",
            "_view_name": "StyleView",
            "description_width": ""
          }
        }
      }
    }
  },
  "nbformat": 4,
  "nbformat_minor": 0
}